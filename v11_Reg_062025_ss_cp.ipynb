{
  "nbformat": 4,
  "nbformat_minor": 0,
  "metadata": {
    "colab": {
      "provenance": [],
      "include_colab_link": true
    },
    "kernelspec": {
      "name": "python3",
      "display_name": "Python 3"
    },
    "language_info": {
      "name": "python"
    }
  },
  "cells": [
    {
      "cell_type": "markdown",
      "metadata": {
        "id": "view-in-github",
        "colab_type": "text"
      },
      "source": [
        "<a href=\"https://colab.research.google.com/github/Ssahu620/ss-Capstone-Project/blob/main/v11_Reg_062025_ss_cp.ipynb\" target=\"_parent\"><img src=\"https://colab.research.google.com/assets/colab-badge.svg\" alt=\"Open In Colab\"/></a>"
      ]
    },
    {
      "cell_type": "code",
      "execution_count": 63,
      "metadata": {
        "id": "tT-TzyESH55g",
        "colab": {
          "base_uri": "https://localhost:8080/"
        },
        "outputId": "5828ddee-29df-4352-cbae-345dcf2aa336"
      },
      "outputs": [
        {
          "output_type": "stream",
          "name": "stdout",
          "text": [
            "Requirement already satisfied: mlxtend in /usr/local/lib/python3.11/dist-packages (0.23.4)\n",
            "Requirement already satisfied: scipy>=1.2.1 in /usr/local/lib/python3.11/dist-packages (from mlxtend) (1.16.1)\n",
            "Requirement already satisfied: numpy>=1.16.2 in /usr/local/lib/python3.11/dist-packages (from mlxtend) (2.0.2)\n",
            "Requirement already satisfied: pandas>=0.24.2 in /usr/local/lib/python3.11/dist-packages (from mlxtend) (2.2.2)\n",
            "Requirement already satisfied: scikit-learn>=1.3.1 in /usr/local/lib/python3.11/dist-packages (from mlxtend) (1.6.1)\n",
            "Requirement already satisfied: matplotlib>=3.0.0 in /usr/local/lib/python3.11/dist-packages (from mlxtend) (3.10.0)\n",
            "Requirement already satisfied: joblib>=0.13.2 in /usr/local/lib/python3.11/dist-packages (from mlxtend) (1.5.1)\n",
            "Requirement already satisfied: contourpy>=1.0.1 in /usr/local/lib/python3.11/dist-packages (from matplotlib>=3.0.0->mlxtend) (1.3.3)\n",
            "Requirement already satisfied: cycler>=0.10 in /usr/local/lib/python3.11/dist-packages (from matplotlib>=3.0.0->mlxtend) (0.12.1)\n",
            "Requirement already satisfied: fonttools>=4.22.0 in /usr/local/lib/python3.11/dist-packages (from matplotlib>=3.0.0->mlxtend) (4.59.0)\n",
            "Requirement already satisfied: kiwisolver>=1.3.1 in /usr/local/lib/python3.11/dist-packages (from matplotlib>=3.0.0->mlxtend) (1.4.8)\n",
            "Requirement already satisfied: packaging>=20.0 in /usr/local/lib/python3.11/dist-packages (from matplotlib>=3.0.0->mlxtend) (25.0)\n",
            "Requirement already satisfied: pillow>=8 in /usr/local/lib/python3.11/dist-packages (from matplotlib>=3.0.0->mlxtend) (11.3.0)\n",
            "Requirement already satisfied: pyparsing>=2.3.1 in /usr/local/lib/python3.11/dist-packages (from matplotlib>=3.0.0->mlxtend) (3.2.3)\n",
            "Requirement already satisfied: python-dateutil>=2.7 in /usr/local/lib/python3.11/dist-packages (from matplotlib>=3.0.0->mlxtend) (2.9.0.post0)\n",
            "Requirement already satisfied: pytz>=2020.1 in /usr/local/lib/python3.11/dist-packages (from pandas>=0.24.2->mlxtend) (2025.2)\n",
            "Requirement already satisfied: tzdata>=2022.7 in /usr/local/lib/python3.11/dist-packages (from pandas>=0.24.2->mlxtend) (2025.2)\n",
            "Requirement already satisfied: threadpoolctl>=3.1.0 in /usr/local/lib/python3.11/dist-packages (from scikit-learn>=1.3.1->mlxtend) (3.6.0)\n",
            "Requirement already satisfied: six>=1.5 in /usr/local/lib/python3.11/dist-packages (from python-dateutil>=2.7->matplotlib>=3.0.0->mlxtend) (1.17.0)\n",
            "Requirement already satisfied: scikit-learn in /usr/local/lib/python3.11/dist-packages (1.6.1)\n",
            "Requirement already satisfied: numpy>=1.19.5 in /usr/local/lib/python3.11/dist-packages (from scikit-learn) (2.0.2)\n",
            "Requirement already satisfied: scipy>=1.6.0 in /usr/local/lib/python3.11/dist-packages (from scikit-learn) (1.16.1)\n",
            "Requirement already satisfied: joblib>=1.2.0 in /usr/local/lib/python3.11/dist-packages (from scikit-learn) (1.5.1)\n",
            "Requirement already satisfied: threadpoolctl>=3.1.0 in /usr/local/lib/python3.11/dist-packages (from scikit-learn) (3.6.0)\n"
          ]
        }
      ],
      "source": [
        "import pandas as pd\n",
        "import numpy as np\n",
        "import matplotlib.pyplot as plt\n",
        "import seaborn as sns\n",
        "from statsmodels.graphics.tsaplots import plot_acf\n",
        "from sklearn.model_selection import train_test_split\n",
        "from sklearn.metrics import mean_squared_error\n",
        "from sklearn.preprocessing import LabelEncoder\n",
        "from sklearn.linear_model import LinearRegression\n",
        "from sklearn.preprocessing import StandardScaler\n",
        "from sklearn.preprocessing import TargetEncoder\n",
        "from sklearn.model_selection import GridSearchCV\n",
        "from sklearn.pipeline import Pipeline\n",
        "from sklearn.inspection import permutation_importance\n",
        "from sklearn.ensemble import RandomForestRegressor\n",
        "\n",
        "\n",
        "!pip install mlxtend\n",
        "\n",
        "from mlxtend.feature_selection import SequentialFeatureSelector as SFS\n",
        "from mlxtend.plotting import plot_sequential_feature_selection as plot_sfs\n",
        "\n",
        "!pip install scikit-learn\n"
      ]
    },
    {
      "cell_type": "markdown",
      "source": [],
      "metadata": {
        "id": "VVNVEe5OT-W8"
      }
    },
    {
      "cell_type": "code",
      "source": [
        "df_2025 = pd.read_csv('data/ss_2025_7H_Consol.csv')\n",
        "df_2025.head()\n",
        "df_2025.info()\n",
        "df_2025.shape"
      ],
      "metadata": {
        "colab": {
          "base_uri": "https://localhost:8080/"
        },
        "id": "NBFDUglDIz6W",
        "outputId": "b2806123-76bb-40ec-9ad3-b4b450502c82"
      },
      "execution_count": 64,
      "outputs": [
        {
          "output_type": "stream",
          "name": "stderr",
          "text": [
            "/tmp/ipython-input-2686906312.py:1: DtypeWarning: Columns (14) have mixed types. Specify dtype option on import or set low_memory=False.\n",
            "  df_2025 = pd.read_csv('data/ss_2025_7H_Consol.csv')\n"
          ]
        },
        {
          "output_type": "stream",
          "name": "stdout",
          "text": [
            "<class 'pandas.core.frame.DataFrame'>\n",
            "RangeIndex: 196448 entries, 0 to 196447\n",
            "Data columns (total 16 columns):\n",
            " #   Column                          Non-Null Count   Dtype \n",
            "---  ------                          --------------   ----- \n",
            " 0   Stay Year Calendar              196448 non-null  int64 \n",
            " 1   Stay YYYYMM                     196448 non-null  int64 \n",
            " 2   Stay DOW Text                   196448 non-null  object\n",
            " 3   Stay Date                       196448 non-null  object\n",
            " 4   Booking Date                    196448 non-null  object\n",
            " 5   MARSHA Code                     196448 non-null  object\n",
            " 6   Market Category                 196448 non-null  object\n",
            " 7   Market Segment Name for Report  196448 non-null  object\n",
            " 8   Market Prfx Name for Report     196448 non-null  object\n",
            " 9   Rate Program Code               196448 non-null  object\n",
            " 10  Rate Program Name               191436 non-null  object\n",
            " 11  Channel Aggregate Name          196448 non-null  object\n",
            " 12  Room Pool Code                  196448 non-null  object\n",
            " 13  RoomNights                      196448 non-null  int64 \n",
            " 14  ADR (Net)                       196448 non-null  object\n",
            " 15   Revenue (Net)                  196448 non-null  object\n",
            "dtypes: int64(3), object(13)\n",
            "memory usage: 24.0+ MB\n"
          ]
        },
        {
          "output_type": "execute_result",
          "data": {
            "text/plain": [
              "(196448, 16)"
            ]
          },
          "metadata": {},
          "execution_count": 64
        }
      ]
    },
    {
      "cell_type": "code",
      "source": [
        "df_2024 = pd.read_csv('data/ss_2024_7H_Consol.csv')\n",
        "df_2024.head()\n",
        "df_2024.info()\n",
        "df_2024.shape"
      ],
      "metadata": {
        "id": "fLbCkGstKuLJ",
        "colab": {
          "base_uri": "https://localhost:8080/"
        },
        "outputId": "74e73364-02fb-4592-f3f3-961218d80d03"
      },
      "execution_count": 65,
      "outputs": [
        {
          "output_type": "stream",
          "name": "stdout",
          "text": [
            "<class 'pandas.core.frame.DataFrame'>\n",
            "RangeIndex: 228640 entries, 0 to 228639\n",
            "Data columns (total 14 columns):\n",
            " #   Column                          Non-Null Count   Dtype \n",
            "---  ------                          --------------   ----- \n",
            " 0   Stay Year Calendar              228640 non-null  int64 \n",
            " 1   Stay YYYYMM                     228640 non-null  int64 \n",
            " 2   Stay DOW Text                   228640 non-null  object\n",
            " 3   Stay Date                       228640 non-null  object\n",
            " 4   MARSHA Code                     228640 non-null  object\n",
            " 5   Market Category                 228640 non-null  object\n",
            " 6   Market Segment Name for Report  228640 non-null  object\n",
            " 7   Market Prfx Name for Report     228491 non-null  object\n",
            " 8   Rate Program Code               228640 non-null  object\n",
            " 9   Rate Program Name               218276 non-null  object\n",
            " 10  Room Pool Code                  228640 non-null  object\n",
            " 11  RoomNights                      228640 non-null  int64 \n",
            " 12  ADR (Net)                       228640 non-null  object\n",
            " 13  Revenue (Net)                   228640 non-null  object\n",
            "dtypes: int64(3), object(11)\n",
            "memory usage: 24.4+ MB\n"
          ]
        },
        {
          "output_type": "execute_result",
          "data": {
            "text/plain": [
              "(228640, 14)"
            ]
          },
          "metadata": {},
          "execution_count": 65
        }
      ]
    },
    {
      "cell_type": "code",
      "source": [
        "df_2023 = pd.read_csv('data/ss_2023_7H_Consol.csv')\n",
        "df_2023.head()\n",
        "df_2023.info()\n",
        "df_2023.shape"
      ],
      "metadata": {
        "id": "-cr9cSB9LBuE",
        "colab": {
          "base_uri": "https://localhost:8080/"
        },
        "outputId": "83960f04-7521-4477-b30b-0e77dabf1c7a"
      },
      "execution_count": 66,
      "outputs": [
        {
          "output_type": "stream",
          "name": "stderr",
          "text": [
            "/tmp/ipython-input-744960569.py:1: DtypeWarning: Columns (12) have mixed types. Specify dtype option on import or set low_memory=False.\n",
            "  df_2023 = pd.read_csv('data/ss_2023_7H_Consol.csv')\n"
          ]
        },
        {
          "output_type": "stream",
          "name": "stdout",
          "text": [
            "<class 'pandas.core.frame.DataFrame'>\n",
            "RangeIndex: 202289 entries, 0 to 202288\n",
            "Data columns (total 14 columns):\n",
            " #   Column                          Non-Null Count   Dtype \n",
            "---  ------                          --------------   ----- \n",
            " 0   Stay Year Calendar              202289 non-null  int64 \n",
            " 1   Stay YYYYMM                     202289 non-null  int64 \n",
            " 2   Stay DOW Text                   202289 non-null  object\n",
            " 3   Stay Date                       202289 non-null  object\n",
            " 4   MARSHA Code                     202289 non-null  object\n",
            " 5   Market Category                 202289 non-null  object\n",
            " 6   Market Segment Name for Report  202289 non-null  object\n",
            " 7   Market Prfx Name for Report     202270 non-null  object\n",
            " 8   Rate Program Code               202289 non-null  object\n",
            " 9   Rate Program Name               194307 non-null  object\n",
            " 10  Room Pool Code                  202289 non-null  object\n",
            " 11  RoomNights                      202289 non-null  int64 \n",
            " 12  ADR (Net)                       202289 non-null  object\n",
            " 13  Revenue (Net)                   202289 non-null  object\n",
            "dtypes: int64(3), object(11)\n",
            "memory usage: 21.6+ MB\n"
          ]
        },
        {
          "output_type": "execute_result",
          "data": {
            "text/plain": [
              "(202289, 14)"
            ]
          },
          "metadata": {},
          "execution_count": 66
        }
      ]
    },
    {
      "cell_type": "code",
      "source": [
        "# ss-: find number of rows with na data in df_2025, df_2024 and in df_2023\n",
        "\n",
        "print(\"Number of rows with NA in df_2025:\", df_2025.isnull().any(axis=1).sum())\n",
        "print(\"Number of rows with NA in df_2024:\", df_2024.isnull().any(axis=1).sum())\n",
        "print(\"Number of rows with NA in df_2023:\", df_2023.isnull().any(axis=1).sum())"
      ],
      "metadata": {
        "id": "VHB9NeL_L9O_",
        "colab": {
          "base_uri": "https://localhost:8080/"
        },
        "outputId": "68ff9ea6-d99a-4d53-cd57-c5108b14ae97"
      },
      "execution_count": 67,
      "outputs": [
        {
          "output_type": "stream",
          "name": "stdout",
          "text": [
            "Number of rows with NA in df_2025: 5012\n",
            "Number of rows with NA in df_2024: 10364\n",
            "Number of rows with NA in df_2023: 7982\n"
          ]
        }
      ]
    },
    {
      "cell_type": "code",
      "source": [
        "# ss-: find number of rows with na data by column in df_2025, df_2024 and in df_2023\n",
        "\n",
        "print(\"\\nNumber of rows with NA per column in df_2025:\")\n",
        "print(df_2025.isnull().sum())\n",
        "\n",
        "print(\"\\nNumber of rows with NA per column in df_2024:\")\n",
        "print(df_2024.isnull().sum())\n",
        "\n",
        "print(\"\\nNumber of rows with NA per column in df_2023:\")\n",
        "print(df_2023.isnull().sum())"
      ],
      "metadata": {
        "id": "cyb1Nf-SMRiO",
        "colab": {
          "base_uri": "https://localhost:8080/"
        },
        "outputId": "f2ea5706-79b7-40f0-db93-c2b1253e497d"
      },
      "execution_count": 68,
      "outputs": [
        {
          "output_type": "stream",
          "name": "stdout",
          "text": [
            "\n",
            "Number of rows with NA per column in df_2025:\n",
            "Stay Year Calendar                   0\n",
            "Stay YYYYMM                          0\n",
            "Stay DOW Text                        0\n",
            "Stay Date                            0\n",
            "Booking Date                         0\n",
            "MARSHA Code                          0\n",
            "Market Category                      0\n",
            "Market Segment Name for Report       0\n",
            "Market Prfx Name for Report          0\n",
            "Rate Program Code                    0\n",
            "Rate Program Name                 5012\n",
            "Channel Aggregate Name               0\n",
            "Room Pool Code                       0\n",
            "RoomNights                           0\n",
            "ADR (Net)                            0\n",
            " Revenue (Net)                       0\n",
            "dtype: int64\n",
            "\n",
            "Number of rows with NA per column in df_2024:\n",
            "Stay Year Calendar                    0\n",
            "Stay YYYYMM                           0\n",
            "Stay DOW Text                         0\n",
            "Stay Date                             0\n",
            "MARSHA Code                           0\n",
            "Market Category                       0\n",
            "Market Segment Name for Report        0\n",
            "Market Prfx Name for Report         149\n",
            "Rate Program Code                     0\n",
            "Rate Program Name                 10364\n",
            "Room Pool Code                        0\n",
            "RoomNights                            0\n",
            "ADR (Net)                             0\n",
            "Revenue (Net)                         0\n",
            "dtype: int64\n",
            "\n",
            "Number of rows with NA per column in df_2023:\n",
            "Stay Year Calendar                   0\n",
            "Stay YYYYMM                          0\n",
            "Stay DOW Text                        0\n",
            "Stay Date                            0\n",
            "MARSHA Code                          0\n",
            "Market Category                      0\n",
            "Market Segment Name for Report       0\n",
            "Market Prfx Name for Report         19\n",
            "Rate Program Code                    0\n",
            "Rate Program Name                 7982\n",
            "Room Pool Code                       0\n",
            "RoomNights                           0\n",
            "ADR (Net)                            0\n",
            "Revenue (Net)                        0\n",
            "dtype: int64\n"
          ]
        }
      ]
    },
    {
      "cell_type": "code",
      "source": [
        "# ss-: find number of unique values in column \"Rate Program Name\" and \"Market Prfx Name for Report\" in df_2025, df_2024, and df_2023\n",
        "\n",
        "print(\"\\nUnique values in 'Rate Program Name' and 'Market Prfx Name for Report' in df_2025:\")\n",
        "print(\"Rate Program Name:\", df_2025['Rate Program Name'].nunique())\n",
        "print(\"Market Prfx Name for Report:\", df_2025['Market Prfx Name for Report'].nunique())\n",
        "\n",
        "print(\"\\nUnique values in 'Rate Program Name' and 'Market Prfx Name for Report' in df_2024:\")\n",
        "print(\"Rate Program Name:\", df_2024['Rate Program Name'].nunique())\n",
        "print(\"Market Prfx Name for Report:\", df_2024['Market Prfx Name for Report'].nunique())\n",
        "\n",
        "print(\"\\nUnique values in 'Rate Program Name' and 'Market Prfx Name for Report' in df_2023:\")\n",
        "print(\"Rate Program Name:\", df_2023['Rate Program Name'].nunique())\n",
        "print(\"Market Prfx Name for Report:\", df_2023['Market Prfx Name for Report'].nunique())"
      ],
      "metadata": {
        "id": "OQMDmIKkMpr1",
        "colab": {
          "base_uri": "https://localhost:8080/"
        },
        "outputId": "f62dae08-dca0-44e9-d2f2-1671efb2aaa9"
      },
      "execution_count": 69,
      "outputs": [
        {
          "output_type": "stream",
          "name": "stdout",
          "text": [
            "\n",
            "Unique values in 'Rate Program Name' and 'Market Prfx Name for Report' in df_2025:\n",
            "Rate Program Name: 474\n",
            "Market Prfx Name for Report: 266\n",
            "\n",
            "Unique values in 'Rate Program Name' and 'Market Prfx Name for Report' in df_2024:\n",
            "Rate Program Name: 582\n",
            "Market Prfx Name for Report: 629\n",
            "\n",
            "Unique values in 'Rate Program Name' and 'Market Prfx Name for Report' in df_2023:\n",
            "Rate Program Name: 589\n",
            "Market Prfx Name for Report: 581\n"
          ]
        }
      ]
    },
    {
      "cell_type": "code",
      "source": [
        "# ss-: Show top 10 frequency of \"Rate Program Name\" values and percentage of frequency in df_2025, df_2024, and df_2023\n",
        "\n",
        "def analyze_rate_program_frequency(df, year):\n",
        "  \"\"\"Shows the top 10 frequency and percentage of 'Rate Program Name' values.\"\"\"\n",
        "  print(f\"\\nTop 10 'Rate Program Name' frequency for {year}:\")\n",
        "  top_10 = df['Rate Program Name'].value_counts().head(10)\n",
        "  total_count = df['Rate Program Name'].count()\n",
        "  top_10_percent = (top_10 / total_count) * 100\n",
        "  frequency_df = pd.DataFrame({'Count': top_10, 'Percentage': top_10_percent})\n",
        "  print(frequency_df)\n",
        "\n",
        "analyze_rate_program_frequency(df_2025, 2025)\n",
        "analyze_rate_program_frequency(df_2024, 2024)\n",
        "analyze_rate_program_frequency(df_2023, 2023)"
      ],
      "metadata": {
        "id": "fSrI2b5RPd5g",
        "colab": {
          "base_uri": "https://localhost:8080/"
        },
        "outputId": "050d840c-1bdf-4b62-89ed-6606e21509e0"
      },
      "execution_count": 70,
      "outputs": [
        {
          "output_type": "stream",
          "name": "stdout",
          "text": [
            "\n",
            "Top 10 'Rate Program Name' frequency for 2025:\n",
            "                        Count  Percentage\n",
            "Rate Program Name                        \n",
            "MEMBER RETAIL RATE      35075   18.322050\n",
            "B.COM RETAIL            18958    9.903049\n",
            "REDEMPTION              13430    7.015399\n",
            "MEMBR PREPAY NONREF     11077    5.786268\n",
            "REGULAR RATE             9996    5.221588\n",
            "LONG TERM STAY           7441    3.886939\n",
            "BK.COM PRE NONREF CHG    7421    3.876491\n",
            "EXPEDIA PRE NONREF CHG   6281    3.280992\n",
            "B.COM DISC. RETAIL       5604    2.927349\n",
            "PROPERTY PROMO           4682    2.445726\n",
            "\n",
            "Top 10 'Rate Program Name' frequency for 2024:\n",
            "                        Count  Percentage\n",
            "Rate Program Name                        \n",
            "MEMBER RETAIL RATE      19186    8.789789\n",
            "REGULAR RATE            13290    6.088622\n",
            "MEMBR PREPAY NONREF     10506    4.813172\n",
            "B.COM RETAIL            10224    4.683978\n",
            "REDEMPTION               9813    4.495684\n",
            "EXPEDIA PRE NONREF CHG   6878    3.151056\n",
            "LONG TERM STAY           5906    2.705749\n",
            "BK.COM PRE NONREF CHG    5601    2.566017\n",
            "PROPERTY PROMO           5265    2.412084\n",
            "MARRIOTT SENIOR DISC.    4909    2.248988\n",
            "\n",
            "Top 10 'Rate Program Name' frequency for 2023:\n",
            "                        Count  Percentage\n",
            "Rate Program Name                        \n",
            "MEMBER RETAIL RATE      13470    6.932329\n",
            "REGULAR RATE            12997    6.688900\n",
            "B.COM RETAIL            10754    5.534541\n",
            "REDEMPTION STANDARD     10311    5.306551\n",
            "MEMBR PREPAY NONREF     10238    5.268982\n",
            "BK.COM PRE NONREF CHG    5598    2.881008\n",
            "MARRIOTT SENIOR DISC.    5447    2.803296\n",
            "EXPEDIA PRE NONREF CHG   5086    2.617507\n",
            "AAA AMERICAN AUTO ASSN   4869    2.505828\n",
            "GOVT/MILITARY            4629    2.382313\n"
          ]
        }
      ]
    },
    {
      "cell_type": "code",
      "source": [
        "# ss-: Convert all NA values in \"Rate Program Name\" to \"UNKNOWN\" in df_2025, df_2024, and df_2023\n",
        "\n",
        "df_2025['Rate Program Name'] = df_2025['Rate Program Name'].fillna('UNKNOWN')\n",
        "df_2024['Rate Program Name'] = df_2024['Rate Program Name'].fillna('UNKNOWN')\n",
        "df_2023['Rate Program Name'] = df_2023['Rate Program Name'].fillna('UNKNOWN')"
      ],
      "metadata": {
        "id": "ShQoz9jRRlxN"
      },
      "execution_count": 71,
      "outputs": []
    },
    {
      "cell_type": "code",
      "source": [],
      "metadata": {
        "id": "0RDoyg9ql5rI"
      },
      "execution_count": 71,
      "outputs": []
    },
    {
      "cell_type": "code",
      "source": [
        "# ss-: find number of rows with na data by column in df_2025, df_2024 and in df_2023\n",
        "\n",
        "print(\"\\nNumber of rows with NA per column in df_2025:\")\n",
        "print(df_2025.isnull().sum())\n",
        "\n",
        "print(\"\\nNumber of rows with NA per column in df_2024:\")\n",
        "print(df_2024.isnull().sum())\n",
        "\n",
        "print(\"\\nNumber of rows with NA per column in df_2023:\")\n",
        "print(df_2023.isnull().sum())"
      ],
      "metadata": {
        "id": "KHa0hTa2gcjo",
        "colab": {
          "base_uri": "https://localhost:8080/"
        },
        "outputId": "1eb63cbe-ff47-4591-94e9-797d6de52787"
      },
      "execution_count": 72,
      "outputs": [
        {
          "output_type": "stream",
          "name": "stdout",
          "text": [
            "\n",
            "Number of rows with NA per column in df_2025:\n",
            "Stay Year Calendar                0\n",
            "Stay YYYYMM                       0\n",
            "Stay DOW Text                     0\n",
            "Stay Date                         0\n",
            "Booking Date                      0\n",
            "MARSHA Code                       0\n",
            "Market Category                   0\n",
            "Market Segment Name for Report    0\n",
            "Market Prfx Name for Report       0\n",
            "Rate Program Code                 0\n",
            "Rate Program Name                 0\n",
            "Channel Aggregate Name            0\n",
            "Room Pool Code                    0\n",
            "RoomNights                        0\n",
            "ADR (Net)                         0\n",
            " Revenue (Net)                    0\n",
            "dtype: int64\n",
            "\n",
            "Number of rows with NA per column in df_2024:\n",
            "Stay Year Calendar                  0\n",
            "Stay YYYYMM                         0\n",
            "Stay DOW Text                       0\n",
            "Stay Date                           0\n",
            "MARSHA Code                         0\n",
            "Market Category                     0\n",
            "Market Segment Name for Report      0\n",
            "Market Prfx Name for Report       149\n",
            "Rate Program Code                   0\n",
            "Rate Program Name                   0\n",
            "Room Pool Code                      0\n",
            "RoomNights                          0\n",
            "ADR (Net)                           0\n",
            "Revenue (Net)                       0\n",
            "dtype: int64\n",
            "\n",
            "Number of rows with NA per column in df_2023:\n",
            "Stay Year Calendar                 0\n",
            "Stay YYYYMM                        0\n",
            "Stay DOW Text                      0\n",
            "Stay Date                          0\n",
            "MARSHA Code                        0\n",
            "Market Category                    0\n",
            "Market Segment Name for Report     0\n",
            "Market Prfx Name for Report       19\n",
            "Rate Program Code                  0\n",
            "Rate Program Name                  0\n",
            "Room Pool Code                     0\n",
            "RoomNights                         0\n",
            "ADR (Net)                          0\n",
            "Revenue (Net)                      0\n",
            "dtype: int64\n"
          ]
        }
      ]
    },
    {
      "cell_type": "code",
      "source": [],
      "metadata": {
        "id": "Sv7I5Hh0lYvk"
      },
      "execution_count": 72,
      "outputs": []
    },
    {
      "cell_type": "code",
      "source": [
        "# ss-: ss-: Show top 10 frequency of \"Market Prfx Name for Report\" values and percentage of frequency in df_2025, df_2024, and df_2023\n",
        "\n",
        "def analyze_market_prefix_frequency(df, year):\n",
        "  \"\"\"Shows the top 10 frequency and percentage of 'Market Prfx Name for Report' values.\"\"\"\n",
        "  print(f\"\\nTop 10 'Market Prfx Name for Report' frequency for {year}:\")\n",
        "  top_10 = df['Market Prfx Name for Report'].value_counts().head(10)\n",
        "  total_count = df['Market Prfx Name for Report'].count()\n",
        "  top_10_percent = (top_10 / total_count) * 100\n",
        "  frequency_df = pd.DataFrame({'Count': top_10, 'Percentage': top_10_percent})\n",
        "  print(frequency_df)\n",
        "\n",
        "analyze_market_prefix_frequency(df_2025, 2025)\n",
        "analyze_market_prefix_frequency(df_2024, 2024)\n",
        "analyze_market_prefix_frequency(df_2023, 2023)"
      ],
      "metadata": {
        "id": "JDFCudPJg2sz",
        "colab": {
          "base_uri": "https://localhost:8080/"
        },
        "outputId": "c606a3a1-114d-44a4-aff7-6e06d7274dea"
      },
      "execution_count": 73,
      "outputs": [
        {
          "output_type": "stream",
          "name": "stdout",
          "text": [
            "\n",
            "Top 10 'Market Prfx Name for Report' frequency for 2025:\n",
            "                               Count  Percentage\n",
            "Market Prfx Name for Report                     \n",
            "12 Standard Retail             28693   14.605901\n",
            "34 eChannel Retail             24673   12.559558\n",
            "10 Premium Retail              18659    9.498188\n",
            "17 Special Corporate           16994    8.650635\n",
            "38 eChannel Prepay             15801    8.043350\n",
            "25 Bonvoy Redemption           14967    7.618810\n",
            "35 Prepay                      12912    6.572732\n",
            "30 eChannel Premium Retail      9419    4.794653\n",
            "19 Long Term Stay               7479    3.807114\n",
            "42 Auto Assn of America (AAA)   7329    3.730758\n",
            "\n",
            "Top 10 'Market Prfx Name for Report' frequency for 2024:\n",
            "                               Count  Percentage\n",
            "Market Prfx Name for Report                     \n",
            "17 Special Corporate           43031   18.832689\n",
            "12 Standard Retail             21050    9.212617\n",
            "34 eChannel Retail             20424    8.938645\n",
            "38 eChannel Prepay             15444    6.759128\n",
            "35 Prepay                      14604    6.391499\n",
            "10 Premium Retail              14544    6.365240\n",
            "25 Bonvoy Redemption           11603    5.078099\n",
            "42 Auto Assn of America (AAA)  10155    4.444376\n",
            "30 eChannel Premium Retail      9399    4.113510\n",
            "33 Promotion / Incentive        8753    3.830785\n",
            "\n",
            "Top 10 'Market Prfx Name for Report' frequency for 2023:\n",
            "                               Count  Percentage\n",
            "Market Prfx Name for Report                     \n",
            "17 Special Corporate           36136   17.865230\n",
            "12 Standard Retail             22121   10.936372\n",
            "34 eChannel Retail             16131    7.974984\n",
            "35 Prepay                      14207    7.023780\n",
            "38 eChannel Prepay             12640    6.249073\n",
            "25 Bonvoy Redemption           11359    5.615761\n",
            "42 Auto Assn of America (AAA)  11267    5.570277\n",
            "36 eChannel Bundled Travel     10089    4.987887\n",
            "30 eChannel Premium Retail      8314    4.110348\n",
            "16 Government                   7786    3.849310\n"
          ]
        }
      ]
    },
    {
      "cell_type": "code",
      "source": [
        "# ss-: Convert all NA values in \"Market Prfx Name for Report\" to \"Special Corporate\" in df_2025, df_2024, and df_2023\n",
        "\n",
        "df_2025['Market Prfx Name for Report'] = df_2025['Market Prfx Name for Report'].fillna('Special Corporate')\n",
        "df_2024['Market Prfx Name for Report'] = df_2024['Market Prfx Name for Report'].fillna('Special Corporate')\n",
        "df_2023['Market Prfx Name for Report'] = df_2023['Market Prfx Name for Report'].fillna('Special Corporate')\n",
        "\n",
        "print(\"\\nNumber of rows with NA per column in df_2025:\")\n",
        "print(df_2025.isnull().sum())\n",
        "\n",
        "print(\"\\nNumber of rows with NA per column in df_2024:\")\n",
        "print(df_2024.isnull().sum())\n",
        "\n",
        "print(\"\\nNumber of rows with NA per column in df_2023:\")\n",
        "print(df_2023.isnull().sum())"
      ],
      "metadata": {
        "id": "7J4Y7knGl7oy",
        "colab": {
          "base_uri": "https://localhost:8080/"
        },
        "outputId": "130a7d3e-dd58-4179-b1d1-accae11d760f"
      },
      "execution_count": 74,
      "outputs": [
        {
          "output_type": "stream",
          "name": "stdout",
          "text": [
            "\n",
            "Number of rows with NA per column in df_2025:\n",
            "Stay Year Calendar                0\n",
            "Stay YYYYMM                       0\n",
            "Stay DOW Text                     0\n",
            "Stay Date                         0\n",
            "Booking Date                      0\n",
            "MARSHA Code                       0\n",
            "Market Category                   0\n",
            "Market Segment Name for Report    0\n",
            "Market Prfx Name for Report       0\n",
            "Rate Program Code                 0\n",
            "Rate Program Name                 0\n",
            "Channel Aggregate Name            0\n",
            "Room Pool Code                    0\n",
            "RoomNights                        0\n",
            "ADR (Net)                         0\n",
            " Revenue (Net)                    0\n",
            "dtype: int64\n",
            "\n",
            "Number of rows with NA per column in df_2024:\n",
            "Stay Year Calendar                0\n",
            "Stay YYYYMM                       0\n",
            "Stay DOW Text                     0\n",
            "Stay Date                         0\n",
            "MARSHA Code                       0\n",
            "Market Category                   0\n",
            "Market Segment Name for Report    0\n",
            "Market Prfx Name for Report       0\n",
            "Rate Program Code                 0\n",
            "Rate Program Name                 0\n",
            "Room Pool Code                    0\n",
            "RoomNights                        0\n",
            "ADR (Net)                         0\n",
            "Revenue (Net)                     0\n",
            "dtype: int64\n",
            "\n",
            "Number of rows with NA per column in df_2023:\n",
            "Stay Year Calendar                0\n",
            "Stay YYYYMM                       0\n",
            "Stay DOW Text                     0\n",
            "Stay Date                         0\n",
            "MARSHA Code                       0\n",
            "Market Category                   0\n",
            "Market Segment Name for Report    0\n",
            "Market Prfx Name for Report       0\n",
            "Rate Program Code                 0\n",
            "Rate Program Name                 0\n",
            "Room Pool Code                    0\n",
            "RoomNights                        0\n",
            "ADR (Net)                         0\n",
            "Revenue (Net)                     0\n",
            "dtype: int64\n"
          ]
        }
      ]
    },
    {
      "cell_type": "markdown",
      "source": [
        "Change column name \"ADR (Net)\" to \"ADR\" and change column name \"Revenue (Net)\" to \"Revenue\" in df_2025, df_2024, df_2023\n",
        "\n"
      ],
      "metadata": {
        "id": "ZvZsFFQOUT0X"
      }
    },
    {
      "cell_type": "code",
      "source": [
        "# ss-: Change column name \"ADR (Net)\" to \"ADR\" and change column name \"Revenue (Net)\" to \"Revenue\" in df_2025, df_2024, df_2023\n",
        "\n",
        "df_2025.rename(columns={'ADR (Net)': 'ADR', 'Revenue (Net)': 'Revenue'}, inplace=True)\n",
        "df_2024.rename(columns={'ADR (Net)': 'ADR', 'Revenue (Net)': 'Revenue'}, inplace=True)\n",
        "df_2023.rename(columns={'ADR (Net)': 'ADR', 'Revenue (Net)': 'Revenue'}, inplace=True)\n",
        "\n",
        "print(\"\\nColumns in df_2025 after renaming:\")\n",
        "print(df_2025.columns)\n",
        "print(\"\\nColumns in df_2024 after renaming:\")\n",
        "print(df_2024.columns)\n",
        "print(\"\\nColumns in df_2023 after renaming:\")\n",
        "df_2023.columns"
      ],
      "metadata": {
        "colab": {
          "base_uri": "https://localhost:8080/"
        },
        "id": "rQZlpRb2XBsO",
        "outputId": "ab3abd46-0274-4106-bec1-2349d5c3cd93"
      },
      "execution_count": 75,
      "outputs": [
        {
          "output_type": "stream",
          "name": "stdout",
          "text": [
            "\n",
            "Columns in df_2025 after renaming:\n",
            "Index(['Stay Year Calendar', 'Stay YYYYMM', 'Stay DOW Text', 'Stay Date',\n",
            "       'Booking Date', 'MARSHA Code', 'Market Category',\n",
            "       'Market Segment Name for Report', 'Market Prfx Name for Report',\n",
            "       'Rate Program Code', 'Rate Program Name', 'Channel Aggregate Name',\n",
            "       'Room Pool Code', 'RoomNights', 'ADR', ' Revenue (Net) '],\n",
            "      dtype='object')\n",
            "\n",
            "Columns in df_2024 after renaming:\n",
            "Index(['Stay Year Calendar', 'Stay YYYYMM', 'Stay DOW Text', 'Stay Date',\n",
            "       'MARSHA Code', 'Market Category', 'Market Segment Name for Report',\n",
            "       'Market Prfx Name for Report', 'Rate Program Code', 'Rate Program Name',\n",
            "       'Room Pool Code', 'RoomNights', 'ADR', 'Revenue'],\n",
            "      dtype='object')\n",
            "\n",
            "Columns in df_2023 after renaming:\n"
          ]
        },
        {
          "output_type": "execute_result",
          "data": {
            "text/plain": [
              "Index(['Stay Year Calendar', 'Stay YYYYMM', 'Stay DOW Text', 'Stay Date',\n",
              "       'MARSHA Code', 'Market Category', 'Market Segment Name for Report',\n",
              "       'Market Prfx Name for Report', 'Rate Program Code', 'Rate Program Name',\n",
              "       'Room Pool Code', 'RoomNights', 'ADR', 'Revenue'],\n",
              "      dtype='object')"
            ]
          },
          "metadata": {},
          "execution_count": 75
        }
      ]
    },
    {
      "cell_type": "code",
      "source": [
        "df_2023.info()\n",
        "df_2024.info()\n",
        "df_2025.info()"
      ],
      "metadata": {
        "colab": {
          "base_uri": "https://localhost:8080/"
        },
        "id": "QUUWcDm0Xdn9",
        "outputId": "01abd461-60a8-4353-a21f-1e765bed9450"
      },
      "execution_count": 76,
      "outputs": [
        {
          "output_type": "stream",
          "name": "stdout",
          "text": [
            "<class 'pandas.core.frame.DataFrame'>\n",
            "RangeIndex: 202289 entries, 0 to 202288\n",
            "Data columns (total 14 columns):\n",
            " #   Column                          Non-Null Count   Dtype \n",
            "---  ------                          --------------   ----- \n",
            " 0   Stay Year Calendar              202289 non-null  int64 \n",
            " 1   Stay YYYYMM                     202289 non-null  int64 \n",
            " 2   Stay DOW Text                   202289 non-null  object\n",
            " 3   Stay Date                       202289 non-null  object\n",
            " 4   MARSHA Code                     202289 non-null  object\n",
            " 5   Market Category                 202289 non-null  object\n",
            " 6   Market Segment Name for Report  202289 non-null  object\n",
            " 7   Market Prfx Name for Report     202289 non-null  object\n",
            " 8   Rate Program Code               202289 non-null  object\n",
            " 9   Rate Program Name               202289 non-null  object\n",
            " 10  Room Pool Code                  202289 non-null  object\n",
            " 11  RoomNights                      202289 non-null  int64 \n",
            " 12  ADR                             202289 non-null  object\n",
            " 13  Revenue                         202289 non-null  object\n",
            "dtypes: int64(3), object(11)\n",
            "memory usage: 21.6+ MB\n",
            "<class 'pandas.core.frame.DataFrame'>\n",
            "RangeIndex: 228640 entries, 0 to 228639\n",
            "Data columns (total 14 columns):\n",
            " #   Column                          Non-Null Count   Dtype \n",
            "---  ------                          --------------   ----- \n",
            " 0   Stay Year Calendar              228640 non-null  int64 \n",
            " 1   Stay YYYYMM                     228640 non-null  int64 \n",
            " 2   Stay DOW Text                   228640 non-null  object\n",
            " 3   Stay Date                       228640 non-null  object\n",
            " 4   MARSHA Code                     228640 non-null  object\n",
            " 5   Market Category                 228640 non-null  object\n",
            " 6   Market Segment Name for Report  228640 non-null  object\n",
            " 7   Market Prfx Name for Report     228640 non-null  object\n",
            " 8   Rate Program Code               228640 non-null  object\n",
            " 9   Rate Program Name               228640 non-null  object\n",
            " 10  Room Pool Code                  228640 non-null  object\n",
            " 11  RoomNights                      228640 non-null  int64 \n",
            " 12  ADR                             228640 non-null  object\n",
            " 13  Revenue                         228640 non-null  object\n",
            "dtypes: int64(3), object(11)\n",
            "memory usage: 24.4+ MB\n",
            "<class 'pandas.core.frame.DataFrame'>\n",
            "RangeIndex: 196448 entries, 0 to 196447\n",
            "Data columns (total 16 columns):\n",
            " #   Column                          Non-Null Count   Dtype \n",
            "---  ------                          --------------   ----- \n",
            " 0   Stay Year Calendar              196448 non-null  int64 \n",
            " 1   Stay YYYYMM                     196448 non-null  int64 \n",
            " 2   Stay DOW Text                   196448 non-null  object\n",
            " 3   Stay Date                       196448 non-null  object\n",
            " 4   Booking Date                    196448 non-null  object\n",
            " 5   MARSHA Code                     196448 non-null  object\n",
            " 6   Market Category                 196448 non-null  object\n",
            " 7   Market Segment Name for Report  196448 non-null  object\n",
            " 8   Market Prfx Name for Report     196448 non-null  object\n",
            " 9   Rate Program Code               196448 non-null  object\n",
            " 10  Rate Program Name               196448 non-null  object\n",
            " 11  Channel Aggregate Name          196448 non-null  object\n",
            " 12  Room Pool Code                  196448 non-null  object\n",
            " 13  RoomNights                      196448 non-null  int64 \n",
            " 14  ADR                             196448 non-null  object\n",
            " 15   Revenue (Net)                  196448 non-null  object\n",
            "dtypes: int64(3), object(13)\n",
            "memory usage: 24.0+ MB\n"
          ]
        }
      ]
    },
    {
      "cell_type": "markdown",
      "source": [
        "Clean up values in ADR and Revenue to remove \",\" and spaces in df_2023, df_2024, and df_2025\n"
      ],
      "metadata": {
        "id": "FV9EoUJGgKPM"
      }
    },
    {
      "cell_type": "code",
      "source": [
        "df_2025.rename(columns={' Revenue (Net)': 'Revenue'}, inplace=True)"
      ],
      "metadata": {
        "id": "ruLCw23ShG_r"
      },
      "execution_count": 77,
      "outputs": []
    },
    {
      "cell_type": "code",
      "source": [],
      "metadata": {
        "id": "QKxvuwVNirMX"
      },
      "execution_count": 77,
      "outputs": []
    },
    {
      "cell_type": "code",
      "source": [
        "df_2025.rename(columns={'Revenue (Net)': 'Revenue'}, inplace=True)"
      ],
      "metadata": {
        "id": "nzNjRTRehuAU"
      },
      "execution_count": 78,
      "outputs": []
    },
    {
      "cell_type": "code",
      "source": [
        "df_2025.info()"
      ],
      "metadata": {
        "colab": {
          "base_uri": "https://localhost:8080/"
        },
        "id": "Bgo6zOt3hmfd",
        "outputId": "b3754ce5-a4da-4be7-9e19-790edec0ffcf"
      },
      "execution_count": 79,
      "outputs": [
        {
          "output_type": "stream",
          "name": "stdout",
          "text": [
            "<class 'pandas.core.frame.DataFrame'>\n",
            "RangeIndex: 196448 entries, 0 to 196447\n",
            "Data columns (total 16 columns):\n",
            " #   Column                          Non-Null Count   Dtype \n",
            "---  ------                          --------------   ----- \n",
            " 0   Stay Year Calendar              196448 non-null  int64 \n",
            " 1   Stay YYYYMM                     196448 non-null  int64 \n",
            " 2   Stay DOW Text                   196448 non-null  object\n",
            " 3   Stay Date                       196448 non-null  object\n",
            " 4   Booking Date                    196448 non-null  object\n",
            " 5   MARSHA Code                     196448 non-null  object\n",
            " 6   Market Category                 196448 non-null  object\n",
            " 7   Market Segment Name for Report  196448 non-null  object\n",
            " 8   Market Prfx Name for Report     196448 non-null  object\n",
            " 9   Rate Program Code               196448 non-null  object\n",
            " 10  Rate Program Name               196448 non-null  object\n",
            " 11  Channel Aggregate Name          196448 non-null  object\n",
            " 12  Room Pool Code                  196448 non-null  object\n",
            " 13  RoomNights                      196448 non-null  int64 \n",
            " 14  ADR                             196448 non-null  object\n",
            " 15   Revenue (Net)                  196448 non-null  object\n",
            "dtypes: int64(3), object(13)\n",
            "memory usage: 24.0+ MB\n"
          ]
        }
      ]
    },
    {
      "cell_type": "markdown",
      "source": [
        "Convert columns ADR and Revenue to float in df_2023, df_2024, and df_2025"
      ],
      "metadata": {
        "id": "HK3OYND-f0rV"
      }
    },
    {
      "cell_type": "code",
      "source": [
        "df_2025.head()"
      ],
      "metadata": {
        "colab": {
          "base_uri": "https://localhost:8080/",
          "height": 432
        },
        "id": "mG7Rf_t0iJQP",
        "outputId": "a2a9ee03-79c7-49a1-d404-bcb9b6eb2559"
      },
      "execution_count": 80,
      "outputs": [
        {
          "output_type": "execute_result",
          "data": {
            "text/plain": [
              "   Stay Year Calendar  Stay YYYYMM Stay DOW Text Stay Date Booking Date  \\\n",
              "0                2025       202501           WED  1-Jan-25    28-Nov-23   \n",
              "1                2025       202501           WED  1-Jan-25    12-Jan-24   \n",
              "2                2025       202501           WED  1-Jan-25    14-Jan-24   \n",
              "3                2025       202501           WED  1-Jan-25    14-Jan-24   \n",
              "4                2025       202501           WED  1-Jan-25    17-Jan-24   \n",
              "\n",
              "  MARSHA Code Market Category Market Segment Name for Report  \\\n",
              "0       NYCRI   COMPLIMENTARY                 Transient Comp   \n",
              "1       PHLRI       TRANSIENT                         Retail   \n",
              "2       NYCPK       TRANSIENT              Bonvoy Redemption   \n",
              "3       NYCPK       TRANSIENT              Bonvoy Redemption   \n",
              "4       NYCMD       TRANSIENT                         Retail   \n",
              "\n",
              "  Market Prfx Name for Report Rate Program Code   Rate Program Name  \\\n",
              "0            62 Complimentary              COMB       COMPLIMENTARY   \n",
              "1          12 Standard Retail              REGA        REGULAR RATE   \n",
              "2        25 Bonvoy Redemption              MRYA          REDEMPTION   \n",
              "3        25 Bonvoy Redemption              MRYC          REDEMPTION   \n",
              "4          12 Standard Retail              RMOK  MEMBER RETAIL RATE   \n",
              "\n",
              "  Channel Aggregate Name Room Pool Code  RoomNights  ADR  Revenue (Net)   \n",
              "0               Property           STKT           1    0            -     \n",
              "1               Property           STDD           1    0            -     \n",
              "2           Marriott.com           GENR           1  100             100  \n",
              "3           Marriott.com           DBDB           1  100             100  \n",
              "4           Marriott.com           KSTE           1  646             646  "
            ],
            "text/html": [
              "\n",
              "  <div id=\"df-008a2079-842f-4f63-8408-c09e2317fcec\" class=\"colab-df-container\">\n",
              "    <div>\n",
              "<style scoped>\n",
              "    .dataframe tbody tr th:only-of-type {\n",
              "        vertical-align: middle;\n",
              "    }\n",
              "\n",
              "    .dataframe tbody tr th {\n",
              "        vertical-align: top;\n",
              "    }\n",
              "\n",
              "    .dataframe thead th {\n",
              "        text-align: right;\n",
              "    }\n",
              "</style>\n",
              "<table border=\"1\" class=\"dataframe\">\n",
              "  <thead>\n",
              "    <tr style=\"text-align: right;\">\n",
              "      <th></th>\n",
              "      <th>Stay Year Calendar</th>\n",
              "      <th>Stay YYYYMM</th>\n",
              "      <th>Stay DOW Text</th>\n",
              "      <th>Stay Date</th>\n",
              "      <th>Booking Date</th>\n",
              "      <th>MARSHA Code</th>\n",
              "      <th>Market Category</th>\n",
              "      <th>Market Segment Name for Report</th>\n",
              "      <th>Market Prfx Name for Report</th>\n",
              "      <th>Rate Program Code</th>\n",
              "      <th>Rate Program Name</th>\n",
              "      <th>Channel Aggregate Name</th>\n",
              "      <th>Room Pool Code</th>\n",
              "      <th>RoomNights</th>\n",
              "      <th>ADR</th>\n",
              "      <th>Revenue (Net)</th>\n",
              "    </tr>\n",
              "  </thead>\n",
              "  <tbody>\n",
              "    <tr>\n",
              "      <th>0</th>\n",
              "      <td>2025</td>\n",
              "      <td>202501</td>\n",
              "      <td>WED</td>\n",
              "      <td>1-Jan-25</td>\n",
              "      <td>28-Nov-23</td>\n",
              "      <td>NYCRI</td>\n",
              "      <td>COMPLIMENTARY</td>\n",
              "      <td>Transient Comp</td>\n",
              "      <td>62 Complimentary</td>\n",
              "      <td>COMB</td>\n",
              "      <td>COMPLIMENTARY</td>\n",
              "      <td>Property</td>\n",
              "      <td>STKT</td>\n",
              "      <td>1</td>\n",
              "      <td>0</td>\n",
              "      <td>-</td>\n",
              "    </tr>\n",
              "    <tr>\n",
              "      <th>1</th>\n",
              "      <td>2025</td>\n",
              "      <td>202501</td>\n",
              "      <td>WED</td>\n",
              "      <td>1-Jan-25</td>\n",
              "      <td>12-Jan-24</td>\n",
              "      <td>PHLRI</td>\n",
              "      <td>TRANSIENT</td>\n",
              "      <td>Retail</td>\n",
              "      <td>12 Standard Retail</td>\n",
              "      <td>REGA</td>\n",
              "      <td>REGULAR RATE</td>\n",
              "      <td>Property</td>\n",
              "      <td>STDD</td>\n",
              "      <td>1</td>\n",
              "      <td>0</td>\n",
              "      <td>-</td>\n",
              "    </tr>\n",
              "    <tr>\n",
              "      <th>2</th>\n",
              "      <td>2025</td>\n",
              "      <td>202501</td>\n",
              "      <td>WED</td>\n",
              "      <td>1-Jan-25</td>\n",
              "      <td>14-Jan-24</td>\n",
              "      <td>NYCPK</td>\n",
              "      <td>TRANSIENT</td>\n",
              "      <td>Bonvoy Redemption</td>\n",
              "      <td>25 Bonvoy Redemption</td>\n",
              "      <td>MRYA</td>\n",
              "      <td>REDEMPTION</td>\n",
              "      <td>Marriott.com</td>\n",
              "      <td>GENR</td>\n",
              "      <td>1</td>\n",
              "      <td>100</td>\n",
              "      <td>100</td>\n",
              "    </tr>\n",
              "    <tr>\n",
              "      <th>3</th>\n",
              "      <td>2025</td>\n",
              "      <td>202501</td>\n",
              "      <td>WED</td>\n",
              "      <td>1-Jan-25</td>\n",
              "      <td>14-Jan-24</td>\n",
              "      <td>NYCPK</td>\n",
              "      <td>TRANSIENT</td>\n",
              "      <td>Bonvoy Redemption</td>\n",
              "      <td>25 Bonvoy Redemption</td>\n",
              "      <td>MRYC</td>\n",
              "      <td>REDEMPTION</td>\n",
              "      <td>Marriott.com</td>\n",
              "      <td>DBDB</td>\n",
              "      <td>1</td>\n",
              "      <td>100</td>\n",
              "      <td>100</td>\n",
              "    </tr>\n",
              "    <tr>\n",
              "      <th>4</th>\n",
              "      <td>2025</td>\n",
              "      <td>202501</td>\n",
              "      <td>WED</td>\n",
              "      <td>1-Jan-25</td>\n",
              "      <td>17-Jan-24</td>\n",
              "      <td>NYCMD</td>\n",
              "      <td>TRANSIENT</td>\n",
              "      <td>Retail</td>\n",
              "      <td>12 Standard Retail</td>\n",
              "      <td>RMOK</td>\n",
              "      <td>MEMBER RETAIL RATE</td>\n",
              "      <td>Marriott.com</td>\n",
              "      <td>KSTE</td>\n",
              "      <td>1</td>\n",
              "      <td>646</td>\n",
              "      <td>646</td>\n",
              "    </tr>\n",
              "  </tbody>\n",
              "</table>\n",
              "</div>\n",
              "    <div class=\"colab-df-buttons\">\n",
              "\n",
              "  <div class=\"colab-df-container\">\n",
              "    <button class=\"colab-df-convert\" onclick=\"convertToInteractive('df-008a2079-842f-4f63-8408-c09e2317fcec')\"\n",
              "            title=\"Convert this dataframe to an interactive table.\"\n",
              "            style=\"display:none;\">\n",
              "\n",
              "  <svg xmlns=\"http://www.w3.org/2000/svg\" height=\"24px\" viewBox=\"0 -960 960 960\">\n",
              "    <path d=\"M120-120v-720h720v720H120Zm60-500h600v-160H180v160Zm220 220h160v-160H400v160Zm0 220h160v-160H400v160ZM180-400h160v-160H180v160Zm440 0h160v-160H620v160ZM180-180h160v-160H180v160Zm440 0h160v-160H620v160Z\"/>\n",
              "  </svg>\n",
              "    </button>\n",
              "\n",
              "  <style>\n",
              "    .colab-df-container {\n",
              "      display:flex;\n",
              "      gap: 12px;\n",
              "    }\n",
              "\n",
              "    .colab-df-convert {\n",
              "      background-color: #E8F0FE;\n",
              "      border: none;\n",
              "      border-radius: 50%;\n",
              "      cursor: pointer;\n",
              "      display: none;\n",
              "      fill: #1967D2;\n",
              "      height: 32px;\n",
              "      padding: 0 0 0 0;\n",
              "      width: 32px;\n",
              "    }\n",
              "\n",
              "    .colab-df-convert:hover {\n",
              "      background-color: #E2EBFA;\n",
              "      box-shadow: 0px 1px 2px rgba(60, 64, 67, 0.3), 0px 1px 3px 1px rgba(60, 64, 67, 0.15);\n",
              "      fill: #174EA6;\n",
              "    }\n",
              "\n",
              "    .colab-df-buttons div {\n",
              "      margin-bottom: 4px;\n",
              "    }\n",
              "\n",
              "    [theme=dark] .colab-df-convert {\n",
              "      background-color: #3B4455;\n",
              "      fill: #D2E3FC;\n",
              "    }\n",
              "\n",
              "    [theme=dark] .colab-df-convert:hover {\n",
              "      background-color: #434B5C;\n",
              "      box-shadow: 0px 1px 3px 1px rgba(0, 0, 0, 0.15);\n",
              "      filter: drop-shadow(0px 1px 2px rgba(0, 0, 0, 0.3));\n",
              "      fill: #FFFFFF;\n",
              "    }\n",
              "  </style>\n",
              "\n",
              "    <script>\n",
              "      const buttonEl =\n",
              "        document.querySelector('#df-008a2079-842f-4f63-8408-c09e2317fcec button.colab-df-convert');\n",
              "      buttonEl.style.display =\n",
              "        google.colab.kernel.accessAllowed ? 'block' : 'none';\n",
              "\n",
              "      async function convertToInteractive(key) {\n",
              "        const element = document.querySelector('#df-008a2079-842f-4f63-8408-c09e2317fcec');\n",
              "        const dataTable =\n",
              "          await google.colab.kernel.invokeFunction('convertToInteractive',\n",
              "                                                    [key], {});\n",
              "        if (!dataTable) return;\n",
              "\n",
              "        const docLinkHtml = 'Like what you see? Visit the ' +\n",
              "          '<a target=\"_blank\" href=https://colab.research.google.com/notebooks/data_table.ipynb>data table notebook</a>'\n",
              "          + ' to learn more about interactive tables.';\n",
              "        element.innerHTML = '';\n",
              "        dataTable['output_type'] = 'display_data';\n",
              "        await google.colab.output.renderOutput(dataTable, element);\n",
              "        const docLink = document.createElement('div');\n",
              "        docLink.innerHTML = docLinkHtml;\n",
              "        element.appendChild(docLink);\n",
              "      }\n",
              "    </script>\n",
              "  </div>\n",
              "\n",
              "\n",
              "    <div id=\"df-10b02c14-6181-4211-9f64-bbdf9f402a94\">\n",
              "      <button class=\"colab-df-quickchart\" onclick=\"quickchart('df-10b02c14-6181-4211-9f64-bbdf9f402a94')\"\n",
              "                title=\"Suggest charts\"\n",
              "                style=\"display:none;\">\n",
              "\n",
              "<svg xmlns=\"http://www.w3.org/2000/svg\" height=\"24px\"viewBox=\"0 0 24 24\"\n",
              "     width=\"24px\">\n",
              "    <g>\n",
              "        <path d=\"M19 3H5c-1.1 0-2 .9-2 2v14c0 1.1.9 2 2 2h14c1.1 0 2-.9 2-2V5c0-1.1-.9-2-2-2zM9 17H7v-7h2v7zm4 0h-2V7h2v10zm4 0h-2v-4h2v4z\"/>\n",
              "    </g>\n",
              "</svg>\n",
              "      </button>\n",
              "\n",
              "<style>\n",
              "  .colab-df-quickchart {\n",
              "      --bg-color: #E8F0FE;\n",
              "      --fill-color: #1967D2;\n",
              "      --hover-bg-color: #E2EBFA;\n",
              "      --hover-fill-color: #174EA6;\n",
              "      --disabled-fill-color: #AAA;\n",
              "      --disabled-bg-color: #DDD;\n",
              "  }\n",
              "\n",
              "  [theme=dark] .colab-df-quickchart {\n",
              "      --bg-color: #3B4455;\n",
              "      --fill-color: #D2E3FC;\n",
              "      --hover-bg-color: #434B5C;\n",
              "      --hover-fill-color: #FFFFFF;\n",
              "      --disabled-bg-color: #3B4455;\n",
              "      --disabled-fill-color: #666;\n",
              "  }\n",
              "\n",
              "  .colab-df-quickchart {\n",
              "    background-color: var(--bg-color);\n",
              "    border: none;\n",
              "    border-radius: 50%;\n",
              "    cursor: pointer;\n",
              "    display: none;\n",
              "    fill: var(--fill-color);\n",
              "    height: 32px;\n",
              "    padding: 0;\n",
              "    width: 32px;\n",
              "  }\n",
              "\n",
              "  .colab-df-quickchart:hover {\n",
              "    background-color: var(--hover-bg-color);\n",
              "    box-shadow: 0 1px 2px rgba(60, 64, 67, 0.3), 0 1px 3px 1px rgba(60, 64, 67, 0.15);\n",
              "    fill: var(--button-hover-fill-color);\n",
              "  }\n",
              "\n",
              "  .colab-df-quickchart-complete:disabled,\n",
              "  .colab-df-quickchart-complete:disabled:hover {\n",
              "    background-color: var(--disabled-bg-color);\n",
              "    fill: var(--disabled-fill-color);\n",
              "    box-shadow: none;\n",
              "  }\n",
              "\n",
              "  .colab-df-spinner {\n",
              "    border: 2px solid var(--fill-color);\n",
              "    border-color: transparent;\n",
              "    border-bottom-color: var(--fill-color);\n",
              "    animation:\n",
              "      spin 1s steps(1) infinite;\n",
              "  }\n",
              "\n",
              "  @keyframes spin {\n",
              "    0% {\n",
              "      border-color: transparent;\n",
              "      border-bottom-color: var(--fill-color);\n",
              "      border-left-color: var(--fill-color);\n",
              "    }\n",
              "    20% {\n",
              "      border-color: transparent;\n",
              "      border-left-color: var(--fill-color);\n",
              "      border-top-color: var(--fill-color);\n",
              "    }\n",
              "    30% {\n",
              "      border-color: transparent;\n",
              "      border-left-color: var(--fill-color);\n",
              "      border-top-color: var(--fill-color);\n",
              "      border-right-color: var(--fill-color);\n",
              "    }\n",
              "    40% {\n",
              "      border-color: transparent;\n",
              "      border-right-color: var(--fill-color);\n",
              "      border-top-color: var(--fill-color);\n",
              "    }\n",
              "    60% {\n",
              "      border-color: transparent;\n",
              "      border-right-color: var(--fill-color);\n",
              "    }\n",
              "    80% {\n",
              "      border-color: transparent;\n",
              "      border-right-color: var(--fill-color);\n",
              "      border-bottom-color: var(--fill-color);\n",
              "    }\n",
              "    90% {\n",
              "      border-color: transparent;\n",
              "      border-bottom-color: var(--fill-color);\n",
              "    }\n",
              "  }\n",
              "</style>\n",
              "\n",
              "      <script>\n",
              "        async function quickchart(key) {\n",
              "          const quickchartButtonEl =\n",
              "            document.querySelector('#' + key + ' button');\n",
              "          quickchartButtonEl.disabled = true;  // To prevent multiple clicks.\n",
              "          quickchartButtonEl.classList.add('colab-df-spinner');\n",
              "          try {\n",
              "            const charts = await google.colab.kernel.invokeFunction(\n",
              "                'suggestCharts', [key], {});\n",
              "          } catch (error) {\n",
              "            console.error('Error during call to suggestCharts:', error);\n",
              "          }\n",
              "          quickchartButtonEl.classList.remove('colab-df-spinner');\n",
              "          quickchartButtonEl.classList.add('colab-df-quickchart-complete');\n",
              "        }\n",
              "        (() => {\n",
              "          let quickchartButtonEl =\n",
              "            document.querySelector('#df-10b02c14-6181-4211-9f64-bbdf9f402a94 button');\n",
              "          quickchartButtonEl.style.display =\n",
              "            google.colab.kernel.accessAllowed ? 'block' : 'none';\n",
              "        })();\n",
              "      </script>\n",
              "    </div>\n",
              "\n",
              "    </div>\n",
              "  </div>\n"
            ],
            "application/vnd.google.colaboratory.intrinsic+json": {
              "type": "dataframe",
              "variable_name": "df_2025"
            }
          },
          "metadata": {},
          "execution_count": 80
        }
      ]
    },
    {
      "cell_type": "code",
      "source": [
        "# ss-: find number of characters in each column name in df_2025\n",
        "\n",
        "# Get the column names\n",
        "column_names = df_2025.columns\n",
        "\n",
        "# Calculate the number of characters for each column name\n",
        "char_counts = {col: len(col) for col in column_names}\n",
        "\n",
        "# Print the character counts\n",
        "print(\"\\nNumber of characters in each column name of df_2025:\")\n",
        "for col, count in char_counts.items():\n",
        "  print(f\"'{col}': {count} characters\")\n"
      ],
      "metadata": {
        "colab": {
          "base_uri": "https://localhost:8080/"
        },
        "id": "KjULqRl6iTkB",
        "outputId": "d64e9fce-292c-45f8-950d-186fd532833d"
      },
      "execution_count": 81,
      "outputs": [
        {
          "output_type": "stream",
          "name": "stdout",
          "text": [
            "\n",
            "Number of characters in each column name of df_2025:\n",
            "'Stay Year Calendar': 18 characters\n",
            "'Stay YYYYMM': 11 characters\n",
            "'Stay DOW Text': 13 characters\n",
            "'Stay Date': 9 characters\n",
            "'Booking Date': 12 characters\n",
            "'MARSHA Code': 11 characters\n",
            "'Market Category': 15 characters\n",
            "'Market Segment Name for Report': 30 characters\n",
            "'Market Prfx Name for Report': 27 characters\n",
            "'Rate Program Code': 17 characters\n",
            "'Rate Program Name': 17 characters\n",
            "'Channel Aggregate Name': 22 characters\n",
            "'Room Pool Code': 14 characters\n",
            "'RoomNights': 10 characters\n",
            "'ADR': 3 characters\n",
            "' Revenue (Net) ': 15 characters\n"
          ]
        }
      ]
    },
    {
      "cell_type": "code",
      "source": [],
      "metadata": {
        "id": "n63S4ZvoiwMD"
      },
      "execution_count": 81,
      "outputs": []
    },
    {
      "cell_type": "code",
      "source": [
        "df_2025.rename(columns={' Revenue (Net) ': 'Revenue'}, inplace=True)"
      ],
      "metadata": {
        "id": "nmypAqgwisUT"
      },
      "execution_count": 82,
      "outputs": []
    },
    {
      "cell_type": "code",
      "source": [
        "column_names = df_2025.columns\n",
        "\n",
        "# Calculate the number of characters for each column name\n",
        "char_counts = {col: len(col) for col in column_names}\n",
        "\n",
        "# Print the character counts\n",
        "print(\"\\nNumber of characters in each column name of df_2025:\")\n",
        "for col, count in char_counts.items():\n",
        "  print(f\"'{col}': {count} characters\")"
      ],
      "metadata": {
        "colab": {
          "base_uri": "https://localhost:8080/"
        },
        "id": "eJ3tQJLJixVU",
        "outputId": "65a1ea3f-5ad3-4381-b4ab-107fe7537141"
      },
      "execution_count": 83,
      "outputs": [
        {
          "output_type": "stream",
          "name": "stdout",
          "text": [
            "\n",
            "Number of characters in each column name of df_2025:\n",
            "'Stay Year Calendar': 18 characters\n",
            "'Stay YYYYMM': 11 characters\n",
            "'Stay DOW Text': 13 characters\n",
            "'Stay Date': 9 characters\n",
            "'Booking Date': 12 characters\n",
            "'MARSHA Code': 11 characters\n",
            "'Market Category': 15 characters\n",
            "'Market Segment Name for Report': 30 characters\n",
            "'Market Prfx Name for Report': 27 characters\n",
            "'Rate Program Code': 17 characters\n",
            "'Rate Program Name': 17 characters\n",
            "'Channel Aggregate Name': 22 characters\n",
            "'Room Pool Code': 14 characters\n",
            "'RoomNights': 10 characters\n",
            "'ADR': 3 characters\n",
            "'Revenue': 7 characters\n"
          ]
        }
      ]
    },
    {
      "cell_type": "code",
      "source": [
        "# ss-: find all column names which have \"(Net)\" in df_2025\n",
        "\n",
        "net_columns = [col for col in df_2025.columns if ' Revenue (Net) ' in col]\n",
        "print(\"Columns in df_2025 containing '(Net)':\", net_columns)"
      ],
      "metadata": {
        "colab": {
          "base_uri": "https://localhost:8080/"
        },
        "id": "zAkU37OZi31V",
        "outputId": "167fa0eb-2990-431c-a943-e672767ad466"
      },
      "execution_count": 84,
      "outputs": [
        {
          "output_type": "stream",
          "name": "stdout",
          "text": [
            "Columns in df_2025 containing '(Net)': []\n"
          ]
        }
      ]
    },
    {
      "cell_type": "code",
      "source": [
        "# ss-: what's the last column name in df_2025\n",
        "\n",
        "df_2025.columns[-1]\n",
        "df_2025.info()\n",
        "df_2024.info()\n",
        "df_2023.info()"
      ],
      "metadata": {
        "colab": {
          "base_uri": "https://localhost:8080/"
        },
        "id": "nwSkOka4jYTZ",
        "outputId": "62652566-950f-4c11-f889-b67fa59d4bb7"
      },
      "execution_count": 85,
      "outputs": [
        {
          "output_type": "stream",
          "name": "stdout",
          "text": [
            "<class 'pandas.core.frame.DataFrame'>\n",
            "RangeIndex: 196448 entries, 0 to 196447\n",
            "Data columns (total 16 columns):\n",
            " #   Column                          Non-Null Count   Dtype \n",
            "---  ------                          --------------   ----- \n",
            " 0   Stay Year Calendar              196448 non-null  int64 \n",
            " 1   Stay YYYYMM                     196448 non-null  int64 \n",
            " 2   Stay DOW Text                   196448 non-null  object\n",
            " 3   Stay Date                       196448 non-null  object\n",
            " 4   Booking Date                    196448 non-null  object\n",
            " 5   MARSHA Code                     196448 non-null  object\n",
            " 6   Market Category                 196448 non-null  object\n",
            " 7   Market Segment Name for Report  196448 non-null  object\n",
            " 8   Market Prfx Name for Report     196448 non-null  object\n",
            " 9   Rate Program Code               196448 non-null  object\n",
            " 10  Rate Program Name               196448 non-null  object\n",
            " 11  Channel Aggregate Name          196448 non-null  object\n",
            " 12  Room Pool Code                  196448 non-null  object\n",
            " 13  RoomNights                      196448 non-null  int64 \n",
            " 14  ADR                             196448 non-null  object\n",
            " 15  Revenue                         196448 non-null  object\n",
            "dtypes: int64(3), object(13)\n",
            "memory usage: 24.0+ MB\n",
            "<class 'pandas.core.frame.DataFrame'>\n",
            "RangeIndex: 228640 entries, 0 to 228639\n",
            "Data columns (total 14 columns):\n",
            " #   Column                          Non-Null Count   Dtype \n",
            "---  ------                          --------------   ----- \n",
            " 0   Stay Year Calendar              228640 non-null  int64 \n",
            " 1   Stay YYYYMM                     228640 non-null  int64 \n",
            " 2   Stay DOW Text                   228640 non-null  object\n",
            " 3   Stay Date                       228640 non-null  object\n",
            " 4   MARSHA Code                     228640 non-null  object\n",
            " 5   Market Category                 228640 non-null  object\n",
            " 6   Market Segment Name for Report  228640 non-null  object\n",
            " 7   Market Prfx Name for Report     228640 non-null  object\n",
            " 8   Rate Program Code               228640 non-null  object\n",
            " 9   Rate Program Name               228640 non-null  object\n",
            " 10  Room Pool Code                  228640 non-null  object\n",
            " 11  RoomNights                      228640 non-null  int64 \n",
            " 12  ADR                             228640 non-null  object\n",
            " 13  Revenue                         228640 non-null  object\n",
            "dtypes: int64(3), object(11)\n",
            "memory usage: 24.4+ MB\n",
            "<class 'pandas.core.frame.DataFrame'>\n",
            "RangeIndex: 202289 entries, 0 to 202288\n",
            "Data columns (total 14 columns):\n",
            " #   Column                          Non-Null Count   Dtype \n",
            "---  ------                          --------------   ----- \n",
            " 0   Stay Year Calendar              202289 non-null  int64 \n",
            " 1   Stay YYYYMM                     202289 non-null  int64 \n",
            " 2   Stay DOW Text                   202289 non-null  object\n",
            " 3   Stay Date                       202289 non-null  object\n",
            " 4   MARSHA Code                     202289 non-null  object\n",
            " 5   Market Category                 202289 non-null  object\n",
            " 6   Market Segment Name for Report  202289 non-null  object\n",
            " 7   Market Prfx Name for Report     202289 non-null  object\n",
            " 8   Rate Program Code               202289 non-null  object\n",
            " 9   Rate Program Name               202289 non-null  object\n",
            " 10  Room Pool Code                  202289 non-null  object\n",
            " 11  RoomNights                      202289 non-null  int64 \n",
            " 12  ADR                             202289 non-null  object\n",
            " 13  Revenue                         202289 non-null  object\n",
            "dtypes: int64(3), object(11)\n",
            "memory usage: 21.6+ MB\n"
          ]
        }
      ]
    },
    {
      "cell_type": "code",
      "source": [
        "# ss-: remove ',' and space from all values in Revenue in df_2025\n",
        "\n",
        "df_2025['Revenue'] = df_2025['Revenue'].astype(str).str.replace('[,\\s]', '', regex=True)\n",
        "df_2024['Revenue'] = df_2024['Revenue'].astype(str).str.replace('[,\\s]', '', regex=True)\n",
        "df_2023['Revenue'] = df_2023['Revenue'].astype(str).str.replace('[,\\s]', '', regex=True)"
      ],
      "metadata": {
        "id": "Qy5lrGSCj6Bl"
      },
      "execution_count": 86,
      "outputs": []
    },
    {
      "cell_type": "code",
      "source": [
        "# ss-: convert  column Revenue to type float in df_2025\n",
        "\n",
        "df_2025['Revenue'] = pd.to_numeric(df_2025['Revenue'], errors='coerce')\n",
        "df_2024['Revenue'] = pd.to_numeric(df_2024['Revenue'], errors='coerce')\n",
        "df_2023['Revenue'] = pd.to_numeric(df_2023['Revenue'], errors='coerce')"
      ],
      "metadata": {
        "id": "ffSeWCq7kJaK"
      },
      "execution_count": 87,
      "outputs": []
    },
    {
      "cell_type": "code",
      "source": [
        "df_2025.info()\n",
        "df_2024.info()\n",
        "df_2023.info()\n"
      ],
      "metadata": {
        "colab": {
          "base_uri": "https://localhost:8080/"
        },
        "id": "-oRP9gEpkX1i",
        "outputId": "f9b0c386-3f6f-4eb5-b27f-ffaf7f8abd90"
      },
      "execution_count": 88,
      "outputs": [
        {
          "output_type": "stream",
          "name": "stdout",
          "text": [
            "<class 'pandas.core.frame.DataFrame'>\n",
            "RangeIndex: 196448 entries, 0 to 196447\n",
            "Data columns (total 16 columns):\n",
            " #   Column                          Non-Null Count   Dtype  \n",
            "---  ------                          --------------   -----  \n",
            " 0   Stay Year Calendar              196448 non-null  int64  \n",
            " 1   Stay YYYYMM                     196448 non-null  int64  \n",
            " 2   Stay DOW Text                   196448 non-null  object \n",
            " 3   Stay Date                       196448 non-null  object \n",
            " 4   Booking Date                    196448 non-null  object \n",
            " 5   MARSHA Code                     196448 non-null  object \n",
            " 6   Market Category                 196448 non-null  object \n",
            " 7   Market Segment Name for Report  196448 non-null  object \n",
            " 8   Market Prfx Name for Report     196448 non-null  object \n",
            " 9   Rate Program Code               196448 non-null  object \n",
            " 10  Rate Program Name               196448 non-null  object \n",
            " 11  Channel Aggregate Name          196448 non-null  object \n",
            " 12  Room Pool Code                  196448 non-null  object \n",
            " 13  RoomNights                      196448 non-null  int64  \n",
            " 14  ADR                             196448 non-null  object \n",
            " 15  Revenue                         195844 non-null  float64\n",
            "dtypes: float64(1), int64(3), object(12)\n",
            "memory usage: 24.0+ MB\n",
            "<class 'pandas.core.frame.DataFrame'>\n",
            "RangeIndex: 228640 entries, 0 to 228639\n",
            "Data columns (total 14 columns):\n",
            " #   Column                          Non-Null Count   Dtype  \n",
            "---  ------                          --------------   -----  \n",
            " 0   Stay Year Calendar              228640 non-null  int64  \n",
            " 1   Stay YYYYMM                     228640 non-null  int64  \n",
            " 2   Stay DOW Text                   228640 non-null  object \n",
            " 3   Stay Date                       228640 non-null  object \n",
            " 4   MARSHA Code                     228640 non-null  object \n",
            " 5   Market Category                 228640 non-null  object \n",
            " 6   Market Segment Name for Report  228640 non-null  object \n",
            " 7   Market Prfx Name for Report     228640 non-null  object \n",
            " 8   Rate Program Code               228640 non-null  object \n",
            " 9   Rate Program Name               228640 non-null  object \n",
            " 10  Room Pool Code                  228640 non-null  object \n",
            " 11  RoomNights                      228640 non-null  int64  \n",
            " 12  ADR                             228640 non-null  object \n",
            " 13  Revenue                         228640 non-null  float64\n",
            "dtypes: float64(1), int64(3), object(10)\n",
            "memory usage: 24.4+ MB\n",
            "<class 'pandas.core.frame.DataFrame'>\n",
            "RangeIndex: 202289 entries, 0 to 202288\n",
            "Data columns (total 14 columns):\n",
            " #   Column                          Non-Null Count   Dtype  \n",
            "---  ------                          --------------   -----  \n",
            " 0   Stay Year Calendar              202289 non-null  int64  \n",
            " 1   Stay YYYYMM                     202289 non-null  int64  \n",
            " 2   Stay DOW Text                   202289 non-null  object \n",
            " 3   Stay Date                       202289 non-null  object \n",
            " 4   MARSHA Code                     202289 non-null  object \n",
            " 5   Market Category                 202289 non-null  object \n",
            " 6   Market Segment Name for Report  202289 non-null  object \n",
            " 7   Market Prfx Name for Report     202289 non-null  object \n",
            " 8   Rate Program Code               202289 non-null  object \n",
            " 9   Rate Program Name               202289 non-null  object \n",
            " 10  Room Pool Code                  202289 non-null  object \n",
            " 11  RoomNights                      202289 non-null  int64  \n",
            " 12  ADR                             202289 non-null  object \n",
            " 13  Revenue                         202289 non-null  float64\n",
            "dtypes: float64(1), int64(3), object(10)\n",
            "memory usage: 21.6+ MB\n"
          ]
        }
      ]
    },
    {
      "cell_type": "code",
      "source": [
        "# ss: Find number of rows with Null values in df_2023, df_2024, and df_2025\n",
        "\n",
        "print(\"Number of rows with NA in df_2025:\", df_2025.isnull().any(axis=1).sum())\n",
        "print(\"Number of rows with NA in df_2024:\", df_2024.isnull().any(axis=1).sum())\n",
        "print(\"Number of rows with NA in df_2023:\", df_2023.isnull().any(axis=1).sum())"
      ],
      "metadata": {
        "colab": {
          "base_uri": "https://localhost:8080/"
        },
        "id": "xwLIQbqaFmSP",
        "outputId": "79d30fcf-473c-49c2-f7e7-4e44638c8c10"
      },
      "execution_count": 89,
      "outputs": [
        {
          "output_type": "stream",
          "name": "stdout",
          "text": [
            "Number of rows with NA in df_2025: 604\n",
            "Number of rows with NA in df_2024: 0\n",
            "Number of rows with NA in df_2023: 0\n"
          ]
        }
      ]
    },
    {
      "cell_type": "code",
      "source": [
        "# ss - Find coun of null values of each column in df_2025\n",
        "\n",
        "print(\"\\nNumber of rows with NA per column in df_2025:\")\n",
        "print(df_2025.isnull().sum())"
      ],
      "metadata": {
        "colab": {
          "base_uri": "https://localhost:8080/"
        },
        "id": "tPv0vbnvF49Z",
        "outputId": "4934128d-2406-46e6-849b-54846817894f"
      },
      "execution_count": 90,
      "outputs": [
        {
          "output_type": "stream",
          "name": "stdout",
          "text": [
            "\n",
            "Number of rows with NA per column in df_2025:\n",
            "Stay Year Calendar                  0\n",
            "Stay YYYYMM                         0\n",
            "Stay DOW Text                       0\n",
            "Stay Date                           0\n",
            "Booking Date                        0\n",
            "MARSHA Code                         0\n",
            "Market Category                     0\n",
            "Market Segment Name for Report      0\n",
            "Market Prfx Name for Report         0\n",
            "Rate Program Code                   0\n",
            "Rate Program Name                   0\n",
            "Channel Aggregate Name              0\n",
            "Room Pool Code                      0\n",
            "RoomNights                          0\n",
            "ADR                                 0\n",
            "Revenue                           604\n",
            "dtype: int64\n"
          ]
        }
      ]
    },
    {
      "cell_type": "code",
      "source": [
        "# ss -: find total number of rows in df_2025\n",
        "\n",
        "print(\"Total number of rows in df_2025:\", len(df_2025))"
      ],
      "metadata": {
        "colab": {
          "base_uri": "https://localhost:8080/"
        },
        "id": "xqr303lQGNiI",
        "outputId": "a74c1148-0903-44dd-c2bd-558b4db0dec2"
      },
      "execution_count": 91,
      "outputs": [
        {
          "output_type": "stream",
          "name": "stdout",
          "text": [
            "Total number of rows in df_2025: 196448\n"
          ]
        }
      ]
    },
    {
      "cell_type": "code",
      "source": [
        "# ss- drop rows in df_2025 with null values\n",
        "\n",
        "df_2025.dropna(inplace=True)"
      ],
      "metadata": {
        "id": "W6A14av0GUy7"
      },
      "execution_count": 92,
      "outputs": []
    },
    {
      "cell_type": "code",
      "source": [
        "# ss - find total number of rows in df_2025\n",
        "\n",
        "print(\"Total number of rows in df_2025:\", len(df_2025))"
      ],
      "metadata": {
        "colab": {
          "base_uri": "https://localhost:8080/"
        },
        "id": "DYgxSXpVGaR8",
        "outputId": "9e89d4d8-97f7-4e5a-b9fb-2ba04882d868"
      },
      "execution_count": 93,
      "outputs": [
        {
          "output_type": "stream",
          "name": "stdout",
          "text": [
            "Total number of rows in df_2025: 195844\n"
          ]
        }
      ]
    },
    {
      "cell_type": "code",
      "source": [
        "# ss -  Find count of null values of each column in df_2025\n",
        "\n",
        "print(df_2025.isnull().sum())"
      ],
      "metadata": {
        "colab": {
          "base_uri": "https://localhost:8080/"
        },
        "id": "b_TGYiMDGhmI",
        "outputId": "7b3cfa0e-49c4-4716-8a6d-ae3565d60029"
      },
      "execution_count": 94,
      "outputs": [
        {
          "output_type": "stream",
          "name": "stdout",
          "text": [
            "Stay Year Calendar                0\n",
            "Stay YYYYMM                       0\n",
            "Stay DOW Text                     0\n",
            "Stay Date                         0\n",
            "Booking Date                      0\n",
            "MARSHA Code                       0\n",
            "Market Category                   0\n",
            "Market Segment Name for Report    0\n",
            "Market Prfx Name for Report       0\n",
            "Rate Program Code                 0\n",
            "Rate Program Name                 0\n",
            "Channel Aggregate Name            0\n",
            "Room Pool Code                    0\n",
            "RoomNights                        0\n",
            "ADR                               0\n",
            "Revenue                           0\n",
            "dtype: int64\n"
          ]
        }
      ]
    },
    {
      "cell_type": "code",
      "source": [
        "# ss-: Group by Marsha Code, Stay Year Calendar, sum Revenue\n",
        "\n",
        "df_grouped_2025 = df_2025.groupby(['MARSHA Code', 'Stay Year Calendar'])['Revenue'].sum().reset_index()\n",
        "print(\"\\nGrouped and summed Revenue for 2025:\")\n",
        "print(df_grouped_2025)\n",
        "\n",
        "df_grouped_2024 = df_2024.groupby(['MARSHA Code', 'Stay Year Calendar'])['Revenue'].sum().reset_index()\n",
        "print(\"\\nGrouped and summed Revenue for 2024:\")\n",
        "print(df_grouped_2024)\n",
        "\n",
        "df_grouped_2023 = df_2023.groupby(['MARSHA Code', 'Stay Year Calendar'])['Revenue'].sum().reset_index()\n",
        "print(\"\\nGrouped and summed Revenue for 2023:\")\n",
        "print(df_grouped_2023)"
      ],
      "metadata": {
        "colab": {
          "base_uri": "https://localhost:8080/"
        },
        "id": "A4blTtbEk7bB",
        "outputId": "b0fb1a66-34f8-4d72-e025-f82bf08e4816"
      },
      "execution_count": 95,
      "outputs": [
        {
          "output_type": "stream",
          "name": "stdout",
          "text": [
            "\n",
            "Grouped and summed Revenue for 2025:\n",
            "  MARSHA Code  Stay Year Calendar      Revenue\n",
            "0       NYCJF                2025   4097743.72\n",
            "1       NYCMD                2025   8399036.66\n",
            "2       NYCPK                2025  14619298.96\n",
            "3       NYCPR                2025  14277788.78\n",
            "4       NYCQL                2025   3124350.36\n",
            "5       NYCRI                2025  15064162.93\n",
            "6       PHLRI                2025   4892355.46\n",
            "\n",
            "Grouped and summed Revenue for 2024:\n",
            "  MARSHA Code  Stay Year Calendar      Revenue\n",
            "0       NYCJF                2024  13740519.14\n",
            "1       NYCMD                2024  25228757.00\n",
            "2       NYCPK                2024  39768350.40\n",
            "3       NYCPR                2024  31919111.19\n",
            "4       NYCQL                2024  12825073.49\n",
            "5       NYCRI                2024  38660985.18\n",
            "6       PHLRI                2024  14563095.73\n",
            "\n",
            "Grouped and summed Revenue for 2023:\n",
            "  MARSHA Code  Stay Year Calendar      Revenue\n",
            "0       NYCJF                2023  12399977.31\n",
            "1       NYCMD                2023  23492320.61\n",
            "2       NYCPK                2023  37597686.53\n",
            "3       NYCPR                2023  29948591.24\n",
            "4       NYCQL                2023  10906036.12\n",
            "5       NYCRI                2023  36775517.26\n",
            "6       PHLRI                2023  12591522.97\n"
          ]
        }
      ]
    },
    {
      "cell_type": "code",
      "source": [
        "# ss-: plot bar plot of df_grouped_2025, df_grouped_2024, df_grouped_2023 (MARSHA code, revenue, hue Stay Year Calendar), show revenue values\n",
        "\n",
        "# Combine the dataframes for plotting\n",
        "df_combined = pd.concat([df_grouped_2025, df_grouped_2024, df_grouped_2023])\n",
        "\n",
        "# Plot the data\n",
        "plt.figure(figsize=(12, 8))\n",
        "ax = sns.barplot(x='MARSHA Code', y='Revenue', hue='Stay Year Calendar', data=df_combined)\n",
        "\n",
        "# Add revenue values on top of the bars\n",
        "for container in ax.containers:\n",
        "    ax.bar_label(container, fmt='{:,.0f}', label_type='edge', padding=3)\n",
        "\n",
        "plt.title('Revenue by MARSHA Code and Stay Year Calendar (2023-2025)')\n",
        "plt.xlabel('MARSHA Code')\n",
        "plt.ylabel('Total Revenue')\n",
        "plt.xticks(rotation=45, ha='right')\n",
        "plt.tight_layout()\n",
        "plt.show()"
      ],
      "metadata": {
        "colab": {
          "base_uri": "https://localhost:8080/",
          "height": 807
        },
        "id": "QuYamxHkm1Xn",
        "outputId": "3eaf7b7f-4ed7-4def-bf97-86a2cf631b72"
      },
      "execution_count": 96,
      "outputs": [
        {
          "output_type": "display_data",
          "data": {
            "text/plain": [
              "<Figure size 1200x800 with 1 Axes>"
            ],
            "image/png": "[encoded data removed]"
          },
          "metadata": {}
        }
      ]
    },
    {
      "cell_type": "markdown",
      "source": [
        "Use regression to predict revenue"
      ],
      "metadata": {
        "id": "AXYIX7fX7tBM"
      }
    },
    {
      "cell_type": "markdown",
      "source": [
        "Converting all data colums to numerical values"
      ],
      "metadata": {
        "id": "5sdjeXbu75WB"
      }
    },
    {
      "cell_type": "code",
      "source": [
        "df_combined_all = pd.concat([df_2025, df_2024, df_2023])\n",
        "df_combined_all.info()"
      ],
      "metadata": {
        "colab": {
          "base_uri": "https://localhost:8080/"
        },
        "id": "V9nKqGxI8IAW",
        "outputId": "dfcd41bf-7440-4050-d1bf-bab1953c000e"
      },
      "execution_count": 97,
      "outputs": [
        {
          "output_type": "stream",
          "name": "stdout",
          "text": [
            "<class 'pandas.core.frame.DataFrame'>\n",
            "Index: 626773 entries, 2 to 202288\n",
            "Data columns (total 16 columns):\n",
            " #   Column                          Non-Null Count   Dtype  \n",
            "---  ------                          --------------   -----  \n",
            " 0   Stay Year Calendar              626773 non-null  int64  \n",
            " 1   Stay YYYYMM                     626773 non-null  int64  \n",
            " 2   Stay DOW Text                   626773 non-null  object \n",
            " 3   Stay Date                       626773 non-null  object \n",
            " 4   Booking Date                    195844 non-null  object \n",
            " 5   MARSHA Code                     626773 non-null  object \n",
            " 6   Market Category                 626773 non-null  object \n",
            " 7   Market Segment Name for Report  626773 non-null  object \n",
            " 8   Market Prfx Name for Report     626773 non-null  object \n",
            " 9   Rate Program Code               626773 non-null  object \n",
            " 10  Rate Program Name               626773 non-null  object \n",
            " 11  Channel Aggregate Name          195844 non-null  object \n",
            " 12  Room Pool Code                  626773 non-null  object \n",
            " 13  RoomNights                      626773 non-null  int64  \n",
            " 14  ADR                             626773 non-null  object \n",
            " 15  Revenue                         626773 non-null  float64\n",
            "dtypes: float64(1), int64(3), object(12)\n",
            "memory usage: 81.3+ MB\n"
          ]
        }
      ]
    },
    {
      "cell_type": "markdown",
      "source": [
        "create new dataframe which has MARSHA Code = \"NYCRI\"  Drop columns (\"Stay Year Calendar\", \"RoomNights\", and \"ADR\"). Create an index column.\n"
      ],
      "metadata": {
        "id": "hCFc6Eb1-dJ_"
      }
    },
    {
      "cell_type": "code",
      "source": [
        "# ss-: create new dataframe which has MARSHA Code = \"NYCRI\". Drop columns (\"Stay Year Calendar\", \"RoomNights\", \"ADR\"). Create an index column.\n",
        "\n",
        "# Create the new dataframe filtered by MARSHA Code\n",
        "df_nycri_processed = df_combined_all[df_combined_all['MARSHA Code'] == 'NYCRI'].copy()\n",
        "\n",
        "# Define the columns to drop\n",
        "columns_to_drop = [\"Stay Year Calendar\", \"Booking Date\", \"RoomNights\", \"ADR\"]\n",
        "\n",
        "# Drop the specified columns\n",
        "df_nycri_processed = df_nycri_processed.drop(columns=columns_to_drop, errors='ignore')\n",
        "\n",
        "# Create an index column (resetting the existing index)\n",
        "df_nycri_processed = df_nycri_processed.reset_index(drop=True)\n",
        "df_nycri_processed['index'] = df_nycri_processed.index\n",
        "\n",
        "# Print info and head of the new dataframe to verify\n",
        "print(\"\\nInfo of the new df_nycri_processed dataframe:\")\n",
        "df_nycri_processed.info()\n",
        "\n",
        "print(\"\\nHead of the new df_nycri_processed dataframe:\")\n",
        "print(df_nycri_processed.head())"
      ],
      "metadata": {
        "colab": {
          "base_uri": "https://localhost:8080/"
        },
        "id": "k8LCTtXu_sKo",
        "outputId": "fa03d7a3-d426-4ad6-de87-eec22227816f"
      },
      "execution_count": 98,
      "outputs": [
        {
          "output_type": "stream",
          "name": "stdout",
          "text": [
            "\n",
            "Info of the new df_nycri_processed dataframe:\n",
            "<class 'pandas.core.frame.DataFrame'>\n",
            "RangeIndex: 124219 entries, 0 to 124218\n",
            "Data columns (total 13 columns):\n",
            " #   Column                          Non-Null Count   Dtype  \n",
            "---  ------                          --------------   -----  \n",
            " 0   Stay YYYYMM                     124219 non-null  int64  \n",
            " 1   Stay DOW Text                   124219 non-null  object \n",
            " 2   Stay Date                       124219 non-null  object \n",
            " 3   MARSHA Code                     124219 non-null  object \n",
            " 4   Market Category                 124219 non-null  object \n",
            " 5   Market Segment Name for Report  124219 non-null  object \n",
            " 6   Market Prfx Name for Report     124219 non-null  object \n",
            " 7   Rate Program Code               124219 non-null  object \n",
            " 8   Rate Program Name               124219 non-null  object \n",
            " 9   Channel Aggregate Name          43693 non-null   object \n",
            " 10  Room Pool Code                  124219 non-null  object \n",
            " 11  Revenue                         124219 non-null  float64\n",
            " 12  index                           124219 non-null  int64  \n",
            "dtypes: float64(1), int64(2), object(10)\n",
            "memory usage: 12.3+ MB\n",
            "\n",
            "Head of the new df_nycri_processed dataframe:\n",
            "   Stay YYYYMM Stay DOW Text Stay Date MARSHA Code Market Category  \\\n",
            "0       202501           WED  1-Jan-25       NYCRI       TRANSIENT   \n",
            "1       202501           WED  1-Jan-25       NYCRI       TRANSIENT   \n",
            "2       202501           WED  1-Jan-25       NYCRI       TRANSIENT   \n",
            "3       202501           WED  1-Jan-25       NYCRI       TRANSIENT   \n",
            "4       202501           WED  1-Jan-25       NYCRI       TRANSIENT   \n",
            "\n",
            "  Market Segment Name for Report Market Prfx Name for Report  \\\n",
            "0                         Retail          34 eChannel Retail   \n",
            "1                         Retail          34 eChannel Retail   \n",
            "2                         Retail          34 eChannel Retail   \n",
            "3                         Retail          34 eChannel Retail   \n",
            "4                         Retail          34 eChannel Retail   \n",
            "\n",
            "  Rate Program Code Rate Program Name Channel Aggregate Name Room Pool Code  \\\n",
            "0              KXPK      B.COM RETAIL               eChannel           STKT   \n",
            "1              KXPK      B.COM RETAIL               eChannel           STKT   \n",
            "2              KXPK      B.COM RETAIL               eChannel           STKT   \n",
            "3              XXPA    EXPEDIA.COM HC               eChannel           STKT   \n",
            "4              KXPK      B.COM RETAIL               eChannel           STKT   \n",
            "\n",
            "   Revenue  index  \n",
            "0    807.3      0  \n",
            "1    834.3      1  \n",
            "2    278.1      2  \n",
            "3    309.0      3  \n",
            "4    834.3      4  \n"
          ]
        }
      ]
    },
    {
      "cell_type": "markdown",
      "source": [
        "ss - Add a column Month to df_nycri_processed value of Month is last two digits of \"Stay YYYYMM\" column\n",
        "\n",
        "\n"
      ],
      "metadata": {
        "id": "JKaAH3rgxXYX"
      }
    },
    {
      "cell_type": "code",
      "source": [
        "# ss - Add a column Month to df_nycri_processedm value of Month is last two digits of \"Stay YYYYMM\" column\n",
        "df_nycri_processed['Month'] = df_nycri_processed['Stay YYYYMM'].astype(str).str[-2:]\n",
        "print(\"\\nHead of df_nycri_processed after adding Month column:\")\n",
        "#print(df_nycri_processed.head())\n",
        "print(df_nycri_processed.info())"
      ],
      "metadata": {
        "colab": {
          "base_uri": "https://localhost:8080/"
        },
        "id": "ss-C6m2UyFtH",
        "outputId": "e42eb675-cf23-40bc-9fc0-6bf2d926dd90"
      },
      "execution_count": 99,
      "outputs": [
        {
          "output_type": "stream",
          "name": "stdout",
          "text": [
            "\n",
            "Head of df_nycri_processed after adding Month column:\n",
            "<class 'pandas.core.frame.DataFrame'>\n",
            "RangeIndex: 124219 entries, 0 to 124218\n",
            "Data columns (total 14 columns):\n",
            " #   Column                          Non-Null Count   Dtype  \n",
            "---  ------                          --------------   -----  \n",
            " 0   Stay YYYYMM                     124219 non-null  int64  \n",
            " 1   Stay DOW Text                   124219 non-null  object \n",
            " 2   Stay Date                       124219 non-null  object \n",
            " 3   MARSHA Code                     124219 non-null  object \n",
            " 4   Market Category                 124219 non-null  object \n",
            " 5   Market Segment Name for Report  124219 non-null  object \n",
            " 6   Market Prfx Name for Report     124219 non-null  object \n",
            " 7   Rate Program Code               124219 non-null  object \n",
            " 8   Rate Program Name               124219 non-null  object \n",
            " 9   Channel Aggregate Name          43693 non-null   object \n",
            " 10  Room Pool Code                  124219 non-null  object \n",
            " 11  Revenue                         124219 non-null  float64\n",
            " 12  index                           124219 non-null  int64  \n",
            " 13  Month                           124219 non-null  object \n",
            "dtypes: float64(1), int64(2), object(11)\n",
            "memory usage: 13.3+ MB\n",
            "None\n"
          ]
        }
      ]
    },
    {
      "cell_type": "markdown",
      "source": [
        "Calculate number of unique values of Stay Date\" in df_nycri_processed"
      ],
      "metadata": {
        "id": "3-MOxqqizQrp"
      }
    },
    {
      "cell_type": "code",
      "source": [
        "# ss - Calculate number of unique values of Stay Date\" in df_nycri_processed\n",
        "num_unique_stay_date = df_nycri_processed['Stay Date'].nunique()\n",
        "print(f\"Number of unique values in 'Stay Date': {num_unique_stay_date}\")\n"
      ],
      "metadata": {
        "colab": {
          "base_uri": "https://localhost:8080/"
        },
        "id": "w1MKESLWzgqZ",
        "outputId": "b4b0b686-9a67-4a44-d281-5c23c6a81f74"
      },
      "execution_count": 100,
      "outputs": [
        {
          "output_type": "stream",
          "name": "stdout",
          "text": [
            "Number of unique values in 'Stay Date': 1096\n"
          ]
        }
      ]
    },
    {
      "cell_type": "code",
      "source": [
        "# drop Stay YYYYMM\" column\n",
        "df_nycri_processed = df_nycri_processed.drop(columns=['Stay YYYYMM'])\n",
        "print(\"\\nHead of df_nycri_processed after dropping Stay YYYYMM column:\")\n",
        "print(df_nycri_processed.head())\n"
      ],
      "metadata": {
        "colab": {
          "base_uri": "https://localhost:8080/"
        },
        "id": "qh5t9Ato4rXT",
        "outputId": "c05a99b9-9c76-412e-81a5-d4faee0a2acd"
      },
      "execution_count": 101,
      "outputs": [
        {
          "output_type": "stream",
          "name": "stdout",
          "text": [
            "\n",
            "Head of df_nycri_processed after dropping Stay YYYYMM column:\n",
            "  Stay DOW Text Stay Date MARSHA Code Market Category  \\\n",
            "0           WED  1-Jan-25       NYCRI       TRANSIENT   \n",
            "1           WED  1-Jan-25       NYCRI       TRANSIENT   \n",
            "2           WED  1-Jan-25       NYCRI       TRANSIENT   \n",
            "3           WED  1-Jan-25       NYCRI       TRANSIENT   \n",
            "4           WED  1-Jan-25       NYCRI       TRANSIENT   \n",
            "\n",
            "  Market Segment Name for Report Market Prfx Name for Report  \\\n",
            "0                         Retail          34 eChannel Retail   \n",
            "1                         Retail          34 eChannel Retail   \n",
            "2                         Retail          34 eChannel Retail   \n",
            "3                         Retail          34 eChannel Retail   \n",
            "4                         Retail          34 eChannel Retail   \n",
            "\n",
            "  Rate Program Code Rate Program Name Channel Aggregate Name Room Pool Code  \\\n",
            "0              KXPK      B.COM RETAIL               eChannel           STKT   \n",
            "1              KXPK      B.COM RETAIL               eChannel           STKT   \n",
            "2              KXPK      B.COM RETAIL               eChannel           STKT   \n",
            "3              XXPA    EXPEDIA.COM HC               eChannel           STKT   \n",
            "4              KXPK      B.COM RETAIL               eChannel           STKT   \n",
            "\n",
            "   Revenue  index Month  \n",
            "0    807.3      0    01  \n",
            "1    834.3      1    01  \n",
            "2    278.1      2    01  \n",
            "3    309.0      3    01  \n",
            "4    834.3      4    01  \n"
          ]
        }
      ]
    },
    {
      "cell_type": "markdown",
      "source": [
        "ss - use  group by \"ss - use  group by \"Stay Date\" on df_nycri_processed YYYYMM\" on df_nycri_processed"
      ],
      "metadata": {
        "id": "UpKikSKoC-FC"
      }
    },
    {
      "cell_type": "code",
      "source": [
        "# ss - use group by \"Stay Date\" on df_nycri_processed\n",
        "\n",
        "df_nycri_processed_grouped_date = df_nycri_processed.groupby('Stay Date').sum().reset_index()\n",
        "print(\"\\nGrouped df_nycri_processed by 'Stay Date':\")\n",
        "#print(df_nycri_processed_grouped_date.head())\n",
        "print(df_nycri_processed_grouped_date.shape)"
      ],
      "metadata": {
        "colab": {
          "base_uri": "https://localhost:8080/"
        },
        "id": "TmnoweRm1z3U",
        "outputId": "dbe3928a-749a-4bdb-f6c2-a2f85fb45101"
      },
      "execution_count": 102,
      "outputs": [
        {
          "output_type": "stream",
          "name": "stdout",
          "text": [
            "\n",
            "Grouped df_nycri_processed by 'Stay Date':\n",
            "(1096, 13)\n"
          ]
        }
      ]
    },
    {
      "cell_type": "code",
      "source": [
        "# ss - Find number of rows with NaN values in Revenue columns of df_nycri_processed\n",
        "\n",
        "print(\"\\nNumber of rows with NaN values in 'Revenue' column of df_nycri_processed:\")\n",
        "print(df_nycri_processed_grouped_date['Revenue'].isnull().sum())"
      ],
      "metadata": {
        "id": "RgKQr1TPL_36",
        "colab": {
          "base_uri": "https://localhost:8080/"
        },
        "outputId": "7c3ed594-8024-411f-b894-263dc281fce1"
      },
      "execution_count": 103,
      "outputs": [
        {
          "output_type": "stream",
          "name": "stdout",
          "text": [
            "\n",
            "Number of rows with NaN values in 'Revenue' column of df_nycri_processed:\n",
            "0\n"
          ]
        }
      ]
    },
    {
      "cell_type": "code",
      "source": [
        "df_nycri_processed_grouped_date.info()"
      ],
      "metadata": {
        "colab": {
          "base_uri": "https://localhost:8080/"
        },
        "id": "wardftuY4Xzx",
        "outputId": "6d469fc0-02e5-4539-8bd7-69695d22b3f7"
      },
      "execution_count": 104,
      "outputs": [
        {
          "output_type": "stream",
          "name": "stdout",
          "text": [
            "<class 'pandas.core.frame.DataFrame'>\n",
            "RangeIndex: 1096 entries, 0 to 1095\n",
            "Data columns (total 13 columns):\n",
            " #   Column                          Non-Null Count  Dtype  \n",
            "---  ------                          --------------  -----  \n",
            " 0   Stay Date                       1096 non-null   object \n",
            " 1   Stay DOW Text                   1096 non-null   object \n",
            " 2   MARSHA Code                     1096 non-null   object \n",
            " 3   Market Category                 1096 non-null   object \n",
            " 4   Market Segment Name for Report  1096 non-null   object \n",
            " 5   Market Prfx Name for Report     1096 non-null   object \n",
            " 6   Rate Program Code               1096 non-null   object \n",
            " 7   Rate Program Name               1096 non-null   object \n",
            " 8   Channel Aggregate Name          1096 non-null   object \n",
            " 9   Room Pool Code                  1096 non-null   object \n",
            " 10  Revenue                         1096 non-null   float64\n",
            " 11  index                           1096 non-null   int64  \n",
            " 12  Month                           1096 non-null   object \n",
            "dtypes: float64(1), int64(1), object(11)\n",
            "memory usage: 111.4+ KB\n"
          ]
        }
      ]
    },
    {
      "cell_type": "code",
      "source": [
        "df_nycri_processed_grouped_date = df_nycri_processed_grouped_date.drop(columns=['Stay Date'])\n",
        "df_nycri_processed_grouped_date.info()\n"
      ],
      "metadata": {
        "colab": {
          "base_uri": "https://localhost:8080/"
        },
        "id": "S1el0NI-7C78",
        "outputId": "be7eb333-6fe3-4b97-9c5d-05d52ebe5fa9"
      },
      "execution_count": 105,
      "outputs": [
        {
          "output_type": "stream",
          "name": "stdout",
          "text": [
            "<class 'pandas.core.frame.DataFrame'>\n",
            "RangeIndex: 1096 entries, 0 to 1095\n",
            "Data columns (total 12 columns):\n",
            " #   Column                          Non-Null Count  Dtype  \n",
            "---  ------                          --------------  -----  \n",
            " 0   Stay DOW Text                   1096 non-null   object \n",
            " 1   MARSHA Code                     1096 non-null   object \n",
            " 2   Market Category                 1096 non-null   object \n",
            " 3   Market Segment Name for Report  1096 non-null   object \n",
            " 4   Market Prfx Name for Report     1096 non-null   object \n",
            " 5   Rate Program Code               1096 non-null   object \n",
            " 6   Rate Program Name               1096 non-null   object \n",
            " 7   Channel Aggregate Name          1096 non-null   object \n",
            " 8   Room Pool Code                  1096 non-null   object \n",
            " 9   Revenue                         1096 non-null   float64\n",
            " 10  index                           1096 non-null   int64  \n",
            " 11  Month                           1096 non-null   object \n",
            "dtypes: float64(1), int64(1), object(10)\n",
            "memory usage: 102.9+ KB\n"
          ]
        }
      ]
    },
    {
      "cell_type": "code",
      "source": [
        "# ss - Use sklearn.preprocessing.TargetEncoder to encode all non numeric columns in df_nycri_processed_grouped_date\n",
        "\n",
        "#from sklearn.preprocessing import TargetEncoder\n",
        "\n",
        "# Drop the 'index' column if it exists as it's not needed for encoding or modeling\n",
        "if 'index' in df_nycri_processed_grouped_date.columns:\n",
        "    df_nycri_processed_grouped_date = df_nycri_processed_grouped_date.drop(columns=['index'])\n",
        "\n",
        "# Explicitly select the object columns to be encoded, excluding 'Stay Date' and 'Stay YYYYMM'\n",
        "columns_to_encode = ['Stay DOW Text', 'MARSHA Code', 'Market Category',\n",
        "                     'Market Segment Name for Report', 'Market Prfx Name for Report',\n",
        "                     'Rate Program Code', 'Rate Program Name', 'Channel Aggregate Name',\n",
        "                     'Room Pool Code', 'Month']\n",
        "\n",
        "# Create a temporary dataframe with only the columns to encode and convert them to string type\n",
        "df_to_encode = df_nycri_processed_grouped_date[columns_to_encode].astype(str)\n",
        "\n",
        "\n",
        "# Initialize TargetEncoder\n",
        "target_encoder = TargetEncoder()\n",
        "\n",
        "# Fit and transform the selected columns\n",
        "# Use the 'Revenue' column from the grouped dataframe as the target\n",
        "df_nycri_processed_grouped_date[columns_to_encode] = target_encoder.fit_transform(df_to_encode, df_nycri_processed_grouped_date['Revenue'])\n",
        "\n",
        "print(\"\\nInfo of df_nycri_processed_grouped_date after Target Encoding:\")\n",
        "df_nycri_processed_grouped_date.info()\n",
        "\n",
        "print(\"\\nHead of df_nycri_processed_grouped_date after Target Encoding:\")\n",
        "print(df_nycri_processed_grouped_date.head())"
      ],
      "metadata": {
        "colab": {
          "base_uri": "https://localhost:8080/"
        },
        "id": "YupZt9so-3yQ",
        "outputId": "8a6668ab-cec1-4c44-d7cb-c12987c57897"
      },
      "execution_count": 106,
      "outputs": [
        {
          "output_type": "stream",
          "name": "stdout",
          "text": [
            "\n",
            "Info of df_nycri_processed_grouped_date after Target Encoding:\n",
            "<class 'pandas.core.frame.DataFrame'>\n",
            "RangeIndex: 1096 entries, 0 to 1095\n",
            "Data columns (total 11 columns):\n",
            " #   Column                          Non-Null Count  Dtype  \n",
            "---  ------                          --------------  -----  \n",
            " 0   Stay DOW Text                   1096 non-null   float64\n",
            " 1   MARSHA Code                     1096 non-null   float64\n",
            " 2   Market Category                 1096 non-null   float64\n",
            " 3   Market Segment Name for Report  1096 non-null   float64\n",
            " 4   Market Prfx Name for Report     1096 non-null   float64\n",
            " 5   Rate Program Code               1096 non-null   float64\n",
            " 6   Rate Program Name               1096 non-null   float64\n",
            " 7   Channel Aggregate Name          1096 non-null   float64\n",
            " 8   Room Pool Code                  1096 non-null   float64\n",
            " 9   Revenue                         1096 non-null   float64\n",
            " 10  Month                           1096 non-null   float64\n",
            "dtypes: float64(11)\n",
            "memory usage: 94.3 KB\n",
            "\n",
            "Head of df_nycri_processed_grouped_date after Target Encoding:\n",
            "   Stay DOW Text   MARSHA Code  Market Category  \\\n",
            "0   83200.668345  83200.668345     83200.668345   \n",
            "1   94249.550000  84640.905284     34041.047126   \n",
            "2    3401.000000   3030.295542      3030.295542   \n",
            "3   83075.738130  80508.483594     83075.738130   \n",
            "4   83075.738130  75606.990000     83075.738130   \n",
            "\n",
            "   Market Segment Name for Report  Market Prfx Name for Report  \\\n",
            "0                    83200.668345                 83200.668345   \n",
            "1                    83200.668345                 83200.668345   \n",
            "2                    82035.273455                 82035.273455   \n",
            "3                    83075.738130                 83075.738130   \n",
            "4                    83075.738130                 83075.738130   \n",
            "\n",
            "   Rate Program Code  Rate Program Name  Channel Aggregate Name  \\\n",
            "0       83200.668345       83200.668345            83200.668345   \n",
            "1       83200.668345       83200.668345            83200.668345   \n",
            "2       82035.273455       82035.273455             3242.506827   \n",
            "3       83075.738130       83075.738130            83075.738130   \n",
            "4       83075.738130       83075.738130            83075.738130   \n",
            "\n",
            "   Room Pool Code    Revenue         Month  \n",
            "0    83200.668345  121065.78  83200.668345  \n",
            "1    83200.668345   33029.10  83200.668345  \n",
            "2    82035.273455    2419.00   3242.506827  \n",
            "3    83075.738130   69810.62  72305.189484  \n",
            "4    83075.738130  100903.78  83075.738130  \n"
          ]
        }
      ]
    },
    {
      "cell_type": "markdown",
      "source": [
        "\n",
        "\n",
        "```\n",
        "\n",
        "```\n",
        "\n",
        "Use sklearn.preprocessing.TargetEncoder to encode all non numeric columns in df_nycri_processed_grouped_date\n"
      ],
      "metadata": {
        "id": "IA_lKg3GASJl"
      }
    },
    {
      "cell_type": "markdown",
      "source": [
        "Plot correlation of every feature of df_nycri_processed with Revenue"
      ],
      "metadata": {
        "id": "vliOVbcdPYqm"
      }
    },
    {
      "cell_type": "code",
      "source": [
        "# ss - Plot correlation of every feature of df_nycri_processed with Revenue\n",
        "\n",
        "# Calculate the correlation of all features with 'Revenue'\n",
        "correlations = df_nycri_processed_grouped_date.corr()['Revenue'].sort_values(ascending=False)\n",
        "\n",
        "# Plot the correlations\n",
        "plt.figure(figsize=(10, 8))\n",
        "correlations.drop('Revenue').plot(kind='bar') # Drop self-correlation\n",
        "plt.title('Correlation with Revenue')\n",
        "plt.xlabel('Features')\n",
        "plt.ylabel('Correlation Coefficient')\n",
        "plt.xticks(rotation=90)\n",
        "plt.grid(axis='y')\n",
        "plt.tight_layout()\n",
        "plt.show()"
      ],
      "metadata": {
        "colab": {
          "base_uri": "https://localhost:8080/",
          "height": 807
        },
        "id": "OFIQ1FvZP2qe",
        "outputId": "341e474c-f474-46e2-e22b-8995c39b751b"
      },
      "execution_count": 107,
      "outputs": [
        {
          "output_type": "display_data",
          "data": {
            "text/plain": [
              "<Figure size 1000x800 with 1 Axes>"
            ],
            "image/png": "[encoded data removed]"
          },
          "metadata": {}
        }
      ]
    },
    {
      "cell_type": "code",
      "source": [
        "df_nycri_processed.head()"
      ],
      "metadata": {
        "id": "2UI12BFVQTxH",
        "colab": {
          "base_uri": "https://localhost:8080/",
          "height": 327
        },
        "outputId": "d07639df-29f3-4c26-8593-7319c453dc98"
      },
      "execution_count": 108,
      "outputs": [
        {
          "output_type": "execute_result",
          "data": {
            "text/plain": [
              "  Stay DOW Text Stay Date MARSHA Code Market Category  \\\n",
              "0           WED  1-Jan-25       NYCRI       TRANSIENT   \n",
              "1           WED  1-Jan-25       NYCRI       TRANSIENT   \n",
              "2           WED  1-Jan-25       NYCRI       TRANSIENT   \n",
              "3           WED  1-Jan-25       NYCRI       TRANSIENT   \n",
              "4           WED  1-Jan-25       NYCRI       TRANSIENT   \n",
              "\n",
              "  Market Segment Name for Report Market Prfx Name for Report  \\\n",
              "0                         Retail          34 eChannel Retail   \n",
              "1                         Retail          34 eChannel Retail   \n",
              "2                         Retail          34 eChannel Retail   \n",
              "3                         Retail          34 eChannel Retail   \n",
              "4                         Retail          34 eChannel Retail   \n",
              "\n",
              "  Rate Program Code Rate Program Name Channel Aggregate Name Room Pool Code  \\\n",
              "0              KXPK      B.COM RETAIL               eChannel           STKT   \n",
              "1              KXPK      B.COM RETAIL               eChannel           STKT   \n",
              "2              KXPK      B.COM RETAIL               eChannel           STKT   \n",
              "3              XXPA    EXPEDIA.COM HC               eChannel           STKT   \n",
              "4              KXPK      B.COM RETAIL               eChannel           STKT   \n",
              "\n",
              "   Revenue  index Month  \n",
              "0    807.3      0    01  \n",
              "1    834.3      1    01  \n",
              "2    278.1      2    01  \n",
              "3    309.0      3    01  \n",
              "4    834.3      4    01  "
            ],
            "text/html": [
              "\n",
              "  <div id=\"df-03342bbd-0b20-4212-ad69-3c0f8383cb95\" class=\"colab-df-container\">\n",
              "    <div>\n",
              "<style scoped>\n",
              "    .dataframe tbody tr th:only-of-type {\n",
              "        vertical-align: middle;\n",
              "    }\n",
              "\n",
              "    .dataframe tbody tr th {\n",
              "        vertical-align: top;\n",
              "    }\n",
              "\n",
              "    .dataframe thead th {\n",
              "        text-align: right;\n",
              "    }\n",
              "</style>\n",
              "<table border=\"1\" class=\"dataframe\">\n",
              "  <thead>\n",
              "    <tr style=\"text-align: right;\">\n",
              "      <th></th>\n",
              "      <th>Stay DOW Text</th>\n",
              "      <th>Stay Date</th>\n",
              "      <th>MARSHA Code</th>\n",
              "      <th>Market Category</th>\n",
              "      <th>Market Segment Name for Report</th>\n",
              "      <th>Market Prfx Name for Report</th>\n",
              "      <th>Rate Program Code</th>\n",
              "      <th>Rate Program Name</th>\n",
              "      <th>Channel Aggregate Name</th>\n",
              "      <th>Room Pool Code</th>\n",
              "      <th>Revenue</th>\n",
              "      <th>index</th>\n",
              "      <th>Month</th>\n",
              "    </tr>\n",
              "  </thead>\n",
              "  <tbody>\n",
              "    <tr>\n",
              "      <th>0</th>\n",
              "      <td>WED</td>\n",
              "      <td>1-Jan-25</td>\n",
              "      <td>NYCRI</td>\n",
              "      <td>TRANSIENT</td>\n",
              "      <td>Retail</td>\n",
              "      <td>34 eChannel Retail</td>\n",
              "      <td>KXPK</td>\n",
              "      <td>B.COM RETAIL</td>\n",
              "      <td>eChannel</td>\n",
              "      <td>STKT</td>\n",
              "      <td>807.3</td>\n",
              "      <td>0</td>\n",
              "      <td>01</td>\n",
              "    </tr>\n",
              "    <tr>\n",
              "      <th>1</th>\n",
              "      <td>WED</td>\n",
              "      <td>1-Jan-25</td>\n",
              "      <td>NYCRI</td>\n",
              "      <td>TRANSIENT</td>\n",
              "      <td>Retail</td>\n",
              "      <td>34 eChannel Retail</td>\n",
              "      <td>KXPK</td>\n",
              "      <td>B.COM RETAIL</td>\n",
              "      <td>eChannel</td>\n",
              "      <td>STKT</td>\n",
              "      <td>834.3</td>\n",
              "      <td>1</td>\n",
              "      <td>01</td>\n",
              "    </tr>\n",
              "    <tr>\n",
              "      <th>2</th>\n",
              "      <td>WED</td>\n",
              "      <td>1-Jan-25</td>\n",
              "      <td>NYCRI</td>\n",
              "      <td>TRANSIENT</td>\n",
              "      <td>Retail</td>\n",
              "      <td>34 eChannel Retail</td>\n",
              "      <td>KXPK</td>\n",
              "      <td>B.COM RETAIL</td>\n",
              "      <td>eChannel</td>\n",
              "      <td>STKT</td>\n",
              "      <td>278.1</td>\n",
              "      <td>2</td>\n",
              "      <td>01</td>\n",
              "    </tr>\n",
              "    <tr>\n",
              "      <th>3</th>\n",
              "      <td>WED</td>\n",
              "      <td>1-Jan-25</td>\n",
              "      <td>NYCRI</td>\n",
              "      <td>TRANSIENT</td>\n",
              "      <td>Retail</td>\n",
              "      <td>34 eChannel Retail</td>\n",
              "      <td>XXPA</td>\n",
              "      <td>EXPEDIA.COM HC</td>\n",
              "      <td>eChannel</td>\n",
              "      <td>STKT</td>\n",
              "      <td>309.0</td>\n",
              "      <td>3</td>\n",
              "      <td>01</td>\n",
              "    </tr>\n",
              "    <tr>\n",
              "      <th>4</th>\n",
              "      <td>WED</td>\n",
              "      <td>1-Jan-25</td>\n",
              "      <td>NYCRI</td>\n",
              "      <td>TRANSIENT</td>\n",
              "      <td>Retail</td>\n",
              "      <td>34 eChannel Retail</td>\n",
              "      <td>KXPK</td>\n",
              "      <td>B.COM RETAIL</td>\n",
              "      <td>eChannel</td>\n",
              "      <td>STKT</td>\n",
              "      <td>834.3</td>\n",
              "      <td>4</td>\n",
              "      <td>01</td>\n",
              "    </tr>\n",
              "  </tbody>\n",
              "</table>\n",
              "</div>\n",
              "    <div class=\"colab-df-buttons\">\n",
              "\n",
              "  <div class=\"colab-df-container\">\n",
              "    <button class=\"colab-df-convert\" onclick=\"convertToInteractive('df-03342bbd-0b20-4212-ad69-3c0f8383cb95')\"\n",
              "            title=\"Convert this dataframe to an interactive table.\"\n",
              "            style=\"display:none;\">\n",
              "\n",
              "  <svg xmlns=\"http://www.w3.org/2000/svg\" height=\"24px\" viewBox=\"0 -960 960 960\">\n",
              "    <path d=\"M120-120v-720h720v720H120Zm60-500h600v-160H180v160Zm220 220h160v-160H400v160Zm0 220h160v-160H400v160ZM180-400h160v-160H180v160Zm440 0h160v-160H620v160ZM180-180h160v-160H180v160Zm440 0h160v-160H620v160Z\"/>\n",
              "  </svg>\n",
              "    </button>\n",
              "\n",
              "  <style>\n",
              "    .colab-df-container {\n",
              "      display:flex;\n",
              "      gap: 12px;\n",
              "    }\n",
              "\n",
              "    .colab-df-convert {\n",
              "      background-color: #E8F0FE;\n",
              "      border: none;\n",
              "      border-radius: 50%;\n",
              "      cursor: pointer;\n",
              "      display: none;\n",
              "      fill: #1967D2;\n",
              "      height: 32px;\n",
              "      padding: 0 0 0 0;\n",
              "      width: 32px;\n",
              "    }\n",
              "\n",
              "    .colab-df-convert:hover {\n",
              "      background-color: #E2EBFA;\n",
              "      box-shadow: 0px 1px 2px rgba(60, 64, 67, 0.3), 0px 1px 3px 1px rgba(60, 64, 67, 0.15);\n",
              "      fill: #174EA6;\n",
              "    }\n",
              "\n",
              "    .colab-df-buttons div {\n",
              "      margin-bottom: 4px;\n",
              "    }\n",
              "\n",
              "    [theme=dark] .colab-df-convert {\n",
              "      background-color: #3B4455;\n",
              "      fill: #D2E3FC;\n",
              "    }\n",
              "\n",
              "    [theme=dark] .colab-df-convert:hover {\n",
              "      background-color: #434B5C;\n",
              "      box-shadow: 0px 1px 3px 1px rgba(0, 0, 0, 0.15);\n",
              "      filter: drop-shadow(0px 1px 2px rgba(0, 0, 0, 0.3));\n",
              "      fill: #FFFFFF;\n",
              "    }\n",
              "  </style>\n",
              "\n",
              "    <script>\n",
              "      const buttonEl =\n",
              "        document.querySelector('#df-03342bbd-0b20-4212-ad69-3c0f8383cb95 button.colab-df-convert');\n",
              "      buttonEl.style.display =\n",
              "        google.colab.kernel.accessAllowed ? 'block' : 'none';\n",
              "\n",
              "      async function convertToInteractive(key) {\n",
              "        const element = document.querySelector('#df-03342bbd-0b20-4212-ad69-3c0f8383cb95');\n",
              "        const dataTable =\n",
              "          await google.colab.kernel.invokeFunction('convertToInteractive',\n",
              "                                                    [key], {});\n",
              "        if (!dataTable) return;\n",
              "\n",
              "        const docLinkHtml = 'Like what you see? Visit the ' +\n",
              "          '<a target=\"_blank\" href=https://colab.research.google.com/notebooks/data_table.ipynb>data table notebook</a>'\n",
              "          + ' to learn more about interactive tables.';\n",
              "        element.innerHTML = '';\n",
              "        dataTable['output_type'] = 'display_data';\n",
              "        await google.colab.output.renderOutput(dataTable, element);\n",
              "        const docLink = document.createElement('div');\n",
              "        docLink.innerHTML = docLinkHtml;\n",
              "        element.appendChild(docLink);\n",
              "      }\n",
              "    </script>\n",
              "  </div>\n",
              "\n",
              "\n",
              "    <div id=\"df-8e838b32-fa5f-465e-8531-040cfccce2e8\">\n",
              "      <button class=\"colab-df-quickchart\" onclick=\"quickchart('df-8e838b32-fa5f-465e-8531-040cfccce2e8')\"\n",
              "                title=\"Suggest charts\"\n",
              "                style=\"display:none;\">\n",
              "\n",
              "<svg xmlns=\"http://www.w3.org/2000/svg\" height=\"24px\"viewBox=\"0 0 24 24\"\n",
              "     width=\"24px\">\n",
              "    <g>\n",
              "        <path d=\"M19 3H5c-1.1 0-2 .9-2 2v14c0 1.1.9 2 2 2h14c1.1 0 2-.9 2-2V5c0-1.1-.9-2-2-2zM9 17H7v-7h2v7zm4 0h-2V7h2v10zm4 0h-2v-4h2v4z\"/>\n",
              "    </g>\n",
              "</svg>\n",
              "      </button>\n",
              "\n",
              "<style>\n",
              "  .colab-df-quickchart {\n",
              "      --bg-color: #E8F0FE;\n",
              "      --fill-color: #1967D2;\n",
              "      --hover-bg-color: #E2EBFA;\n",
              "      --hover-fill-color: #174EA6;\n",
              "      --disabled-fill-color: #AAA;\n",
              "      --disabled-bg-color: #DDD;\n",
              "  }\n",
              "\n",
              "  [theme=dark] .colab-df-quickchart {\n",
              "      --bg-color: #3B4455;\n",
              "      --fill-color: #D2E3FC;\n",
              "      --hover-bg-color: #434B5C;\n",
              "      --hover-fill-color: #FFFFFF;\n",
              "      --disabled-bg-color: #3B4455;\n",
              "      --disabled-fill-color: #666;\n",
              "  }\n",
              "\n",
              "  .colab-df-quickchart {\n",
              "    background-color: var(--bg-color);\n",
              "    border: none;\n",
              "    border-radius: 50%;\n",
              "    cursor: pointer;\n",
              "    display: none;\n",
              "    fill: var(--fill-color);\n",
              "    height: 32px;\n",
              "    padding: 0;\n",
              "    width: 32px;\n",
              "  }\n",
              "\n",
              "  .colab-df-quickchart:hover {\n",
              "    background-color: var(--hover-bg-color);\n",
              "    box-shadow: 0 1px 2px rgba(60, 64, 67, 0.3), 0 1px 3px 1px rgba(60, 64, 67, 0.15);\n",
              "    fill: var(--button-hover-fill-color);\n",
              "  }\n",
              "\n",
              "  .colab-df-quickchart-complete:disabled,\n",
              "  .colab-df-quickchart-complete:disabled:hover {\n",
              "    background-color: var(--disabled-bg-color);\n",
              "    fill: var(--disabled-fill-color);\n",
              "    box-shadow: none;\n",
              "  }\n",
              "\n",
              "  .colab-df-spinner {\n",
              "    border: 2px solid var(--fill-color);\n",
              "    border-color: transparent;\n",
              "    border-bottom-color: var(--fill-color);\n",
              "    animation:\n",
              "      spin 1s steps(1) infinite;\n",
              "  }\n",
              "\n",
              "  @keyframes spin {\n",
              "    0% {\n",
              "      border-color: transparent;\n",
              "      border-bottom-color: var(--fill-color);\n",
              "      border-left-color: var(--fill-color);\n",
              "    }\n",
              "    20% {\n",
              "      border-color: transparent;\n",
              "      border-left-color: var(--fill-color);\n",
              "      border-top-color: var(--fill-color);\n",
              "    }\n",
              "    30% {\n",
              "      border-color: transparent;\n",
              "      border-left-color: var(--fill-color);\n",
              "      border-top-color: var(--fill-color);\n",
              "      border-right-color: var(--fill-color);\n",
              "    }\n",
              "    40% {\n",
              "      border-color: transparent;\n",
              "      border-right-color: var(--fill-color);\n",
              "      border-top-color: var(--fill-color);\n",
              "    }\n",
              "    60% {\n",
              "      border-color: transparent;\n",
              "      border-right-color: var(--fill-color);\n",
              "    }\n",
              "    80% {\n",
              "      border-color: transparent;\n",
              "      border-right-color: var(--fill-color);\n",
              "      border-bottom-color: var(--fill-color);\n",
              "    }\n",
              "    90% {\n",
              "      border-color: transparent;\n",
              "      border-bottom-color: var(--fill-color);\n",
              "    }\n",
              "  }\n",
              "</style>\n",
              "\n",
              "      <script>\n",
              "        async function quickchart(key) {\n",
              "          const quickchartButtonEl =\n",
              "            document.querySelector('#' + key + ' button');\n",
              "          quickchartButtonEl.disabled = true;  // To prevent multiple clicks.\n",
              "          quickchartButtonEl.classList.add('colab-df-spinner');\n",
              "          try {\n",
              "            const charts = await google.colab.kernel.invokeFunction(\n",
              "                'suggestCharts', [key], {});\n",
              "          } catch (error) {\n",
              "            console.error('Error during call to suggestCharts:', error);\n",
              "          }\n",
              "          quickchartButtonEl.classList.remove('colab-df-spinner');\n",
              "          quickchartButtonEl.classList.add('colab-df-quickchart-complete');\n",
              "        }\n",
              "        (() => {\n",
              "          let quickchartButtonEl =\n",
              "            document.querySelector('#df-8e838b32-fa5f-465e-8531-040cfccce2e8 button');\n",
              "          quickchartButtonEl.style.display =\n",
              "            google.colab.kernel.accessAllowed ? 'block' : 'none';\n",
              "        })();\n",
              "      </script>\n",
              "    </div>\n",
              "\n",
              "    </div>\n",
              "  </div>\n"
            ],
            "application/vnd.google.colaboratory.intrinsic+json": {
              "type": "dataframe",
              "variable_name": "df_nycri_processed"
            }
          },
          "metadata": {},
          "execution_count": 108
        }
      ]
    },
    {
      "cell_type": "markdown",
      "source": [
        "create two dataframes X = all columns of df_nycri_processed except Revenue and Index. Y = df_nycri_processed['Revenue']."
      ],
      "metadata": {
        "id": "Lhu3xHB-VJ0v"
      }
    },
    {
      "cell_type": "code",
      "source": [
        "# ss - create two dataframes X = all columns of df_nycri_processed except Revenue and Index. Y = df_nycri_processed['Revenue'].\n",
        "\n",
        "X = df_nycri_processed_grouped_date.drop(['Revenue'], axis=1)\n",
        "y = df_nycri_processed_grouped_date['Revenue']\n",
        "\n",
        "print(\"\\nFeatures (X) dataframe:\")\n",
        "print(X.head())\n",
        "\n",
        "print(\"\\nTarget (y) series:\")\n",
        "print(y.head())"
      ],
      "metadata": {
        "colab": {
          "base_uri": "https://localhost:8080/"
        },
        "id": "vvrsaPGORxv4",
        "outputId": "d100e1ff-74ee-434b-8d23-ca2f99b41a66"
      },
      "execution_count": 109,
      "outputs": [
        {
          "output_type": "stream",
          "name": "stdout",
          "text": [
            "\n",
            "Features (X) dataframe:\n",
            "   Stay DOW Text   MARSHA Code  Market Category  \\\n",
            "0   83200.668345  83200.668345     83200.668345   \n",
            "1   94249.550000  84640.905284     34041.047126   \n",
            "2    3401.000000   3030.295542      3030.295542   \n",
            "3   83075.738130  80508.483594     83075.738130   \n",
            "4   83075.738130  75606.990000     83075.738130   \n",
            "\n",
            "   Market Segment Name for Report  Market Prfx Name for Report  \\\n",
            "0                    83200.668345                 83200.668345   \n",
            "1                    83200.668345                 83200.668345   \n",
            "2                    82035.273455                 82035.273455   \n",
            "3                    83075.738130                 83075.738130   \n",
            "4                    83075.738130                 83075.738130   \n",
            "\n",
            "   Rate Program Code  Rate Program Name  Channel Aggregate Name  \\\n",
            "0       83200.668345       83200.668345            83200.668345   \n",
            "1       83200.668345       83200.668345            83200.668345   \n",
            "2       82035.273455       82035.273455             3242.506827   \n",
            "3       83075.738130       83075.738130            83075.738130   \n",
            "4       83075.738130       83075.738130            83075.738130   \n",
            "\n",
            "   Room Pool Code         Month  \n",
            "0    83200.668345  83200.668345  \n",
            "1    83200.668345  83200.668345  \n",
            "2    82035.273455   3242.506827  \n",
            "3    83075.738130  72305.189484  \n",
            "4    83075.738130  83075.738130  \n",
            "\n",
            "Target (y) series:\n",
            "0    121065.78\n",
            "1     33029.10\n",
            "2      2419.00\n",
            "3     69810.62\n",
            "4    100903.78\n",
            "Name: Revenue, dtype: float64\n"
          ]
        }
      ]
    },
    {
      "cell_type": "markdown",
      "source": [
        "Create linear regression model, fit (X, Y), use StandardScaler, split into test and training data find test and training coefficients and RMSE"
      ],
      "metadata": {
        "id": "w4gWgnwlVtjQ"
      }
    },
    {
      "cell_type": "code",
      "source": [
        "# ss - Create linear regression model, fit (X, Y), use StandardScaler, split into test and training data find test and training coefficients and RMSE\n",
        "\n",
        "# Split the data into training and testing sets\n",
        "X_train, X_test, y_train, y_test = train_test_split(X, y, test_size=0.2, random_state=42)\n",
        "\n",
        "# Initialize StandardScaler\n",
        "scaler = StandardScaler()\n",
        "\n",
        "# Fit the scaler on the training data and transform both training and testing data\n",
        "X_train_scaled = scaler.fit_transform(X_train)\n",
        "X_test_scaled = scaler.transform(X_test)\n",
        "\n",
        "# Initialize the Linear Regression model\n",
        "model = LinearRegression()\n",
        "\n",
        "# Fit the model to the scaled training data\n",
        "model.fit(X_train_scaled, y_train)\n",
        "\n",
        "# Make predictions on the scaled training and testing data\n",
        "y_train_pred = model.predict(X_train_scaled)\n",
        "y_test_pred = model.predict(X_test_scaled)\n",
        "\n",
        "# Calculate RMSE for training and testing data\n",
        "rmse_train = np.sqrt(mean_squared_error(y_train, y_train_pred))\n",
        "rmse_test = np.sqrt(mean_squared_error(y_test, y_test_pred))\n",
        "\n",
        "# Get the coefficients\n",
        "coefficients = model.coef_\n",
        "intercept = model.intercept_\n",
        "\n",
        "# Print the results\n",
        "print(\"\\n--- Linear Regression Results ---\")\n",
        "print(f\"Training RMSE: {rmse_train:.2f}\")\n",
        "print(f\"Testing RMSE: {rmse_test:.2f}\")\n",
        "print(\"\\nModel Coefficients:\")\n",
        "# Match coefficients to feature names\n",
        "feature_names = X.columns\n",
        "for name, coef in zip(feature_names, coefficients):\n",
        "  print(f\"{name}: {coef:.4f}\")\n",
        "print(f\"Intercept: {intercept:.4f}\")"
      ],
      "metadata": {
        "colab": {
          "base_uri": "https://localhost:8080/"
        },
        "id": "cCdsPI6PUP8I",
        "outputId": "6a62ac5c-22a9-497b-958f-a405296372f0"
      },
      "execution_count": 110,
      "outputs": [
        {
          "output_type": "stream",
          "name": "stdout",
          "text": [
            "\n",
            "--- Linear Regression Results ---\n",
            "Training RMSE: 27901.74\n",
            "Testing RMSE: 26522.99\n",
            "\n",
            "Model Coefficients:\n",
            "Stay DOW Text: 1273.0098\n",
            "MARSHA Code: 13800.1761\n",
            "Market Category: 5555.6528\n",
            "Market Segment Name for Report: -327.5197\n",
            "Market Prfx Name for Report: -327.5197\n",
            "Rate Program Code: -327.5197\n",
            "Rate Program Name: -327.5197\n",
            "Channel Aggregate Name: 9608.7285\n",
            "Room Pool Code: -3374.4872\n",
            "Month: 12333.7172\n",
            "Intercept: 82269.2885\n"
          ]
        }
      ]
    },
    {
      "cell_type": "markdown",
      "source": [
        "Show Average Revenue and compare it to RMSE"
      ],
      "metadata": {
        "id": "8OQBuSswU8tW"
      }
    },
    {
      "cell_type": "code",
      "source": [
        "# ss - Show Average Revenue and compare it to RMSE\n",
        "\n",
        "# Calculate the average revenue from the original combined dataframe\n",
        "# (Assuming df_combined still exists and contains the relevant data)\n",
        "average_revenue_combined = df_combined['Revenue'].mean()\n",
        "\n",
        "# Calculate the average revenue from the NYCRI specific data used for modeling\n",
        "average_revenue_nycri = y.mean()\n",
        "\n",
        "\n",
        "print(f\"\\n--- Average Revenue vs. RMSE ---\")\n",
        "# Print the average revenue from the combined data for context\n",
        "print(f\"Average Revenue (All MARSHA Codes): {average_revenue_combined:.2f}\")\n",
        "# Print the average revenue specifically for NYCRI (the data used for modeling)\n",
        "print(f\"Average Revenue (NYCRI): {average_revenue_nycri:.2f}\")\n",
        "print(f\"Testing RMSE (NYCRI Model): {rmse_test:.2f}\")\n",
        "\n",
        "# Comparison statement\n",
        "print(\"\\nComparison:\")\n",
        "print(f\"The Average Revenue for NYCRI is {average_revenue_nycri:.2f}.\")\n",
        "print(f\"The model's Testing RMSE is {rmse_test:.2f}.\")\n",
        "if rmse_test < average_revenue_nycri:\n",
        "    print(\"The RMSE is smaller than the average revenue, suggesting the model's errors are relatively less than the typical revenue value.\")\n",
        "elif rmse_test == average_revenue_nycri:\n",
        "     print(\"The RMSE is equal to the average revenue, suggesting the model's errors are on par with the typical revenue value.\")\n",
        "else:\n",
        "    print(\"The RMSE is larger than the average revenue, suggesting the model's errors are relatively significant compared to the typical revenue value.\")"
      ],
      "metadata": {
        "colab": {
          "base_uri": "https://localhost:8080/"
        },
        "id": "l3-TOizIVC3Z",
        "outputId": "731f541d-78db-460a-8734-d01995b4f084"
      },
      "execution_count": 111,
      "outputs": [
        {
          "output_type": "stream",
          "name": "stdout",
          "text": [
            "\n",
            "--- Average Revenue vs. RMSE ---\n",
            "Average Revenue (All MARSHA Codes): 19280584.81\n",
            "Average Revenue (NYCRI): 82573.60\n",
            "Testing RMSE (NYCRI Model): 26522.99\n",
            "\n",
            "Comparison:\n",
            "The Average Revenue for NYCRI is 82573.60.\n",
            "The model's Testing RMSE is 26522.99.\n",
            "The RMSE is smaller than the average revenue, suggesting the model's errors are relatively less than the typical revenue value.\n"
          ]
        }
      ]
    },
    {
      "cell_type": "markdown",
      "source": [
        "Plot Predicted values vs actual value with regression line"
      ],
      "metadata": {
        "id": "Wv5xnnz7VlrO"
      }
    },
    {
      "cell_type": "code",
      "source": [
        "# ss - Plot Predicted values vs actual value with regression line\n",
        "\n",
        "# Plotting Actual vs. Predicted values\n",
        "plt.figure(figsize=(10, 6))\n",
        "\n",
        "# Scatter plot of actual vs. predicted values\n",
        "plt.scatter(y_test, y_test_pred, alpha=0.5)\n",
        "\n",
        "# Add the regression line (identity line y=x)\n",
        "plt.plot([y_test.min(), y_test.max()], [y_test.min(), y_test.max()], 'r--', lw=2)\n",
        "\n",
        "plt.xlabel(\"Actual Revenue\")\n",
        "plt.ylabel(\"Predicted Revenue\")\n",
        "plt.title(\"Actual vs. Predicted Revenue for NYCRI (Test Set)\")\n",
        "plt.grid(True)\n",
        "plt.show()"
      ],
      "metadata": {
        "colab": {
          "base_uri": "https://localhost:8080/",
          "height": 564
        },
        "id": "jaBEEtE_Vqyz",
        "outputId": "179fee8f-1a1f-4a41-cc75-69ebf0ce258c"
      },
      "execution_count": 112,
      "outputs": [
        {
          "output_type": "display_data",
          "data": {
            "text/plain": [
              "<Figure size 1000x600 with 1 Axes>"
            ],
            "image/png": "[encoded data removed]"
          },
          "metadata": {}
        }
      ]
    },
    {
      "cell_type": "markdown",
      "source": [
        "Use SFS to select features to minimize RMSE"
      ],
      "metadata": {
        "id": "Dn3Y-3nSKeW7"
      }
    },
    {
      "cell_type": "code",
      "source": [
        "# ss - Use SFS to select features to minimize RMSE\n",
        "\n",
        "# Define the base model\n",
        "lr = LinearRegression()\n",
        "\n",
        "# Define the SFS object\n",
        "# `k_features='best'` finds the number of features that minimizes the scoring metric\n",
        "# `forward=True` means Sequential Forward Selection\n",
        "# `scoring='neg_mean_squared_error'` is used because SFS maximizes the score;\n",
        "# minimizing RMSE is equivalent to maximizing negative MSE.\n",
        "# `cv=5` for 5-fold cross-validation\n",
        "sfs = SFS(lr,\n",
        "          k_features='best',\n",
        "          forward=True,\n",
        "          floating=False,\n",
        "          scoring='neg_mean_squared_error',\n",
        "          cv=5,\n",
        "          n_jobs=-1) # Use all available cores\n",
        "\n",
        "# Fit SFS on the scaled training data\n",
        "sfs = sfs.fit(X_train_scaled, y_train)\n",
        "\n",
        "# Get the results as a pandas DataFrame\n",
        "sfs_results = pd.DataFrame(sfs.get_metric_dict()).T\n",
        "\n",
        "sfs_results.info()\n",
        "\n",
        "sfs_results.head()\n",
        "\n",
        "\n",
        "# Get the names of the best features\n",
        "best_features = sfs.k_feature_names_\n",
        "print(f\"\\nBest features selected by SFS: {best_features}\")\n",
        "\n",
        "# Get the indices of the best features\n",
        "best_feature_indices = sfs.k_feature_idx_\n",
        "print(f\"Indices of the best features: {best_feature_indices}\")\n",
        "\n",
        "# Optionally, train a new model with the best features and evaluate\n",
        "X_train_best = X_train_scaled[:, list(best_feature_indices)]\n",
        "X_test_best = X_test_scaled[:, list(best_feature_indices)]\n",
        "\n",
        "model_sfs = LinearRegression()\n",
        "model_sfs.fit(X_train_best, y_train)\n",
        "\n",
        "y_train_pred_sfs = model_sfs.predict(X_train_best)\n",
        "y_test_pred_sfs = model_sfs.predict(X_test_best)\n",
        "\n",
        "rmse_train_sfs = np.sqrt(mean_squared_error(y_train, y_train_pred_sfs))\n",
        "rmse_test_sfs = np.sqrt(mean_squared_error(y_test, y_test_pred_sfs))\n",
        "\n",
        "print(f\"\\n--- Model trained with SFS Selected Features ---\")\n",
        "print(f\"Training RMSE (SFS features): {rmse_train_sfs:.2f}\")\n",
        "print(f\"Testing RMSE (SFS features): {rmse_test_sfs:.2f}\")\n",
        "print(f\"Model Coefficients (SFS features): {model_sfs.coef_}\")\n",
        "print(f\"Intercept (SFS features): {model_sfs.intercept_}\")\n",
        "\n"
      ],
      "metadata": {
        "colab": {
          "base_uri": "https://localhost:8080/"
        },
        "id": "CBiDjmp9OQrq",
        "outputId": "b94e5a6a-840d-49ec-a6a2-b63afd6cf5b9"
      },
      "execution_count": 113,
      "outputs": [
        {
          "output_type": "stream",
          "name": "stdout",
          "text": [
            "<class 'pandas.core.frame.DataFrame'>\n",
            "Index: 10 entries, 1 to 10\n",
            "Data columns (total 7 columns):\n",
            " #   Column         Non-Null Count  Dtype \n",
            "---  ------         --------------  ----- \n",
            " 0   feature_idx    10 non-null     object\n",
            " 1   cv_scores      10 non-null     object\n",
            " 2   avg_score      10 non-null     object\n",
            " 3   feature_names  10 non-null     object\n",
            " 4   ci_bound       10 non-null     object\n",
            " 5   std_dev        10 non-null     object\n",
            " 6   std_err        10 non-null     object\n",
            "dtypes: object(7)\n",
            "memory usage: 640.0+ bytes\n",
            "\n",
            "Best features selected by SFS: ('1', '2', '7', '8', '9')\n",
            "Indices of the best features: (1, 2, 7, 8, 9)\n",
            "\n",
            "--- Model trained with SFS Selected Features ---\n",
            "Training RMSE (SFS features): 27938.24\n",
            "Testing RMSE (SFS features): 26616.86\n",
            "Model Coefficients (SFS features): [14650.2289721   5431.791723    9589.95949967 -4295.80141792\n",
            " 12433.14676607]\n",
            "Intercept (SFS features): 82269.28845890412\n"
          ]
        }
      ]
    },
    {
      "cell_type": "code",
      "source": [
        "# ss: Map sfs best feature names to original features and print them\n",
        "\n",
        "# Map the sfs_best_features (which are indices from the scaled array) back to the original feature names\n",
        "original_feature_names = X.columns\n",
        "sfs_best_feature_names_mapped = [original_feature_names[i] for i in best_feature_indices]\n",
        "\n",
        "print(\"\\nMapping of SFS best feature indices to original feature names:\")\n",
        "for idx, name in zip(best_feature_indices, sfs_best_feature_names_mapped):\n",
        "    print(f\"Index {idx}: {name}\")\n",
        "\n",
        "print(\"\\nSFS Best Feature Names (Mapped to original features):\")\n",
        "sfs_best_feature_names_mapped"
      ],
      "metadata": {
        "colab": {
          "base_uri": "https://localhost:8080/"
        },
        "id": "oMUrE7CjASDm",
        "outputId": "8ab65e91-95c4-43bf-c23b-a4b934acbdf7"
      },
      "execution_count": 114,
      "outputs": [
        {
          "output_type": "stream",
          "name": "stdout",
          "text": [
            "\n",
            "Mapping of SFS best feature indices to original feature names:\n",
            "Index 1: MARSHA Code\n",
            "Index 2: Market Category\n",
            "Index 7: Channel Aggregate Name\n",
            "Index 8: Room Pool Code\n",
            "Index 9: Month\n",
            "\n",
            "SFS Best Feature Names (Mapped to original features):\n"
          ]
        },
        {
          "output_type": "execute_result",
          "data": {
            "text/plain": [
              "['MARSHA Code',\n",
              " 'Market Category',\n",
              " 'Channel Aggregate Name',\n",
              " 'Room Pool Code',\n",
              " 'Month']"
            ]
          },
          "metadata": {},
          "execution_count": 114
        }
      ]
    },
    {
      "cell_type": "code",
      "source": [
        "# ss - plot sfs to show best selection\n",
        "\n",
        "# ss - Plot the SFS results to visualize the score vs number of features\n",
        "fig = plot_sfs(sfs.get_metric_dict(), kind='std_err')\n",
        "\n",
        "plt.title('Sequential Feature Selection (SFS)')\n",
        "plt.grid()\n",
        "plt.show()"
      ],
      "metadata": {
        "colab": {
          "base_uri": "https://localhost:8080/",
          "height": 472
        },
        "id": "4nW9qLVwMyvH",
        "outputId": "b8528918-ab35-4fac-b87b-205cf809ee6b"
      },
      "execution_count": 115,
      "outputs": [
        {
          "output_type": "display_data",
          "data": {
            "text/plain": [
              "<Figure size 640x480 with 1 Axes>"
            ],
            "image/png": "[encoded data removed]"
          },
          "metadata": {}
        }
      ]
    },
    {
      "cell_type": "code",
      "source": [
        "# ss -  Use SFS to select features to minimize RMSE  and show permutation importance features\n",
        "\n",
        "\n",
        "result = permutation_importance(model, X_test_scaled, y_test, n_repeats=10, random_state=42, n_jobs=-1)\n",
        "\n",
        "# Get feature importance scores\n",
        "sorted_idx = result.importances_mean.argsort()\n",
        "\n",
        "# Map indices back to original feature names\n",
        "full_feature_names = X.columns\n",
        "importance_df = pd.DataFrame({\n",
        "    'Feature': full_feature_names[sorted_idx],\n",
        "    'Importance Mean': result.importances_mean[sorted_idx],\n",
        "    'Importance Std': result.importances_std[sorted_idx]\n",
        "})\n",
        "\n",
        "print(\"\\n--- Permutation Importance Features ---\")\n",
        "print(importance_df)\n",
        "\n",
        "# Plot permutation importance\n",
        "plt.figure(figsize=(10, 8))\n",
        "plt.barh(importance_df['Feature'], importance_df['Importance Mean'], xerr=importance_df['Importance Std'])\n",
        "plt.xlabel(\"Permutation Importance\")\n",
        "plt.title(\"Permutation Importance of Features for Revenue Prediction (NYCRI)\")\n",
        "plt.tight_layout()\n",
        "plt.show()\n"
      ],
      "metadata": {
        "colab": {
          "base_uri": "https://localhost:8080/",
          "height": 1000
        },
        "id": "NCN3Z_WCSuAd",
        "outputId": "82f9d97c-0396-4468-dcd2-3913d263ebac"
      },
      "execution_count": 116,
      "outputs": [
        {
          "output_type": "stream",
          "name": "stdout",
          "text": [
            "\n",
            "--- Permutation Importance Features ---\n",
            "                          Feature  Importance Mean  Importance Std\n",
            "0  Market Segment Name for Report         0.000100        0.000067\n",
            "1               Rate Program Name         0.000100        0.000067\n",
            "2               Rate Program Code         0.000100        0.000067\n",
            "3     Market Prfx Name for Report         0.000100        0.000067\n",
            "4                  Room Pool Code         0.000738        0.000441\n",
            "5                   Stay DOW Text         0.004862        0.001673\n",
            "6                 Market Category         0.040789        0.007949\n",
            "7          Channel Aggregate Name         0.093633        0.010114\n",
            "8                           Month         0.165936        0.022899\n",
            "9                     MARSHA Code         0.199617        0.019051\n"
          ]
        },
        {
          "output_type": "display_data",
          "data": {
            "text/plain": [
              "<Figure size 1000x800 with 1 Axes>"
            ],
            "image/png": "[encoded data removed]"
          },
          "metadata": {}
        }
      ]
    },
    {
      "cell_type": "markdown",
      "source": [
        "Use SFS and Gridsearchcv to select the best features of regression model\n"
      ],
      "metadata": {
        "id": "WE7wE3Z6TfAC"
      }
    },
    {
      "cell_type": "code",
      "source": [
        "# ss- Use SFS and Gridsearchcv to select the best features of regression model\n",
        "\n",
        "\n",
        "# Define the base model\n",
        "lr = LinearRegression()\n",
        "\n",
        "\n",
        "pipe = Pipeline([\n",
        "    ('scaler', StandardScaler()),\n",
        "    ('sfs', SFS(lr,\n",
        "                k_features=X_train.shape[1], # Set k_features to the maximum number initially\n",
        "                forward=True,\n",
        "                floating=False,\n",
        "                scoring='neg_mean_squared_error',\n",
        "                cv=5,\n",
        "                n_jobs=-1)),\n",
        "    ('model', lr)\n",
        "])\n",
        "\n",
        "# Define the parameter grid for GridSearchCV\n",
        "# will search for the best number of features (k_features) for the SFS step\n",
        "# The range of k_features should be from 1 to the total number of features\n",
        "param_grid = {\n",
        "    'sfs__k_features': list(range(1, X_train.shape[1] + 1))\n",
        "}\n",
        "\n",
        "# Initialize GridSearchCV\n",
        "# use the negative mean squared error as the scoring metric to minimize RMSE\n",
        "grid_search = GridSearchCV(pipe, param_grid, cv=5, scoring='neg_mean_squared_error', n_jobs=-1)\n",
        "\n",
        "# Fit GridSearchCV on the training data\n",
        "grid_search.fit(X_train, y_train)\n",
        "\n",
        "# Get the best number of features and the best score (negative MSE)\n",
        "best_k_features = grid_search.best_params_['sfs__k_features']\n",
        "best_neg_mse = grid_search.best_score_\n",
        "best_rmse_gridsearch = np.sqrt(-best_neg_mse)\n",
        "\n",
        "print(\"\\n--- SFS with GridSearchCV Results ---\")\n",
        "print(f\"Best number of features found by GridSearchCV: {best_k_features}\")\n",
        "print(f\"Best cross-validated negative MSE: {best_neg_mse:.4f}\")\n",
        "print(f\"Best cross-validated RMSE: {best_rmse_gridsearch:.2f}\")\n",
        "\n",
        "# Get the best SFS estimator from the grid search\n",
        "best_sfs_estimator = grid_search.best_estimator_.named_steps['sfs']\n",
        "\n",
        "# Get the names of the best features based on the best SFS run\n",
        "best_features_gridsearch = [X.columns[i] for i in best_sfs_estimator.k_feature_idx_]\n",
        "print(f\"\\nBest features selected by SFS with GridSearchCV: {best_features_gridsearch}\")\n",
        "\n",
        "# Evaluate the best model (the one trained with the best k_features from the best estimator)\n",
        "# The best estimator from GridSearchCV is already trained on the full training data\n",
        "# and uses the optimal parameters found.\n",
        "best_model_gridsearch = grid_search.best_estimator_\n",
        "y_test_pred_gridsearch = best_model_gridsearch.predict(X_test)\n",
        "\n",
        "rmse_test_gridsearch = np.sqrt(mean_squared_error(y_test, y_test_pred_gridsearch))\n",
        "\n",
        "print(f\"\\nTesting RMSE with the best model from GridSearchCV (using {best_k_features} features): {rmse_test_gridsearch:.2f}\")\n",
        "\n",
        "final_model_coef = best_model_gridsearch.named_steps['model'].coef_\n",
        "final_model_intercept = best_model_gridsearch.named_steps['model'].intercept_\n",
        "\n",
        "print(\"\\nCoefficients of the final model (scaled features):\")\n",
        "# Map coefficients back to the selected feature names\n",
        "for name, coef in zip(best_features_gridsearch, final_model_coef):\n",
        "    print(f\"{name}: {coef:.4f}\")\n",
        "print(f\"Intercept: {final_model_intercept:.4f}\")\n"
      ],
      "metadata": {
        "colab": {
          "base_uri": "https://localhost:8080/"
        },
        "id": "cc322E3iTqTe",
        "outputId": "1c971c28-ad39-4465-c67f-af952bff4fb3"
      },
      "execution_count": 117,
      "outputs": [
        {
          "output_type": "stream",
          "name": "stdout",
          "text": [
            "\n",
            "--- SFS with GridSearchCV Results ---\n",
            "Best number of features found by GridSearchCV: 3\n",
            "Best cross-validated negative MSE: -817990098.3865\n",
            "Best cross-validated RMSE: 28600.53\n",
            "\n",
            "Best features selected by SFS with GridSearchCV: ['MARSHA Code', 'Channel Aggregate Name', 'Month']\n",
            "\n",
            "Testing RMSE with the best model from GridSearchCV (using 3 features): 27284.41\n",
            "\n",
            "Coefficients of the final model (scaled features):\n",
            "MARSHA Code: 18202.4682\n",
            "Channel Aggregate Name: 8269.6384\n",
            "Month: 13305.5027\n",
            "Intercept: 82269.2885\n"
          ]
        }
      ]
    },
    {
      "cell_type": "markdown",
      "source": [
        "ss - Use Random Forest with Linear Regression to create a higher degree model and minimize RMSE"
      ],
      "metadata": {
        "id": "kdLy_V9UA0rC"
      }
    },
    {
      "cell_type": "code",
      "source": [
        "# ss - Use Random Forest Regressor to predict revenue and minimize RMSE\n",
        "\n",
        "#from sklearn.ensemble import RandomForestRegressor\n",
        "\n",
        "# Initialize the Random Forest Regressor model\n",
        "# You can adjust parameters like n_estimators, max_depth, etc.\n",
        "rf_model = RandomForestRegressor(n_estimators=100, random_state=42, n_jobs=-1)\n",
        "\n",
        "# Fit the model to the scaled training data\n",
        "rf_model.fit(X_train_scaled, y_train)\n",
        "\n",
        "# Make predictions on the scaled training and testing data\n",
        "y_train_pred_rf = rf_model.predict(X_train_scaled)\n",
        "y_test_pred_rf = rf_model.predict(X_test_scaled)\n",
        "\n",
        "# Calculate RMSE for training and testing data\n",
        "rmse_train_rf = np.sqrt(mean_squared_error(y_train, y_train_pred_rf))\n",
        "rmse_test_rf = np.sqrt(mean_squared_error(y_test, y_test_pred_rf))\n",
        "\n",
        "# Print the results\n",
        "print(\"\\n--- Random Forest Regressor Results ---\")\n",
        "print(f\"Training RMSE: {rmse_train_rf:.2f}\")\n",
        "print(f\"Testing RMSE: {rmse_test_rf:.2f}\")\n",
        "\n",
        "# Optionally, print feature importances from the Random Forest model\n",
        "print(\"\\nRandom Forest Feature Importances:\")\n",
        "feature_importances = pd.Series(rf_model.feature_importances_, index=X.columns)\n",
        "print(feature_importances.sort_values(ascending=False))"
      ],
      "metadata": {
        "colab": {
          "base_uri": "https://localhost:8080/"
        },
        "id": "KJmSTLGiBGhE",
        "outputId": "3bdbeb5e-c6b7-4621-a1db-cd206a826cd0"
      },
      "execution_count": 118,
      "outputs": [
        {
          "output_type": "stream",
          "name": "stdout",
          "text": [
            "\n",
            "--- Random Forest Regressor Results ---\n",
            "Training RMSE: 12621.68\n",
            "Testing RMSE: 24560.23\n",
            "\n",
            "Random Forest Feature Importances:\n",
            "Market Category                   0.344560\n",
            "MARSHA Code                       0.298586\n",
            "Month                             0.136735\n",
            "Channel Aggregate Name            0.115619\n",
            "Stay DOW Text                     0.087128\n",
            "Market Prfx Name for Report       0.003910\n",
            "Market Segment Name for Report    0.003530\n",
            "Rate Program Code                 0.003466\n",
            "Room Pool Code                    0.003241\n",
            "Rate Program Name                 0.003225\n",
            "dtype: float64\n"
          ]
        }
      ]
    },
    {
      "cell_type": "markdown",
      "source": [],
      "metadata": {
        "id": "hG5P9NBD24At"
      }
    },
    {
      "cell_type": "markdown",
      "source": [
        "Plot Randomforest results with actual values along with a regression line."
      ],
      "metadata": {
        "id": "W9cOWZXFBivz"
      }
    },
    {
      "cell_type": "code",
      "source": [
        "# ss - Plot Randomforest results with actual values along with a regression line.\n",
        "\n",
        "# Plotting Actual vs. Predicted values for Random Forest\n",
        "plt.figure(figsize=(10, 6))\n",
        "\n",
        "# Scatter plot of actual vs. predicted values from Random Forest\n",
        "plt.scatter(y_test, y_test_pred_rf, alpha=0.5)\n",
        "\n",
        "# Add the regression line (identity line y=x)\n",
        "plt.plot([y_test.min(), y_test.max()], [y_test.min(), y_test.max()], 'r--', lw=2)\n",
        "\n",
        "plt.xlabel(\"Actual Revenue\")\n",
        "plt.ylabel(\"Predicted Revenue (Random Forest)\")\n",
        "plt.title(\"Actual vs. Predicted Revenue for NYCRI (Test Set - Random Forest)\")\n",
        "plt.grid(True)\n",
        "plt.show()"
      ],
      "metadata": {
        "colab": {
          "base_uri": "https://localhost:8080/",
          "height": 564
        },
        "id": "AVy2kixlBxgm",
        "outputId": "bfacc9d7-493d-475d-a756-dc441bd494d9"
      },
      "execution_count": 119,
      "outputs": [
        {
          "output_type": "display_data",
          "data": {
            "text/plain": [
              "<Figure size 1000x600 with 1 Axes>"
            ],
            "image/png": "[encoded data removed]"
          },
          "metadata": {}
        }
      ]
    },
    {
      "cell_type": "markdown",
      "source": [
        "Compare Linear Regression RMSE with Random Forest RMSE and list out the most important features along with coefficients."
      ],
      "metadata": {
        "id": "KgsFpUyWB_s6"
      }
    },
    {
      "cell_type": "code",
      "source": [
        "# ss - Compare Linear Regression RMSE with Random Forest RMSE and list out the most important features along with coefficients.\n",
        "\n",
        "print(\"\\n--- Model Comparison ---\")\n",
        "print(f\"Linear Regression Testing RMSE: {rmse_test:.2f}\")\n",
        "print(f\"Random Forest Regressor Testing RMSE: {rmse_test_rf:.2f}\")\n",
        "\n",
        "print(\"\\n--- Feature Importance and Coefficients ---\")\n",
        "\n",
        "# Get the most important features from the Random Forest model (e.g., top 5)\n",
        "top_n_features = 5\n",
        "most_important_rf_features = feature_importances.sort_values(ascending=False).head(top_n_features)\n",
        "\n",
        "print(f\"\\nTop {top_n_features} Most Important Features (from Random Forest):\")\n",
        "print(most_important_rf_features.to_markdown())\n",
        "\n",
        "# Get the coefficients from the Linear Regression model\n",
        "linear_regression_coefficients = pd.Series(model.coef_, index=X.columns)\n",
        "\n",
        "print(f\"\\nLinear Regression Coefficients for Top {top_n_features} Features:\")\n",
        "# Print coefficients for the features identified as most important by Random Forest\n",
        "print(linear_regression_coefficients.loc[most_important_rf_features.index].to_markdown())"
      ],
      "metadata": {
        "colab": {
          "base_uri": "https://localhost:8080/"
        },
        "id": "tmphCnv2CJDk",
        "outputId": "491a9ec3-538b-412a-f611-4d24ec199039"
      },
      "execution_count": 120,
      "outputs": [
        {
          "output_type": "stream",
          "name": "stdout",
          "text": [
            "\n",
            "--- Model Comparison ---\n",
            "Linear Regression Testing RMSE: 26522.99\n",
            "Random Forest Regressor Testing RMSE: 24560.23\n",
            "\n",
            "--- Feature Importance and Coefficients ---\n",
            "\n",
            "Top 5 Most Important Features (from Random Forest):\n",
            "|                        |         0 |\n",
            "|:-----------------------|----------:|\n",
            "| Market Category        | 0.34456   |\n",
            "| MARSHA Code            | 0.298586  |\n",
            "| Month                  | 0.136735  |\n",
            "| Channel Aggregate Name | 0.115619  |\n",
            "| Stay DOW Text          | 0.0871281 |\n",
            "\n",
            "Linear Regression Coefficients for Top 5 Features:\n",
            "|                        |        0 |\n",
            "|:-----------------------|---------:|\n",
            "| Market Category        |  5555.65 |\n",
            "| MARSHA Code            | 13800.2  |\n",
            "| Month                  | 12333.7  |\n",
            "| Channel Aggregate Name |  9608.73 |\n",
            "| Stay DOW Text          |  1273.01 |\n"
          ]
        }
      ]
    },
    {
      "cell_type": "markdown",
      "source": [
        "Tune  the hyperparameters of the Random Forest model to potentially improve its performance further"
      ],
      "metadata": {
        "id": "v6b2zasiCZxY"
      }
    },
    {
      "cell_type": "code",
      "source": [
        "# ss - Tune the hyperparameters of the Random Forest model to potentially improve its performance further\n",
        "\n",
        "#from sklearn.model_selection import GridSearchCV\n",
        "#from sklearn.ensemble import RandomForestRegressor\n",
        "#import numpy as np\n",
        "#from sklearn.metrics import mean_squared_error\n",
        "\n",
        "# Define the parameter grid to search\n",
        "param_grid = {\n",
        "    'n_estimators': [100, 200, 300],  # Number of trees in the forest\n",
        "    'max_depth': [10, 20, 30, None],   # Maximum depth of the trees\n",
        "    'min_samples_split': [2, 5, 10],   # Minimum number of samples required to split an internal node\n",
        "    'min_samples_leaf': [1, 2, 4]      # Minimum number of samples required to be at a leaf node\n",
        "}\n",
        "\n",
        "# Initialize the Random Forest Regressor model\n",
        "rf = RandomForestRegressor(random_state=42)\n",
        "\n",
        "# Initialize GridSearchCV\n",
        "# We use neg_mean_squared_error as the scoring metric to minimize RMSE\n",
        "grid_search = GridSearchCV(estimator=rf, param_grid=param_grid,\n",
        "                           scoring='neg_mean_squared_error', cv=5, n_jobs=-1, verbose=2)\n",
        "\n",
        "# Fit GridSearchCV on the scaled training data\n",
        "grid_search.fit(X_train_scaled, y_train)\n",
        "\n",
        "# Get the best hyperparameters and the best score\n",
        "best_params = grid_search.best_params_\n",
        "best_neg_mse = grid_search.best_score_\n",
        "best_rmse_tuned = np.sqrt(-best_neg_mse)\n",
        "\n",
        "print(\"\\n--- Hyperparameter Tuning Results ---\")\n",
        "print(f\"Best Parameters found by GridSearchCV: {best_params}\")\n",
        "print(f\"Best cross-validated negative MSE: {best_neg_mse:.4f}\")\n",
        "print(f\"Best cross-validated RMSE: {best_rmse_tuned:.2f}\")\n",
        "\n",
        "# Evaluate the best model on the test set\n",
        "best_rf_model = grid_search.best_estimator_\n",
        "y_test_pred_tuned = best_rf_model.predict(X_test_scaled)\n",
        "rmse_test_tuned = np.sqrt(mean_squared_error(y_test, y_test_pred_tuned))\n",
        "\n",
        "print(f\"\\nTesting RMSE with Tuned Random Forest Model: {rmse_test_tuned:.2f}\")"
      ],
      "metadata": {
        "colab": {
          "base_uri": "https://localhost:8080/"
        },
        "id": "Nc1A2OpvFd8h",
        "outputId": "c20f8697-8727-40de-94f2-509a3fc1a536"
      },
      "execution_count": 61,
      "outputs": [
        {
          "output_type": "stream",
          "name": "stdout",
          "text": [
            "Fitting 5 folds for each of 108 candidates, totalling 540 fits\n",
            "\n",
            "--- Hyperparameter Tuning Results ---\n",
            "Best Parameters found by GridSearchCV: {'max_depth': 10, 'min_samples_leaf': 2, 'min_samples_split': 10, 'n_estimators': 300}\n",
            "Best cross-validated negative MSE: -711522748.5582\n",
            "Best cross-validated RMSE: 26674.38\n",
            "\n",
            "Testing RMSE with Tuned Random Forest Model: 24342.61\n"
          ]
        }
      ]
    },
    {
      "cell_type": "markdown",
      "source": [
        "Show coefficients and features of the best Tuned Random Forest model and plot it with actual values and RMSE line. Print RMSE."
      ],
      "metadata": {
        "id": "RCdP7_-cEIge"
      }
    },
    {
      "cell_type": "code",
      "source": [
        "# ss - Show feature importances and plot the best Tuned Random Forest model. Print RMSE.\n",
        "\n",
        "#import matplotlib.pyplot as plt\n",
        "#import pandas as pd\n",
        "#import numpy as np\n",
        "#from sklearn.metrics import mean_squared_error\n",
        "#from sklearn.inspection import permutation_importance\n",
        "\n",
        "# Assuming best_rf_model, X_test_scaled, y_test, and rmse_test_tuned are available from the previous step\n",
        "\n",
        "# Print the testing RMSE\n",
        "print(f\"Testing RMSE with Tuned Random Forest Model: {rmse_test_tuned:.2f}\")\n",
        "\n",
        "# Get feature importances from the best tuned Random Forest model\n",
        "# Use the original feature names from X\n",
        "feature_importances_tuned = pd.Series(best_rf_model.feature_importances_, index=X.columns)\n",
        "\n",
        "print(\"\\n--- Tuned Random Forest Feature Importances ---\")\n",
        "print(feature_importances_tuned.sort_values(ascending=False).to_markdown())\n",
        "\n",
        "\n",
        "# Plotting Actual vs. Predicted values for the Tuned Random Forest model\n",
        "plt.figure(figsize=(10, 6))\n",
        "\n",
        "# Use the predictions from the best tuned model\n",
        "y_test_pred_tuned = best_rf_model.predict(X_test_scaled)\n",
        "\n",
        "# Scatter plot of actual vs. predicted values\n",
        "plt.scatter(y_test, y_test_pred_tuned, alpha=0.5)\n",
        "\n",
        "# Add the regression line (identity line y=x)\n",
        "plt.plot([y_test.min(), y_test.max()], [y_test.min(), y_test.max()], 'r--', lw=2)\n",
        "\n",
        "plt.xlabel(\"Actual Revenue\")\n",
        "plt.ylabel(\"Predicted Revenue (Tuned Random Forest)\")\n",
        "plt.title(\"Actual vs. Predicted Revenue for NYCRI (Test Set - Tuned Random Forest)\")\n",
        "plt.grid(True)\n",
        "plt.show()"
      ],
      "metadata": {
        "colab": {
          "base_uri": "https://localhost:8080/",
          "height": 838
        },
        "id": "dW2QFdkKHTdH",
        "outputId": "fe8136e5-ba7f-498a-b201-241579b11510"
      },
      "execution_count": 62,
      "outputs": [
        {
          "output_type": "stream",
          "name": "stdout",
          "text": [
            "Testing RMSE with Tuned Random Forest Model: 24342.61\n",
            "\n",
            "--- Tuned Random Forest Feature Importances ---\n",
            "|                                |          0 |\n",
            "|:-------------------------------|-----------:|\n",
            "| Market Category                | 0.457663   |\n",
            "| MARSHA Code                    | 0.19495    |\n",
            "| Channel Aggregate Name         | 0.15626    |\n",
            "| Month                          | 0.120292   |\n",
            "| Stay DOW Text                  | 0.0606918  |\n",
            "| Market Prfx Name for Report    | 0.00213046 |\n",
            "| Rate Program Name              | 0.00211287 |\n",
            "| Market Segment Name for Report | 0.00197574 |\n",
            "| Rate Program Code              | 0.00197352 |\n",
            "| Room Pool Code                 | 0.00195111 |\n"
          ]
        },
        {
          "output_type": "display_data",
          "data": {
            "text/plain": [
              "<Figure size 1000x600 with 1 Axes>"
            ],
            "image/png": "[encoded data removed]"
          },
          "metadata": {}
        }
      ]
    }
  ]
}