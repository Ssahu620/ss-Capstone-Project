{
  "nbformat": 4,
  "nbformat_minor": 0,
  "metadata": {
    "colab": {
      "provenance": [],
      "authorship_tag": "ABX9TyPsg42sJMTGjt8q05KRiMsz",
      "include_colab_link": true
    },
    "kernelspec": {
      "name": "python3",
      "display_name": "Python 3"
    },
    "language_info": {
      "name": "python"
    }
  },
  "cells": [
    {
      "cell_type": "markdown",
      "metadata": {
        "id": "view-in-github",
        "colab_type": "text"
      },
      "source": [
        "<a href=\"https://colab.research.google.com/github/Ssahu620/ss-Capstone-Project/blob/main/062025_ss_cp.ipynb\" target=\"_parent\"><img src=\"https://colab.research.google.com/assets/colab-badge.svg\" alt=\"Open In Colab\"/></a>"
      ]
    },
    {
      "cell_type": "code",
      "execution_count": 4,
      "metadata": {
        "id": "tT-TzyESH55g"
      },
      "outputs": [],
      "source": [
        "import pandas as pd\n",
        "import numpy as np\n",
        "import matplotlib.pyplot as plt\n",
        "import seaborn as sns"
      ]
    },
    {
      "cell_type": "markdown",
      "source": [],
      "metadata": {
        "id": "VVNVEe5OT-W8"
      }
    },
    {
      "cell_type": "code",
      "source": [
        "df_2025 = pd.read_csv('data/ss_2025_7H_Consol.csv')\n",
        "df_2025.head()\n",
        "df_2025.info()\n",
        "df_2025.shape"
      ],
      "metadata": {
        "colab": {
          "base_uri": "https://localhost:8080/"
        },
        "id": "NBFDUglDIz6W",
        "outputId": "32d6237d-6882-4589-e932-e47af47f7c62"
      },
      "execution_count": 5,
      "outputs": [
        {
          "output_type": "stream",
          "name": "stderr",
          "text": [
            "/tmp/ipython-input-5-2686906312.py:1: DtypeWarning: Columns (14) have mixed types. Specify dtype option on import or set low_memory=False.\n",
            "  df_2025 = pd.read_csv('data/ss_2025_7H_Consol.csv')\n"
          ]
        },
        {
          "output_type": "stream",
          "name": "stdout",
          "text": [
            "<class 'pandas.core.frame.DataFrame'>\n",
            "RangeIndex: 196448 entries, 0 to 196447\n",
            "Data columns (total 16 columns):\n",
            " #   Column                          Non-Null Count   Dtype \n",
            "---  ------                          --------------   ----- \n",
            " 0   Stay Year Calendar              196448 non-null  int64 \n",
            " 1   Stay YYYYMM                     196448 non-null  int64 \n",
            " 2   Stay DOW Text                   196448 non-null  object\n",
            " 3   Stay Date                       196448 non-null  object\n",
            " 4   Booking Date                    196448 non-null  object\n",
            " 5   MARSHA Code                     196448 non-null  object\n",
            " 6   Market Category                 196448 non-null  object\n",
            " 7   Market Segment Name for Report  196448 non-null  object\n",
            " 8   Market Prfx Name for Report     196448 non-null  object\n",
            " 9   Rate Program Code               196448 non-null  object\n",
            " 10  Rate Program Name               191436 non-null  object\n",
            " 11  Channel Aggregate Name          196448 non-null  object\n",
            " 12  Room Pool Code                  196448 non-null  object\n",
            " 13  RoomNights                      196448 non-null  int64 \n",
            " 14  ADR (Net)                       196448 non-null  object\n",
            " 15   Revenue (Net)                  196448 non-null  object\n",
            "dtypes: int64(3), object(13)\n",
            "memory usage: 24.0+ MB\n"
          ]
        },
        {
          "output_type": "execute_result",
          "data": {
            "text/plain": [
              "(196448, 16)"
            ]
          },
          "metadata": {},
          "execution_count": 5
        }
      ]
    },
    {
      "cell_type": "code",
      "source": [
        "df_2024 = pd.read_csv('data/ss_2024_7H_Consol.csv')\n",
        "df_2024.head()\n",
        "df_2024.info()\n",
        "df_2024.shape"
      ],
      "metadata": {
        "id": "fLbCkGstKuLJ",
        "colab": {
          "base_uri": "https://localhost:8080/"
        },
        "outputId": "03ed8752-f4c9-4a95-a357-ec39c103d5ca"
      },
      "execution_count": 6,
      "outputs": [
        {
          "output_type": "stream",
          "name": "stdout",
          "text": [
            "<class 'pandas.core.frame.DataFrame'>\n",
            "RangeIndex: 228640 entries, 0 to 228639\n",
            "Data columns (total 14 columns):\n",
            " #   Column                          Non-Null Count   Dtype \n",
            "---  ------                          --------------   ----- \n",
            " 0   Stay Year Calendar              228640 non-null  int64 \n",
            " 1   Stay YYYYMM                     228640 non-null  int64 \n",
            " 2   Stay DOW Text                   228640 non-null  object\n",
            " 3   Stay Date                       228640 non-null  object\n",
            " 4   MARSHA Code                     228640 non-null  object\n",
            " 5   Market Category                 228640 non-null  object\n",
            " 6   Market Segment Name for Report  228640 non-null  object\n",
            " 7   Market Prfx Name for Report     228491 non-null  object\n",
            " 8   Rate Program Code               228640 non-null  object\n",
            " 9   Rate Program Name               218276 non-null  object\n",
            " 10  Room Pool Code                  228640 non-null  object\n",
            " 11  RoomNights                      228640 non-null  int64 \n",
            " 12  ADR (Net)                       228640 non-null  object\n",
            " 13  Revenue (Net)                   228640 non-null  object\n",
            "dtypes: int64(3), object(11)\n",
            "memory usage: 24.4+ MB\n"
          ]
        },
        {
          "output_type": "execute_result",
          "data": {
            "text/plain": [
              "(228640, 14)"
            ]
          },
          "metadata": {},
          "execution_count": 6
        }
      ]
    },
    {
      "cell_type": "code",
      "source": [
        "df_2023 = pd.read_csv('data/ss_2023_7H_Consol.csv')\n",
        "df_2023.head()\n",
        "df_2023.info()\n",
        "df_2023.shape"
      ],
      "metadata": {
        "id": "-cr9cSB9LBuE",
        "colab": {
          "base_uri": "https://localhost:8080/"
        },
        "outputId": "d4be4304-0200-402a-d39e-8794a2aeecca"
      },
      "execution_count": 7,
      "outputs": [
        {
          "output_type": "stream",
          "name": "stderr",
          "text": [
            "/tmp/ipython-input-7-744960569.py:1: DtypeWarning: Columns (12) have mixed types. Specify dtype option on import or set low_memory=False.\n",
            "  df_2023 = pd.read_csv('data/ss_2023_7H_Consol.csv')\n"
          ]
        },
        {
          "output_type": "stream",
          "name": "stdout",
          "text": [
            "<class 'pandas.core.frame.DataFrame'>\n",
            "RangeIndex: 202289 entries, 0 to 202288\n",
            "Data columns (total 14 columns):\n",
            " #   Column                          Non-Null Count   Dtype \n",
            "---  ------                          --------------   ----- \n",
            " 0   Stay Year Calendar              202289 non-null  int64 \n",
            " 1   Stay YYYYMM                     202289 non-null  int64 \n",
            " 2   Stay DOW Text                   202289 non-null  object\n",
            " 3   Stay Date                       202289 non-null  object\n",
            " 4   MARSHA Code                     202289 non-null  object\n",
            " 5   Market Category                 202289 non-null  object\n",
            " 6   Market Segment Name for Report  202289 non-null  object\n",
            " 7   Market Prfx Name for Report     202270 non-null  object\n",
            " 8   Rate Program Code               202289 non-null  object\n",
            " 9   Rate Program Name               194307 non-null  object\n",
            " 10  Room Pool Code                  202289 non-null  object\n",
            " 11  RoomNights                      202289 non-null  int64 \n",
            " 12  ADR (Net)                       202289 non-null  object\n",
            " 13  Revenue (Net)                   202289 non-null  object\n",
            "dtypes: int64(3), object(11)\n",
            "memory usage: 21.6+ MB\n"
          ]
        },
        {
          "output_type": "execute_result",
          "data": {
            "text/plain": [
              "(202289, 14)"
            ]
          },
          "metadata": {},
          "execution_count": 7
        }
      ]
    },
    {
      "cell_type": "code",
      "source": [
        "# prompt: find number of rows with na data in df_2025, df_2024 and in df_2023\n",
        "\n",
        "print(\"Number of rows with NA in df_2025:\", df_2025.isnull().any(axis=1).sum())\n",
        "print(\"Number of rows with NA in df_2024:\", df_2024.isnull().any(axis=1).sum())\n",
        "print(\"Number of rows with NA in df_2023:\", df_2023.isnull().any(axis=1).sum())"
      ],
      "metadata": {
        "id": "VHB9NeL_L9O_",
        "colab": {
          "base_uri": "https://localhost:8080/"
        },
        "outputId": "27b716fa-1623-48a3-9861-a92900a2a0d6"
      },
      "execution_count": 8,
      "outputs": [
        {
          "output_type": "stream",
          "name": "stdout",
          "text": [
            "Number of rows with NA in df_2025: 5012\n",
            "Number of rows with NA in df_2024: 10364\n",
            "Number of rows with NA in df_2023: 7982\n"
          ]
        }
      ]
    },
    {
      "cell_type": "code",
      "source": [
        "# prompt: find number of rows with na data by column in df_2025, df_2024 and in df_2023\n",
        "\n",
        "print(\"\\nNumber of rows with NA per column in df_2025:\")\n",
        "print(df_2025.isnull().sum())\n",
        "\n",
        "print(\"\\nNumber of rows with NA per column in df_2024:\")\n",
        "print(df_2024.isnull().sum())\n",
        "\n",
        "print(\"\\nNumber of rows with NA per column in df_2023:\")\n",
        "print(df_2023.isnull().sum())"
      ],
      "metadata": {
        "id": "cyb1Nf-SMRiO",
        "colab": {
          "base_uri": "https://localhost:8080/"
        },
        "outputId": "05c12abd-eac1-46fa-cc0b-7a7446686f04"
      },
      "execution_count": 9,
      "outputs": [
        {
          "output_type": "stream",
          "name": "stdout",
          "text": [
            "\n",
            "Number of rows with NA per column in df_2025:\n",
            "Stay Year Calendar                   0\n",
            "Stay YYYYMM                          0\n",
            "Stay DOW Text                        0\n",
            "Stay Date                            0\n",
            "Booking Date                         0\n",
            "MARSHA Code                          0\n",
            "Market Category                      0\n",
            "Market Segment Name for Report       0\n",
            "Market Prfx Name for Report          0\n",
            "Rate Program Code                    0\n",
            "Rate Program Name                 5012\n",
            "Channel Aggregate Name               0\n",
            "Room Pool Code                       0\n",
            "RoomNights                           0\n",
            "ADR (Net)                            0\n",
            " Revenue (Net)                       0\n",
            "dtype: int64\n",
            "\n",
            "Number of rows with NA per column in df_2024:\n",
            "Stay Year Calendar                    0\n",
            "Stay YYYYMM                           0\n",
            "Stay DOW Text                         0\n",
            "Stay Date                             0\n",
            "MARSHA Code                           0\n",
            "Market Category                       0\n",
            "Market Segment Name for Report        0\n",
            "Market Prfx Name for Report         149\n",
            "Rate Program Code                     0\n",
            "Rate Program Name                 10364\n",
            "Room Pool Code                        0\n",
            "RoomNights                            0\n",
            "ADR (Net)                             0\n",
            "Revenue (Net)                         0\n",
            "dtype: int64\n",
            "\n",
            "Number of rows with NA per column in df_2023:\n",
            "Stay Year Calendar                   0\n",
            "Stay YYYYMM                          0\n",
            "Stay DOW Text                        0\n",
            "Stay Date                            0\n",
            "MARSHA Code                          0\n",
            "Market Category                      0\n",
            "Market Segment Name for Report       0\n",
            "Market Prfx Name for Report         19\n",
            "Rate Program Code                    0\n",
            "Rate Program Name                 7982\n",
            "Room Pool Code                       0\n",
            "RoomNights                           0\n",
            "ADR (Net)                            0\n",
            "Revenue (Net)                        0\n",
            "dtype: int64\n"
          ]
        }
      ]
    },
    {
      "cell_type": "code",
      "source": [
        "# prompt: find number of unique values in column \"Rate Program Name\" and \"Market Prfx Name for Report\" in df_2025, df_2024, and df_2023\n",
        "\n",
        "print(\"\\nUnique values in 'Rate Program Name' and 'Market Prfx Name for Report' in df_2025:\")\n",
        "print(\"Rate Program Name:\", df_2025['Rate Program Name'].nunique())\n",
        "print(\"Market Prfx Name for Report:\", df_2025['Market Prfx Name for Report'].nunique())\n",
        "\n",
        "print(\"\\nUnique values in 'Rate Program Name' and 'Market Prfx Name for Report' in df_2024:\")\n",
        "print(\"Rate Program Name:\", df_2024['Rate Program Name'].nunique())\n",
        "print(\"Market Prfx Name for Report:\", df_2024['Market Prfx Name for Report'].nunique())\n",
        "\n",
        "print(\"\\nUnique values in 'Rate Program Name' and 'Market Prfx Name for Report' in df_2023:\")\n",
        "print(\"Rate Program Name:\", df_2023['Rate Program Name'].nunique())\n",
        "print(\"Market Prfx Name for Report:\", df_2023['Market Prfx Name for Report'].nunique())"
      ],
      "metadata": {
        "id": "OQMDmIKkMpr1",
        "colab": {
          "base_uri": "https://localhost:8080/"
        },
        "outputId": "c8be1d62-05e9-4c53-bfc0-1a708a3a8742"
      },
      "execution_count": 10,
      "outputs": [
        {
          "output_type": "stream",
          "name": "stdout",
          "text": [
            "\n",
            "Unique values in 'Rate Program Name' and 'Market Prfx Name for Report' in df_2025:\n",
            "Rate Program Name: 474\n",
            "Market Prfx Name for Report: 266\n",
            "\n",
            "Unique values in 'Rate Program Name' and 'Market Prfx Name for Report' in df_2024:\n",
            "Rate Program Name: 582\n",
            "Market Prfx Name for Report: 629\n",
            "\n",
            "Unique values in 'Rate Program Name' and 'Market Prfx Name for Report' in df_2023:\n",
            "Rate Program Name: 589\n",
            "Market Prfx Name for Report: 581\n"
          ]
        }
      ]
    },
    {
      "cell_type": "code",
      "source": [
        "# prompt: Show top 10 frequency of \"Rate Program Name\" values and percentage of frequency in df_2025, df_2024, and df_2023\n",
        "\n",
        "def analyze_rate_program_frequency(df, year):\n",
        "  \"\"\"Shows the top 10 frequency and percentage of 'Rate Program Name' values.\"\"\"\n",
        "  print(f\"\\nTop 10 'Rate Program Name' frequency for {year}:\")\n",
        "  top_10 = df['Rate Program Name'].value_counts().head(10)\n",
        "  total_count = df['Rate Program Name'].count()\n",
        "  top_10_percent = (top_10 / total_count) * 100\n",
        "  frequency_df = pd.DataFrame({'Count': top_10, 'Percentage': top_10_percent})\n",
        "  print(frequency_df)\n",
        "\n",
        "analyze_rate_program_frequency(df_2025, 2025)\n",
        "analyze_rate_program_frequency(df_2024, 2024)\n",
        "analyze_rate_program_frequency(df_2023, 2023)"
      ],
      "metadata": {
        "id": "fSrI2b5RPd5g",
        "colab": {
          "base_uri": "https://localhost:8080/"
        },
        "outputId": "dffa396e-1e8c-4a12-9469-1315e35f48d1"
      },
      "execution_count": 11,
      "outputs": [
        {
          "output_type": "stream",
          "name": "stdout",
          "text": [
            "\n",
            "Top 10 'Rate Program Name' frequency for 2025:\n",
            "                        Count  Percentage\n",
            "Rate Program Name                        \n",
            "MEMBER RETAIL RATE      35075   18.322050\n",
            "B.COM RETAIL            18958    9.903049\n",
            "REDEMPTION              13430    7.015399\n",
            "MEMBR PREPAY NONREF     11077    5.786268\n",
            "REGULAR RATE             9996    5.221588\n",
            "LONG TERM STAY           7441    3.886939\n",
            "BK.COM PRE NONREF CHG    7421    3.876491\n",
            "EXPEDIA PRE NONREF CHG   6281    3.280992\n",
            "B.COM DISC. RETAIL       5604    2.927349\n",
            "PROPERTY PROMO           4682    2.445726\n",
            "\n",
            "Top 10 'Rate Program Name' frequency for 2024:\n",
            "                        Count  Percentage\n",
            "Rate Program Name                        \n",
            "MEMBER RETAIL RATE      19186    8.789789\n",
            "REGULAR RATE            13290    6.088622\n",
            "MEMBR PREPAY NONREF     10506    4.813172\n",
            "B.COM RETAIL            10224    4.683978\n",
            "REDEMPTION               9813    4.495684\n",
            "EXPEDIA PRE NONREF CHG   6878    3.151056\n",
            "LONG TERM STAY           5906    2.705749\n",
            "BK.COM PRE NONREF CHG    5601    2.566017\n",
            "PROPERTY PROMO           5265    2.412084\n",
            "MARRIOTT SENIOR DISC.    4909    2.248988\n",
            "\n",
            "Top 10 'Rate Program Name' frequency for 2023:\n",
            "                        Count  Percentage\n",
            "Rate Program Name                        \n",
            "MEMBER RETAIL RATE      13470    6.932329\n",
            "REGULAR RATE            12997    6.688900\n",
            "B.COM RETAIL            10754    5.534541\n",
            "REDEMPTION STANDARD     10311    5.306551\n",
            "MEMBR PREPAY NONREF     10238    5.268982\n",
            "BK.COM PRE NONREF CHG    5598    2.881008\n",
            "MARRIOTT SENIOR DISC.    5447    2.803296\n",
            "EXPEDIA PRE NONREF CHG   5086    2.617507\n",
            "AAA AMERICAN AUTO ASSN   4869    2.505828\n",
            "GOVT/MILITARY            4629    2.382313\n"
          ]
        }
      ]
    },
    {
      "cell_type": "code",
      "source": [
        "# prompt: Convert all NA values in \"Rate Program Name\" to \"UNKNOWN\" in df_2025, df_2024, and df_2023\n",
        "\n",
        "df_2025['Rate Program Name'] = df_2025['Rate Program Name'].fillna('UNKNOWN')\n",
        "df_2024['Rate Program Name'] = df_2024['Rate Program Name'].fillna('UNKNOWN')\n",
        "df_2023['Rate Program Name'] = df_2023['Rate Program Name'].fillna('UNKNOWN')"
      ],
      "metadata": {
        "id": "ShQoz9jRRlxN"
      },
      "execution_count": 12,
      "outputs": []
    },
    {
      "cell_type": "code",
      "source": [],
      "metadata": {
        "id": "0RDoyg9ql5rI"
      },
      "execution_count": 12,
      "outputs": []
    },
    {
      "cell_type": "code",
      "source": [
        "# prompt: find number of rows with na data by column in df_2025, df_2024 and in df_2023\n",
        "\n",
        "print(\"\\nNumber of rows with NA per column in df_2025:\")\n",
        "print(df_2025.isnull().sum())\n",
        "\n",
        "print(\"\\nNumber of rows with NA per column in df_2024:\")\n",
        "print(df_2024.isnull().sum())\n",
        "\n",
        "print(\"\\nNumber of rows with NA per column in df_2023:\")\n",
        "print(df_2023.isnull().sum())"
      ],
      "metadata": {
        "id": "KHa0hTa2gcjo",
        "colab": {
          "base_uri": "https://localhost:8080/"
        },
        "outputId": "2679d6e7-116b-484c-b619-a030d85a4c2c"
      },
      "execution_count": 13,
      "outputs": [
        {
          "output_type": "stream",
          "name": "stdout",
          "text": [
            "\n",
            "Number of rows with NA per column in df_2025:\n",
            "Stay Year Calendar                0\n",
            "Stay YYYYMM                       0\n",
            "Stay DOW Text                     0\n",
            "Stay Date                         0\n",
            "Booking Date                      0\n",
            "MARSHA Code                       0\n",
            "Market Category                   0\n",
            "Market Segment Name for Report    0\n",
            "Market Prfx Name for Report       0\n",
            "Rate Program Code                 0\n",
            "Rate Program Name                 0\n",
            "Channel Aggregate Name            0\n",
            "Room Pool Code                    0\n",
            "RoomNights                        0\n",
            "ADR (Net)                         0\n",
            " Revenue (Net)                    0\n",
            "dtype: int64\n",
            "\n",
            "Number of rows with NA per column in df_2024:\n",
            "Stay Year Calendar                  0\n",
            "Stay YYYYMM                         0\n",
            "Stay DOW Text                       0\n",
            "Stay Date                           0\n",
            "MARSHA Code                         0\n",
            "Market Category                     0\n",
            "Market Segment Name for Report      0\n",
            "Market Prfx Name for Report       149\n",
            "Rate Program Code                   0\n",
            "Rate Program Name                   0\n",
            "Room Pool Code                      0\n",
            "RoomNights                          0\n",
            "ADR (Net)                           0\n",
            "Revenue (Net)                       0\n",
            "dtype: int64\n",
            "\n",
            "Number of rows with NA per column in df_2023:\n",
            "Stay Year Calendar                 0\n",
            "Stay YYYYMM                        0\n",
            "Stay DOW Text                      0\n",
            "Stay Date                          0\n",
            "MARSHA Code                        0\n",
            "Market Category                    0\n",
            "Market Segment Name for Report     0\n",
            "Market Prfx Name for Report       19\n",
            "Rate Program Code                  0\n",
            "Rate Program Name                  0\n",
            "Room Pool Code                     0\n",
            "RoomNights                         0\n",
            "ADR (Net)                          0\n",
            "Revenue (Net)                      0\n",
            "dtype: int64\n"
          ]
        }
      ]
    },
    {
      "cell_type": "code",
      "source": [],
      "metadata": {
        "id": "Sv7I5Hh0lYvk"
      },
      "execution_count": 13,
      "outputs": []
    },
    {
      "cell_type": "code",
      "source": [
        "# prompt: prompt: Show top 10 frequency of \"Market Prfx Name for Report\" values and percentage of frequency in df_2025, df_2024, and df_2023\n",
        "\n",
        "def analyze_market_prefix_frequency(df, year):\n",
        "  \"\"\"Shows the top 10 frequency and percentage of 'Market Prfx Name for Report' values.\"\"\"\n",
        "  print(f\"\\nTop 10 'Market Prfx Name for Report' frequency for {year}:\")\n",
        "  top_10 = df['Market Prfx Name for Report'].value_counts().head(10)\n",
        "  total_count = df['Market Prfx Name for Report'].count()\n",
        "  top_10_percent = (top_10 / total_count) * 100\n",
        "  frequency_df = pd.DataFrame({'Count': top_10, 'Percentage': top_10_percent})\n",
        "  print(frequency_df)\n",
        "\n",
        "analyze_market_prefix_frequency(df_2025, 2025)\n",
        "analyze_market_prefix_frequency(df_2024, 2024)\n",
        "analyze_market_prefix_frequency(df_2023, 2023)"
      ],
      "metadata": {
        "id": "JDFCudPJg2sz",
        "colab": {
          "base_uri": "https://localhost:8080/"
        },
        "outputId": "17623544-11c0-41f7-9119-c547d75d09c5"
      },
      "execution_count": 14,
      "outputs": [
        {
          "output_type": "stream",
          "name": "stdout",
          "text": [
            "\n",
            "Top 10 'Market Prfx Name for Report' frequency for 2025:\n",
            "                               Count  Percentage\n",
            "Market Prfx Name for Report                     \n",
            "12 Standard Retail             28693   14.605901\n",
            "34 eChannel Retail             24673   12.559558\n",
            "10 Premium Retail              18659    9.498188\n",
            "17 Special Corporate           16994    8.650635\n",
            "38 eChannel Prepay             15801    8.043350\n",
            "25 Bonvoy Redemption           14967    7.618810\n",
            "35 Prepay                      12912    6.572732\n",
            "30 eChannel Premium Retail      9419    4.794653\n",
            "19 Long Term Stay               7479    3.807114\n",
            "42 Auto Assn of America (AAA)   7329    3.730758\n",
            "\n",
            "Top 10 'Market Prfx Name for Report' frequency for 2024:\n",
            "                               Count  Percentage\n",
            "Market Prfx Name for Report                     \n",
            "17 Special Corporate           43031   18.832689\n",
            "12 Standard Retail             21050    9.212617\n",
            "34 eChannel Retail             20424    8.938645\n",
            "38 eChannel Prepay             15444    6.759128\n",
            "35 Prepay                      14604    6.391499\n",
            "10 Premium Retail              14544    6.365240\n",
            "25 Bonvoy Redemption           11603    5.078099\n",
            "42 Auto Assn of America (AAA)  10155    4.444376\n",
            "30 eChannel Premium Retail      9399    4.113510\n",
            "33 Promotion / Incentive        8753    3.830785\n",
            "\n",
            "Top 10 'Market Prfx Name for Report' frequency for 2023:\n",
            "                               Count  Percentage\n",
            "Market Prfx Name for Report                     \n",
            "17 Special Corporate           36136   17.865230\n",
            "12 Standard Retail             22121   10.936372\n",
            "34 eChannel Retail             16131    7.974984\n",
            "35 Prepay                      14207    7.023780\n",
            "38 eChannel Prepay             12640    6.249073\n",
            "25 Bonvoy Redemption           11359    5.615761\n",
            "42 Auto Assn of America (AAA)  11267    5.570277\n",
            "36 eChannel Bundled Travel     10089    4.987887\n",
            "30 eChannel Premium Retail      8314    4.110348\n",
            "16 Government                   7786    3.849310\n"
          ]
        }
      ]
    },
    {
      "cell_type": "code",
      "source": [
        "# prompt: Convert all NA values in \"Market Prfx Name for Report\" to \"Special Corporate\" in df_2025, df_2024, and df_2023\n",
        "\n",
        "df_2025['Market Prfx Name for Report'] = df_2025['Market Prfx Name for Report'].fillna('Special Corporate')\n",
        "df_2024['Market Prfx Name for Report'] = df_2024['Market Prfx Name for Report'].fillna('Special Corporate')\n",
        "df_2023['Market Prfx Name for Report'] = df_2023['Market Prfx Name for Report'].fillna('Special Corporate')\n",
        "\n",
        "print(\"\\nNumber of rows with NA per column in df_2025:\")\n",
        "print(df_2025.isnull().sum())\n",
        "\n",
        "print(\"\\nNumber of rows with NA per column in df_2024:\")\n",
        "print(df_2024.isnull().sum())\n",
        "\n",
        "print(\"\\nNumber of rows with NA per column in df_2023:\")\n",
        "print(df_2023.isnull().sum())"
      ],
      "metadata": {
        "id": "7J4Y7knGl7oy",
        "colab": {
          "base_uri": "https://localhost:8080/"
        },
        "outputId": "b0b934b5-94af-485a-e433-c9419dfa27f3"
      },
      "execution_count": 15,
      "outputs": [
        {
          "output_type": "stream",
          "name": "stdout",
          "text": [
            "\n",
            "Number of rows with NA per column in df_2025:\n",
            "Stay Year Calendar                0\n",
            "Stay YYYYMM                       0\n",
            "Stay DOW Text                     0\n",
            "Stay Date                         0\n",
            "Booking Date                      0\n",
            "MARSHA Code                       0\n",
            "Market Category                   0\n",
            "Market Segment Name for Report    0\n",
            "Market Prfx Name for Report       0\n",
            "Rate Program Code                 0\n",
            "Rate Program Name                 0\n",
            "Channel Aggregate Name            0\n",
            "Room Pool Code                    0\n",
            "RoomNights                        0\n",
            "ADR (Net)                         0\n",
            " Revenue (Net)                    0\n",
            "dtype: int64\n",
            "\n",
            "Number of rows with NA per column in df_2024:\n",
            "Stay Year Calendar                0\n",
            "Stay YYYYMM                       0\n",
            "Stay DOW Text                     0\n",
            "Stay Date                         0\n",
            "MARSHA Code                       0\n",
            "Market Category                   0\n",
            "Market Segment Name for Report    0\n",
            "Market Prfx Name for Report       0\n",
            "Rate Program Code                 0\n",
            "Rate Program Name                 0\n",
            "Room Pool Code                    0\n",
            "RoomNights                        0\n",
            "ADR (Net)                         0\n",
            "Revenue (Net)                     0\n",
            "dtype: int64\n",
            "\n",
            "Number of rows with NA per column in df_2023:\n",
            "Stay Year Calendar                0\n",
            "Stay YYYYMM                       0\n",
            "Stay DOW Text                     0\n",
            "Stay Date                         0\n",
            "MARSHA Code                       0\n",
            "Market Category                   0\n",
            "Market Segment Name for Report    0\n",
            "Market Prfx Name for Report       0\n",
            "Rate Program Code                 0\n",
            "Rate Program Name                 0\n",
            "Room Pool Code                    0\n",
            "RoomNights                        0\n",
            "ADR (Net)                         0\n",
            "Revenue (Net)                     0\n",
            "dtype: int64\n"
          ]
        }
      ]
    },
    {
      "cell_type": "markdown",
      "source": [
        "Change column name \"ADR (Net)\" to \"ADR\" and change column name \"Revenue (Net)\" to \"Revenue\" in df_2025, df_2024, df_2023\n",
        "\n"
      ],
      "metadata": {
        "id": "ZvZsFFQOUT0X"
      }
    },
    {
      "cell_type": "code",
      "source": [
        "# prompt: Change column name \"ADR (Net)\" to \"ADR\" and change column name \"Revenue (Net)\" to \"Revenue\" in df_2025, df_2024, df_2023\n",
        "\n",
        "df_2025.rename(columns={'ADR (Net)': 'ADR', 'Revenue (Net)': 'Revenue'}, inplace=True)\n",
        "df_2024.rename(columns={'ADR (Net)': 'ADR', 'Revenue (Net)': 'Revenue'}, inplace=True)\n",
        "df_2023.rename(columns={'ADR (Net)': 'ADR', 'Revenue (Net)': 'Revenue'}, inplace=True)\n",
        "\n",
        "print(\"\\nColumns in df_2025 after renaming:\")\n",
        "print(df_2025.columns)\n",
        "print(\"\\nColumns in df_2024 after renaming:\")\n",
        "print(df_2024.columns)\n",
        "print(\"\\nColumns in df_2023 after renaming:\")\n",
        "df_2023.columns"
      ],
      "metadata": {
        "colab": {
          "base_uri": "https://localhost:8080/"
        },
        "id": "rQZlpRb2XBsO",
        "outputId": "5d783799-142d-47f1-af79-9234cbab7dd2"
      },
      "execution_count": 18,
      "outputs": [
        {
          "output_type": "stream",
          "name": "stdout",
          "text": [
            "\n",
            "Columns in df_2025 after renaming:\n",
            "Index(['Stay Year Calendar', 'Stay YYYYMM', 'Stay DOW Text', 'Stay Date',\n",
            "       'Booking Date', 'MARSHA Code', 'Market Category',\n",
            "       'Market Segment Name for Report', 'Market Prfx Name for Report',\n",
            "       'Rate Program Code', 'Rate Program Name', 'Channel Aggregate Name',\n",
            "       'Room Pool Code', 'RoomNights', 'ADR', ' Revenue (Net) '],\n",
            "      dtype='object')\n",
            "\n",
            "Columns in df_2024 after renaming:\n",
            "Index(['Stay Year Calendar', 'Stay YYYYMM', 'Stay DOW Text', 'Stay Date',\n",
            "       'MARSHA Code', 'Market Category', 'Market Segment Name for Report',\n",
            "       'Market Prfx Name for Report', 'Rate Program Code', 'Rate Program Name',\n",
            "       'Room Pool Code', 'RoomNights', 'ADR', 'Revenue'],\n",
            "      dtype='object')\n",
            "\n",
            "Columns in df_2023 after renaming:\n"
          ]
        },
        {
          "output_type": "execute_result",
          "data": {
            "text/plain": [
              "Index(['Stay Year Calendar', 'Stay YYYYMM', 'Stay DOW Text', 'Stay Date',\n",
              "       'MARSHA Code', 'Market Category', 'Market Segment Name for Report',\n",
              "       'Market Prfx Name for Report', 'Rate Program Code', 'Rate Program Name',\n",
              "       'Room Pool Code', 'RoomNights', 'ADR', 'Revenue'],\n",
              "      dtype='object')"
            ]
          },
          "metadata": {},
          "execution_count": 18
        }
      ]
    },
    {
      "cell_type": "code",
      "source": [
        "df_2023.info()\n",
        "df_2024.info()\n",
        "df_2025.info()"
      ],
      "metadata": {
        "colab": {
          "base_uri": "https://localhost:8080/"
        },
        "id": "QUUWcDm0Xdn9",
        "outputId": "d799b4f8-7d0c-4e54-95f9-66a39c571d0d"
      },
      "execution_count": 19,
      "outputs": [
        {
          "output_type": "stream",
          "name": "stdout",
          "text": [
            "<class 'pandas.core.frame.DataFrame'>\n",
            "RangeIndex: 202289 entries, 0 to 202288\n",
            "Data columns (total 14 columns):\n",
            " #   Column                          Non-Null Count   Dtype \n",
            "---  ------                          --------------   ----- \n",
            " 0   Stay Year Calendar              202289 non-null  int64 \n",
            " 1   Stay YYYYMM                     202289 non-null  int64 \n",
            " 2   Stay DOW Text                   202289 non-null  object\n",
            " 3   Stay Date                       202289 non-null  object\n",
            " 4   MARSHA Code                     202289 non-null  object\n",
            " 5   Market Category                 202289 non-null  object\n",
            " 6   Market Segment Name for Report  202289 non-null  object\n",
            " 7   Market Prfx Name for Report     202289 non-null  object\n",
            " 8   Rate Program Code               202289 non-null  object\n",
            " 9   Rate Program Name               202289 non-null  object\n",
            " 10  Room Pool Code                  202289 non-null  object\n",
            " 11  RoomNights                      202289 non-null  int64 \n",
            " 12  ADR                             202289 non-null  object\n",
            " 13  Revenue                         202289 non-null  object\n",
            "dtypes: int64(3), object(11)\n",
            "memory usage: 21.6+ MB\n",
            "<class 'pandas.core.frame.DataFrame'>\n",
            "RangeIndex: 228640 entries, 0 to 228639\n",
            "Data columns (total 14 columns):\n",
            " #   Column                          Non-Null Count   Dtype \n",
            "---  ------                          --------------   ----- \n",
            " 0   Stay Year Calendar              228640 non-null  int64 \n",
            " 1   Stay YYYYMM                     228640 non-null  int64 \n",
            " 2   Stay DOW Text                   228640 non-null  object\n",
            " 3   Stay Date                       228640 non-null  object\n",
            " 4   MARSHA Code                     228640 non-null  object\n",
            " 5   Market Category                 228640 non-null  object\n",
            " 6   Market Segment Name for Report  228640 non-null  object\n",
            " 7   Market Prfx Name for Report     228640 non-null  object\n",
            " 8   Rate Program Code               228640 non-null  object\n",
            " 9   Rate Program Name               228640 non-null  object\n",
            " 10  Room Pool Code                  228640 non-null  object\n",
            " 11  RoomNights                      228640 non-null  int64 \n",
            " 12  ADR                             228640 non-null  object\n",
            " 13  Revenue                         228640 non-null  object\n",
            "dtypes: int64(3), object(11)\n",
            "memory usage: 24.4+ MB\n",
            "<class 'pandas.core.frame.DataFrame'>\n",
            "RangeIndex: 196448 entries, 0 to 196447\n",
            "Data columns (total 16 columns):\n",
            " #   Column                          Non-Null Count   Dtype  \n",
            "---  ------                          --------------   -----  \n",
            " 0   Stay Year Calendar              196448 non-null  int64  \n",
            " 1   Stay YYYYMM                     196448 non-null  int64  \n",
            " 2   Stay DOW Text                   196448 non-null  object \n",
            " 3   Stay Date                       196448 non-null  object \n",
            " 4   Booking Date                    196448 non-null  object \n",
            " 5   MARSHA Code                     196448 non-null  object \n",
            " 6   Market Category                 196448 non-null  object \n",
            " 7   Market Segment Name for Report  196448 non-null  object \n",
            " 8   Market Prfx Name for Report     196448 non-null  object \n",
            " 9   Rate Program Code               196448 non-null  object \n",
            " 10  Rate Program Name               196448 non-null  object \n",
            " 11  Channel Aggregate Name          196448 non-null  object \n",
            " 12  Room Pool Code                  196448 non-null  object \n",
            " 13  RoomNights                      196448 non-null  int64  \n",
            " 14  ADR                             163680 non-null  float64\n",
            " 15   Revenue (Net)                  196448 non-null  object \n",
            "dtypes: float64(1), int64(3), object(12)\n",
            "memory usage: 24.0+ MB\n"
          ]
        }
      ]
    },
    {
      "cell_type": "markdown",
      "source": [
        "clean up values in ADR and Revenue to remove \",\" and spaces in df_2023, df_2024, and df_2025\n"
      ],
      "metadata": {
        "id": "FV9EoUJGgKPM"
      }
    },
    {
      "cell_type": "code",
      "source": [
        "df_2025.rename(columns={' Revenue (Net)': 'Revenue'}, inplace=True)"
      ],
      "metadata": {
        "id": "ruLCw23ShG_r"
      },
      "execution_count": 26,
      "outputs": []
    },
    {
      "cell_type": "code",
      "source": [],
      "metadata": {
        "id": "QKxvuwVNirMX"
      },
      "execution_count": null,
      "outputs": []
    },
    {
      "cell_type": "code",
      "source": [
        "df_2025.rename(columns={'Revenue (Net)': 'Revenue'}, inplace=True)"
      ],
      "metadata": {
        "id": "nzNjRTRehuAU"
      },
      "execution_count": null,
      "outputs": []
    },
    {
      "cell_type": "code",
      "source": [
        "df_2025.info()"
      ],
      "metadata": {
        "colab": {
          "base_uri": "https://localhost:8080/"
        },
        "id": "Bgo6zOt3hmfd",
        "outputId": "ba69cdb7-5228-4489-e123-f5719837a876"
      },
      "execution_count": 27,
      "outputs": [
        {
          "output_type": "stream",
          "name": "stdout",
          "text": [
            "<class 'pandas.core.frame.DataFrame'>\n",
            "RangeIndex: 196448 entries, 0 to 196447\n",
            "Data columns (total 16 columns):\n",
            " #   Column                          Non-Null Count   Dtype  \n",
            "---  ------                          --------------   -----  \n",
            " 0   Stay Year Calendar              196448 non-null  int64  \n",
            " 1   Stay YYYYMM                     196448 non-null  int64  \n",
            " 2   Stay DOW Text                   196448 non-null  object \n",
            " 3   Stay Date                       196448 non-null  object \n",
            " 4   Booking Date                    196448 non-null  object \n",
            " 5   MARSHA Code                     196448 non-null  object \n",
            " 6   Market Category                 196448 non-null  object \n",
            " 7   Market Segment Name for Report  196448 non-null  object \n",
            " 8   Market Prfx Name for Report     196448 non-null  object \n",
            " 9   Rate Program Code               196448 non-null  object \n",
            " 10  Rate Program Name               196448 non-null  object \n",
            " 11  Channel Aggregate Name          196448 non-null  object \n",
            " 12  Room Pool Code                  196448 non-null  object \n",
            " 13  RoomNights                      196448 non-null  int64  \n",
            " 14  ADR                             163680 non-null  float64\n",
            " 15   Revenue (Net)                  196448 non-null  object \n",
            "dtypes: float64(1), int64(3), object(12)\n",
            "memory usage: 24.0+ MB\n"
          ]
        }
      ]
    },
    {
      "cell_type": "markdown",
      "source": [
        "Convert columns ADR and Revenue to float in df_2023, df_2024, and df_2025"
      ],
      "metadata": {
        "id": "HK3OYND-f0rV"
      }
    },
    {
      "cell_type": "code",
      "source": [
        "df_2025.head()"
      ],
      "metadata": {
        "colab": {
          "base_uri": "https://localhost:8080/",
          "height": 451
        },
        "id": "mG7Rf_t0iJQP",
        "outputId": "d5dd9a05-1232-4810-d04e-62065950fa3b"
      },
      "execution_count": 29,
      "outputs": [
        {
          "output_type": "execute_result",
          "data": {
            "text/plain": [
              "   Stay Year Calendar  Stay YYYYMM Stay DOW Text Stay Date Booking Date  \\\n",
              "0                2025       202501           WED  1-Jan-25    28-Nov-23   \n",
              "1                2025       202501           WED  1-Jan-25    12-Jan-24   \n",
              "2                2025       202501           WED  1-Jan-25    14-Jan-24   \n",
              "3                2025       202501           WED  1-Jan-25    14-Jan-24   \n",
              "4                2025       202501           WED  1-Jan-25    17-Jan-24   \n",
              "\n",
              "  MARSHA Code Market Category Market Segment Name for Report  \\\n",
              "0       NYCRI   COMPLIMENTARY                 Transient Comp   \n",
              "1       PHLRI       TRANSIENT                         Retail   \n",
              "2       NYCPK       TRANSIENT              Bonvoy Redemption   \n",
              "3       NYCPK       TRANSIENT              Bonvoy Redemption   \n",
              "4       NYCMD       TRANSIENT                         Retail   \n",
              "\n",
              "  Market Prfx Name for Report Rate Program Code   Rate Program Name  \\\n",
              "0            62 Complimentary              COMB       COMPLIMENTARY   \n",
              "1          12 Standard Retail              REGA        REGULAR RATE   \n",
              "2        25 Bonvoy Redemption              MRYA          REDEMPTION   \n",
              "3        25 Bonvoy Redemption              MRYC          REDEMPTION   \n",
              "4          12 Standard Retail              RMOK  MEMBER RETAIL RATE   \n",
              "\n",
              "  Channel Aggregate Name Room Pool Code  RoomNights    ADR  Revenue (Net)   \n",
              "0               Property           STKT           1    0.0            -     \n",
              "1               Property           STDD           1    0.0            -     \n",
              "2           Marriott.com           GENR           1  100.0             100  \n",
              "3           Marriott.com           DBDB           1  100.0             100  \n",
              "4           Marriott.com           KSTE           1  646.0             646  "
            ],
            "text/html": [
              "\n",
              "  <div id=\"df-4b952772-3d2c-4718-a1a5-24853e8c4cc9\" class=\"colab-df-container\">\n",
              "    <div>\n",
              "<style scoped>\n",
              "    .dataframe tbody tr th:only-of-type {\n",
              "        vertical-align: middle;\n",
              "    }\n",
              "\n",
              "    .dataframe tbody tr th {\n",
              "        vertical-align: top;\n",
              "    }\n",
              "\n",
              "    .dataframe thead th {\n",
              "        text-align: right;\n",
              "    }\n",
              "</style>\n",
              "<table border=\"1\" class=\"dataframe\">\n",
              "  <thead>\n",
              "    <tr style=\"text-align: right;\">\n",
              "      <th></th>\n",
              "      <th>Stay Year Calendar</th>\n",
              "      <th>Stay YYYYMM</th>\n",
              "      <th>Stay DOW Text</th>\n",
              "      <th>Stay Date</th>\n",
              "      <th>Booking Date</th>\n",
              "      <th>MARSHA Code</th>\n",
              "      <th>Market Category</th>\n",
              "      <th>Market Segment Name for Report</th>\n",
              "      <th>Market Prfx Name for Report</th>\n",
              "      <th>Rate Program Code</th>\n",
              "      <th>Rate Program Name</th>\n",
              "      <th>Channel Aggregate Name</th>\n",
              "      <th>Room Pool Code</th>\n",
              "      <th>RoomNights</th>\n",
              "      <th>ADR</th>\n",
              "      <th>Revenue (Net)</th>\n",
              "    </tr>\n",
              "  </thead>\n",
              "  <tbody>\n",
              "    <tr>\n",
              "      <th>0</th>\n",
              "      <td>2025</td>\n",
              "      <td>202501</td>\n",
              "      <td>WED</td>\n",
              "      <td>1-Jan-25</td>\n",
              "      <td>28-Nov-23</td>\n",
              "      <td>NYCRI</td>\n",
              "      <td>COMPLIMENTARY</td>\n",
              "      <td>Transient Comp</td>\n",
              "      <td>62 Complimentary</td>\n",
              "      <td>COMB</td>\n",
              "      <td>COMPLIMENTARY</td>\n",
              "      <td>Property</td>\n",
              "      <td>STKT</td>\n",
              "      <td>1</td>\n",
              "      <td>0.0</td>\n",
              "      <td>-</td>\n",
              "    </tr>\n",
              "    <tr>\n",
              "      <th>1</th>\n",
              "      <td>2025</td>\n",
              "      <td>202501</td>\n",
              "      <td>WED</td>\n",
              "      <td>1-Jan-25</td>\n",
              "      <td>12-Jan-24</td>\n",
              "      <td>PHLRI</td>\n",
              "      <td>TRANSIENT</td>\n",
              "      <td>Retail</td>\n",
              "      <td>12 Standard Retail</td>\n",
              "      <td>REGA</td>\n",
              "      <td>REGULAR RATE</td>\n",
              "      <td>Property</td>\n",
              "      <td>STDD</td>\n",
              "      <td>1</td>\n",
              "      <td>0.0</td>\n",
              "      <td>-</td>\n",
              "    </tr>\n",
              "    <tr>\n",
              "      <th>2</th>\n",
              "      <td>2025</td>\n",
              "      <td>202501</td>\n",
              "      <td>WED</td>\n",
              "      <td>1-Jan-25</td>\n",
              "      <td>14-Jan-24</td>\n",
              "      <td>NYCPK</td>\n",
              "      <td>TRANSIENT</td>\n",
              "      <td>Bonvoy Redemption</td>\n",
              "      <td>25 Bonvoy Redemption</td>\n",
              "      <td>MRYA</td>\n",
              "      <td>REDEMPTION</td>\n",
              "      <td>Marriott.com</td>\n",
              "      <td>GENR</td>\n",
              "      <td>1</td>\n",
              "      <td>100.0</td>\n",
              "      <td>100</td>\n",
              "    </tr>\n",
              "    <tr>\n",
              "      <th>3</th>\n",
              "      <td>2025</td>\n",
              "      <td>202501</td>\n",
              "      <td>WED</td>\n",
              "      <td>1-Jan-25</td>\n",
              "      <td>14-Jan-24</td>\n",
              "      <td>NYCPK</td>\n",
              "      <td>TRANSIENT</td>\n",
              "      <td>Bonvoy Redemption</td>\n",
              "      <td>25 Bonvoy Redemption</td>\n",
              "      <td>MRYC</td>\n",
              "      <td>REDEMPTION</td>\n",
              "      <td>Marriott.com</td>\n",
              "      <td>DBDB</td>\n",
              "      <td>1</td>\n",
              "      <td>100.0</td>\n",
              "      <td>100</td>\n",
              "    </tr>\n",
              "    <tr>\n",
              "      <th>4</th>\n",
              "      <td>2025</td>\n",
              "      <td>202501</td>\n",
              "      <td>WED</td>\n",
              "      <td>1-Jan-25</td>\n",
              "      <td>17-Jan-24</td>\n",
              "      <td>NYCMD</td>\n",
              "      <td>TRANSIENT</td>\n",
              "      <td>Retail</td>\n",
              "      <td>12 Standard Retail</td>\n",
              "      <td>RMOK</td>\n",
              "      <td>MEMBER RETAIL RATE</td>\n",
              "      <td>Marriott.com</td>\n",
              "      <td>KSTE</td>\n",
              "      <td>1</td>\n",
              "      <td>646.0</td>\n",
              "      <td>646</td>\n",
              "    </tr>\n",
              "  </tbody>\n",
              "</table>\n",
              "</div>\n",
              "    <div class=\"colab-df-buttons\">\n",
              "\n",
              "  <div class=\"colab-df-container\">\n",
              "    <button class=\"colab-df-convert\" onclick=\"convertToInteractive('df-4b952772-3d2c-4718-a1a5-24853e8c4cc9')\"\n",
              "            title=\"Convert this dataframe to an interactive table.\"\n",
              "            style=\"display:none;\">\n",
              "\n",
              "  <svg xmlns=\"http://www.w3.org/2000/svg\" height=\"24px\" viewBox=\"0 -960 960 960\">\n",
              "    <path d=\"M120-120v-720h720v720H120Zm60-500h600v-160H180v160Zm220 220h160v-160H400v160Zm0 220h160v-160H400v160ZM180-400h160v-160H180v160Zm440 0h160v-160H620v160ZM180-180h160v-160H180v160Zm440 0h160v-160H620v160Z\"/>\n",
              "  </svg>\n",
              "    </button>\n",
              "\n",
              "  <style>\n",
              "    .colab-df-container {\n",
              "      display:flex;\n",
              "      gap: 12px;\n",
              "    }\n",
              "\n",
              "    .colab-df-convert {\n",
              "      background-color: #E8F0FE;\n",
              "      border: none;\n",
              "      border-radius: 50%;\n",
              "      cursor: pointer;\n",
              "      display: none;\n",
              "      fill: #1967D2;\n",
              "      height: 32px;\n",
              "      padding: 0 0 0 0;\n",
              "      width: 32px;\n",
              "    }\n",
              "\n",
              "    .colab-df-convert:hover {\n",
              "      background-color: #E2EBFA;\n",
              "      box-shadow: 0px 1px 2px rgba(60, 64, 67, 0.3), 0px 1px 3px 1px rgba(60, 64, 67, 0.15);\n",
              "      fill: #174EA6;\n",
              "    }\n",
              "\n",
              "    .colab-df-buttons div {\n",
              "      margin-bottom: 4px;\n",
              "    }\n",
              "\n",
              "    [theme=dark] .colab-df-convert {\n",
              "      background-color: #3B4455;\n",
              "      fill: #D2E3FC;\n",
              "    }\n",
              "\n",
              "    [theme=dark] .colab-df-convert:hover {\n",
              "      background-color: #434B5C;\n",
              "      box-shadow: 0px 1px 3px 1px rgba(0, 0, 0, 0.15);\n",
              "      filter: drop-shadow(0px 1px 2px rgba(0, 0, 0, 0.3));\n",
              "      fill: #FFFFFF;\n",
              "    }\n",
              "  </style>\n",
              "\n",
              "    <script>\n",
              "      const buttonEl =\n",
              "        document.querySelector('#df-4b952772-3d2c-4718-a1a5-24853e8c4cc9 button.colab-df-convert');\n",
              "      buttonEl.style.display =\n",
              "        google.colab.kernel.accessAllowed ? 'block' : 'none';\n",
              "\n",
              "      async function convertToInteractive(key) {\n",
              "        const element = document.querySelector('#df-4b952772-3d2c-4718-a1a5-24853e8c4cc9');\n",
              "        const dataTable =\n",
              "          await google.colab.kernel.invokeFunction('convertToInteractive',\n",
              "                                                    [key], {});\n",
              "        if (!dataTable) return;\n",
              "\n",
              "        const docLinkHtml = 'Like what you see? Visit the ' +\n",
              "          '<a target=\"_blank\" href=https://colab.research.google.com/notebooks/data_table.ipynb>data table notebook</a>'\n",
              "          + ' to learn more about interactive tables.';\n",
              "        element.innerHTML = '';\n",
              "        dataTable['output_type'] = 'display_data';\n",
              "        await google.colab.output.renderOutput(dataTable, element);\n",
              "        const docLink = document.createElement('div');\n",
              "        docLink.innerHTML = docLinkHtml;\n",
              "        element.appendChild(docLink);\n",
              "      }\n",
              "    </script>\n",
              "  </div>\n",
              "\n",
              "\n",
              "    <div id=\"df-d8185b92-a3a6-4f34-a10c-37ce1c0fb049\">\n",
              "      <button class=\"colab-df-quickchart\" onclick=\"quickchart('df-d8185b92-a3a6-4f34-a10c-37ce1c0fb049')\"\n",
              "                title=\"Suggest charts\"\n",
              "                style=\"display:none;\">\n",
              "\n",
              "<svg xmlns=\"http://www.w3.org/2000/svg\" height=\"24px\"viewBox=\"0 0 24 24\"\n",
              "     width=\"24px\">\n",
              "    <g>\n",
              "        <path d=\"M19 3H5c-1.1 0-2 .9-2 2v14c0 1.1.9 2 2 2h14c1.1 0 2-.9 2-2V5c0-1.1-.9-2-2-2zM9 17H7v-7h2v7zm4 0h-2V7h2v10zm4 0h-2v-4h2v4z\"/>\n",
              "    </g>\n",
              "</svg>\n",
              "      </button>\n",
              "\n",
              "<style>\n",
              "  .colab-df-quickchart {\n",
              "      --bg-color: #E8F0FE;\n",
              "      --fill-color: #1967D2;\n",
              "      --hover-bg-color: #E2EBFA;\n",
              "      --hover-fill-color: #174EA6;\n",
              "      --disabled-fill-color: #AAA;\n",
              "      --disabled-bg-color: #DDD;\n",
              "  }\n",
              "\n",
              "  [theme=dark] .colab-df-quickchart {\n",
              "      --bg-color: #3B4455;\n",
              "      --fill-color: #D2E3FC;\n",
              "      --hover-bg-color: #434B5C;\n",
              "      --hover-fill-color: #FFFFFF;\n",
              "      --disabled-bg-color: #3B4455;\n",
              "      --disabled-fill-color: #666;\n",
              "  }\n",
              "\n",
              "  .colab-df-quickchart {\n",
              "    background-color: var(--bg-color);\n",
              "    border: none;\n",
              "    border-radius: 50%;\n",
              "    cursor: pointer;\n",
              "    display: none;\n",
              "    fill: var(--fill-color);\n",
              "    height: 32px;\n",
              "    padding: 0;\n",
              "    width: 32px;\n",
              "  }\n",
              "\n",
              "  .colab-df-quickchart:hover {\n",
              "    background-color: var(--hover-bg-color);\n",
              "    box-shadow: 0 1px 2px rgba(60, 64, 67, 0.3), 0 1px 3px 1px rgba(60, 64, 67, 0.15);\n",
              "    fill: var(--button-hover-fill-color);\n",
              "  }\n",
              "\n",
              "  .colab-df-quickchart-complete:disabled,\n",
              "  .colab-df-quickchart-complete:disabled:hover {\n",
              "    background-color: var(--disabled-bg-color);\n",
              "    fill: var(--disabled-fill-color);\n",
              "    box-shadow: none;\n",
              "  }\n",
              "\n",
              "  .colab-df-spinner {\n",
              "    border: 2px solid var(--fill-color);\n",
              "    border-color: transparent;\n",
              "    border-bottom-color: var(--fill-color);\n",
              "    animation:\n",
              "      spin 1s steps(1) infinite;\n",
              "  }\n",
              "\n",
              "  @keyframes spin {\n",
              "    0% {\n",
              "      border-color: transparent;\n",
              "      border-bottom-color: var(--fill-color);\n",
              "      border-left-color: var(--fill-color);\n",
              "    }\n",
              "    20% {\n",
              "      border-color: transparent;\n",
              "      border-left-color: var(--fill-color);\n",
              "      border-top-color: var(--fill-color);\n",
              "    }\n",
              "    30% {\n",
              "      border-color: transparent;\n",
              "      border-left-color: var(--fill-color);\n",
              "      border-top-color: var(--fill-color);\n",
              "      border-right-color: var(--fill-color);\n",
              "    }\n",
              "    40% {\n",
              "      border-color: transparent;\n",
              "      border-right-color: var(--fill-color);\n",
              "      border-top-color: var(--fill-color);\n",
              "    }\n",
              "    60% {\n",
              "      border-color: transparent;\n",
              "      border-right-color: var(--fill-color);\n",
              "    }\n",
              "    80% {\n",
              "      border-color: transparent;\n",
              "      border-right-color: var(--fill-color);\n",
              "      border-bottom-color: var(--fill-color);\n",
              "    }\n",
              "    90% {\n",
              "      border-color: transparent;\n",
              "      border-bottom-color: var(--fill-color);\n",
              "    }\n",
              "  }\n",
              "</style>\n",
              "\n",
              "      <script>\n",
              "        async function quickchart(key) {\n",
              "          const quickchartButtonEl =\n",
              "            document.querySelector('#' + key + ' button');\n",
              "          quickchartButtonEl.disabled = true;  // To prevent multiple clicks.\n",
              "          quickchartButtonEl.classList.add('colab-df-spinner');\n",
              "          try {\n",
              "            const charts = await google.colab.kernel.invokeFunction(\n",
              "                'suggestCharts', [key], {});\n",
              "          } catch (error) {\n",
              "            console.error('Error during call to suggestCharts:', error);\n",
              "          }\n",
              "          quickchartButtonEl.classList.remove('colab-df-spinner');\n",
              "          quickchartButtonEl.classList.add('colab-df-quickchart-complete');\n",
              "        }\n",
              "        (() => {\n",
              "          let quickchartButtonEl =\n",
              "            document.querySelector('#df-d8185b92-a3a6-4f34-a10c-37ce1c0fb049 button');\n",
              "          quickchartButtonEl.style.display =\n",
              "            google.colab.kernel.accessAllowed ? 'block' : 'none';\n",
              "        })();\n",
              "      </script>\n",
              "    </div>\n",
              "\n",
              "    </div>\n",
              "  </div>\n"
            ],
            "application/vnd.google.colaboratory.intrinsic+json": {
              "type": "dataframe",
              "variable_name": "df_2025"
            }
          },
          "metadata": {},
          "execution_count": 29
        }
      ]
    },
    {
      "cell_type": "code",
      "source": [
        "# prompt: find number of characters in each column name in df_2025\n",
        "\n",
        "# Get the column names\n",
        "column_names = df_2025.columns\n",
        "\n",
        "# Calculate the number of characters for each column name\n",
        "char_counts = {col: len(col) for col in column_names}\n",
        "\n",
        "# Print the character counts\n",
        "print(\"\\nNumber of characters in each column name of df_2025:\")\n",
        "for col, count in char_counts.items():\n",
        "  print(f\"'{col}': {count} characters\")\n"
      ],
      "metadata": {
        "colab": {
          "base_uri": "https://localhost:8080/"
        },
        "id": "KjULqRl6iTkB",
        "outputId": "4d2faf19-f97d-4892-d4b7-f1df254a02f7"
      },
      "execution_count": 30,
      "outputs": [
        {
          "output_type": "stream",
          "name": "stdout",
          "text": [
            "\n",
            "Number of characters in each column name of df_2025:\n",
            "'Stay Year Calendar': 18 characters\n",
            "'Stay YYYYMM': 11 characters\n",
            "'Stay DOW Text': 13 characters\n",
            "'Stay Date': 9 characters\n",
            "'Booking Date': 12 characters\n",
            "'MARSHA Code': 11 characters\n",
            "'Market Category': 15 characters\n",
            "'Market Segment Name for Report': 30 characters\n",
            "'Market Prfx Name for Report': 27 characters\n",
            "'Rate Program Code': 17 characters\n",
            "'Rate Program Name': 17 characters\n",
            "'Channel Aggregate Name': 22 characters\n",
            "'Room Pool Code': 14 characters\n",
            "'RoomNights': 10 characters\n",
            "'ADR': 3 characters\n",
            "' Revenue (Net) ': 15 characters\n"
          ]
        }
      ]
    },
    {
      "cell_type": "code",
      "source": [],
      "metadata": {
        "id": "n63S4ZvoiwMD"
      },
      "execution_count": null,
      "outputs": []
    },
    {
      "cell_type": "code",
      "source": [
        "df_2025.rename(columns={' Revenue (Net) ': 'Revenue'}, inplace=True)"
      ],
      "metadata": {
        "id": "nmypAqgwisUT"
      },
      "execution_count": 31,
      "outputs": []
    },
    {
      "cell_type": "code",
      "source": [
        "olumn_names = df_2025.columns\n",
        "\n",
        "# Calculate the number of characters for each column name\n",
        "char_counts = {col: len(col) for col in column_names}\n",
        "\n",
        "# Print the character counts\n",
        "print(\"\\nNumber of characters in each column name of df_2025:\")\n",
        "for col, count in char_counts.items():\n",
        "  print(f\"'{col}': {count} characters\")"
      ],
      "metadata": {
        "colab": {
          "base_uri": "https://localhost:8080/"
        },
        "id": "eJ3tQJLJixVU",
        "outputId": "c34e93b3-e6b2-4ace-de4a-e8fa9195989e"
      },
      "execution_count": 32,
      "outputs": [
        {
          "output_type": "stream",
          "name": "stdout",
          "text": [
            "\n",
            "Number of characters in each column name of df_2025:\n",
            "'Stay Year Calendar': 18 characters\n",
            "'Stay YYYYMM': 11 characters\n",
            "'Stay DOW Text': 13 characters\n",
            "'Stay Date': 9 characters\n",
            "'Booking Date': 12 characters\n",
            "'MARSHA Code': 11 characters\n",
            "'Market Category': 15 characters\n",
            "'Market Segment Name for Report': 30 characters\n",
            "'Market Prfx Name for Report': 27 characters\n",
            "'Rate Program Code': 17 characters\n",
            "'Rate Program Name': 17 characters\n",
            "'Channel Aggregate Name': 22 characters\n",
            "'Room Pool Code': 14 characters\n",
            "'RoomNights': 10 characters\n",
            "'ADR': 3 characters\n",
            "' Revenue (Net) ': 15 characters\n"
          ]
        }
      ]
    },
    {
      "cell_type": "code",
      "source": [
        "# prompt: find all column names which have \"(Net)\" in df_2025\n",
        "\n",
        "net_columns = [col for col in df_2025.columns if ' Revenue (Net) ' in col]\n",
        "print(\"Columns in df_2025 containing '(Net)':\", net_columns)"
      ],
      "metadata": {
        "colab": {
          "base_uri": "https://localhost:8080/"
        },
        "id": "zAkU37OZi31V",
        "outputId": "9d7dea92-9aed-416d-997f-36575da077fa"
      },
      "execution_count": 34,
      "outputs": [
        {
          "output_type": "stream",
          "name": "stdout",
          "text": [
            "Columns in df_2025 containing '(Net)': []\n"
          ]
        }
      ]
    },
    {
      "cell_type": "code",
      "source": [
        "# prompt: what's the last column name in df_2025\n",
        "\n",
        "df_2025.columns[-1]\n",
        "df_2025.info()\n",
        "df_2024.info()\n",
        "df_2023.info()"
      ],
      "metadata": {
        "colab": {
          "base_uri": "https://localhost:8080/"
        },
        "id": "nwSkOka4jYTZ",
        "outputId": "67e65685-b7b6-432c-e28e-50c9936037d2"
      },
      "execution_count": 38,
      "outputs": [
        {
          "output_type": "stream",
          "name": "stdout",
          "text": [
            "<class 'pandas.core.frame.DataFrame'>\n",
            "RangeIndex: 196448 entries, 0 to 196447\n",
            "Data columns (total 16 columns):\n",
            " #   Column                          Non-Null Count   Dtype  \n",
            "---  ------                          --------------   -----  \n",
            " 0   Stay Year Calendar              196448 non-null  int64  \n",
            " 1   Stay YYYYMM                     196448 non-null  int64  \n",
            " 2   Stay DOW Text                   196448 non-null  object \n",
            " 3   Stay Date                       196448 non-null  object \n",
            " 4   Booking Date                    196448 non-null  object \n",
            " 5   MARSHA Code                     196448 non-null  object \n",
            " 6   Market Category                 196448 non-null  object \n",
            " 7   Market Segment Name for Report  196448 non-null  object \n",
            " 8   Market Prfx Name for Report     196448 non-null  object \n",
            " 9   Rate Program Code               196448 non-null  object \n",
            " 10  Rate Program Name               196448 non-null  object \n",
            " 11  Channel Aggregate Name          196448 non-null  object \n",
            " 12  Room Pool Code                  196448 non-null  object \n",
            " 13  RoomNights                      196448 non-null  int64  \n",
            " 14  ADR                             163680 non-null  float64\n",
            " 15  Revenue                         196448 non-null  object \n",
            "dtypes: float64(1), int64(3), object(12)\n",
            "memory usage: 24.0+ MB\n",
            "<class 'pandas.core.frame.DataFrame'>\n",
            "RangeIndex: 228640 entries, 0 to 228639\n",
            "Data columns (total 14 columns):\n",
            " #   Column                          Non-Null Count   Dtype  \n",
            "---  ------                          --------------   -----  \n",
            " 0   Stay Year Calendar              228640 non-null  int64  \n",
            " 1   Stay YYYYMM                     228640 non-null  int64  \n",
            " 2   Stay DOW Text                   228640 non-null  object \n",
            " 3   Stay Date                       228640 non-null  object \n",
            " 4   MARSHA Code                     228640 non-null  object \n",
            " 5   Market Category                 228640 non-null  object \n",
            " 6   Market Segment Name for Report  228640 non-null  object \n",
            " 7   Market Prfx Name for Report     228640 non-null  object \n",
            " 8   Rate Program Code               228640 non-null  object \n",
            " 9   Rate Program Name               228640 non-null  object \n",
            " 10  Room Pool Code                  228640 non-null  object \n",
            " 11  RoomNights                      228640 non-null  int64  \n",
            " 12  ADR                             228640 non-null  float64\n",
            " 13  Revenue                         228640 non-null  float64\n",
            "dtypes: float64(2), int64(3), object(9)\n",
            "memory usage: 24.4+ MB\n",
            "<class 'pandas.core.frame.DataFrame'>\n",
            "RangeIndex: 202289 entries, 0 to 202288\n",
            "Data columns (total 14 columns):\n",
            " #   Column                          Non-Null Count   Dtype  \n",
            "---  ------                          --------------   -----  \n",
            " 0   Stay Year Calendar              202289 non-null  int64  \n",
            " 1   Stay YYYYMM                     202289 non-null  int64  \n",
            " 2   Stay DOW Text                   202289 non-null  object \n",
            " 3   Stay Date                       202289 non-null  object \n",
            " 4   MARSHA Code                     202289 non-null  object \n",
            " 5   Market Category                 202289 non-null  object \n",
            " 6   Market Segment Name for Report  202289 non-null  object \n",
            " 7   Market Prfx Name for Report     202289 non-null  object \n",
            " 8   Rate Program Code               202289 non-null  object \n",
            " 9   Rate Program Name               202289 non-null  object \n",
            " 10  Room Pool Code                  202289 non-null  object \n",
            " 11  RoomNights                      202289 non-null  int64  \n",
            " 12  ADR                             202289 non-null  float64\n",
            " 13  Revenue                         202289 non-null  float64\n",
            "dtypes: float64(2), int64(3), object(9)\n",
            "memory usage: 21.6+ MB\n"
          ]
        }
      ]
    },
    {
      "cell_type": "code",
      "source": [
        "# prompt: remove ',' and space from all values in Revenue in df_2025\n",
        "\n",
        "df_2025['Revenue'] = df_2025['Revenue'].astype(str).str.replace('[,\\s]', '', regex=True)\n"
      ],
      "metadata": {
        "id": "Qy5lrGSCj6Bl"
      },
      "execution_count": 39,
      "outputs": []
    },
    {
      "cell_type": "code",
      "source": [
        "# prompt: convert  column Revenue to type float in df_2025\n",
        "\n",
        "df_2025['Revenue'] = pd.to_numeric(df_2025['Revenue'], errors='coerce')"
      ],
      "metadata": {
        "id": "ffSeWCq7kJaK"
      },
      "execution_count": 40,
      "outputs": []
    },
    {
      "cell_type": "code",
      "source": [
        "df_2025.info()\n",
        "df_2024.info()\n",
        "df_2023.info()\n"
      ],
      "metadata": {
        "colab": {
          "base_uri": "https://localhost:8080/"
        },
        "id": "-oRP9gEpkX1i",
        "outputId": "629b665e-a7db-483b-a2ca-771871bf2d9c"
      },
      "execution_count": 42,
      "outputs": [
        {
          "output_type": "stream",
          "name": "stdout",
          "text": [
            "<class 'pandas.core.frame.DataFrame'>\n",
            "RangeIndex: 196448 entries, 0 to 196447\n",
            "Data columns (total 16 columns):\n",
            " #   Column                          Non-Null Count   Dtype  \n",
            "---  ------                          --------------   -----  \n",
            " 0   Stay Year Calendar              196448 non-null  int64  \n",
            " 1   Stay YYYYMM                     196448 non-null  int64  \n",
            " 2   Stay DOW Text                   196448 non-null  object \n",
            " 3   Stay Date                       196448 non-null  object \n",
            " 4   Booking Date                    196448 non-null  object \n",
            " 5   MARSHA Code                     196448 non-null  object \n",
            " 6   Market Category                 196448 non-null  object \n",
            " 7   Market Segment Name for Report  196448 non-null  object \n",
            " 8   Market Prfx Name for Report     196448 non-null  object \n",
            " 9   Rate Program Code               196448 non-null  object \n",
            " 10  Rate Program Name               196448 non-null  object \n",
            " 11  Channel Aggregate Name          196448 non-null  object \n",
            " 12  Room Pool Code                  196448 non-null  object \n",
            " 13  RoomNights                      196448 non-null  int64  \n",
            " 14  ADR                             163680 non-null  float64\n",
            " 15  Revenue                         195844 non-null  float64\n",
            "dtypes: float64(2), int64(3), object(11)\n",
            "memory usage: 24.0+ MB\n",
            "<class 'pandas.core.frame.DataFrame'>\n",
            "RangeIndex: 228640 entries, 0 to 228639\n",
            "Data columns (total 14 columns):\n",
            " #   Column                          Non-Null Count   Dtype  \n",
            "---  ------                          --------------   -----  \n",
            " 0   Stay Year Calendar              228640 non-null  int64  \n",
            " 1   Stay YYYYMM                     228640 non-null  int64  \n",
            " 2   Stay DOW Text                   228640 non-null  object \n",
            " 3   Stay Date                       228640 non-null  object \n",
            " 4   MARSHA Code                     228640 non-null  object \n",
            " 5   Market Category                 228640 non-null  object \n",
            " 6   Market Segment Name for Report  228640 non-null  object \n",
            " 7   Market Prfx Name for Report     228640 non-null  object \n",
            " 8   Rate Program Code               228640 non-null  object \n",
            " 9   Rate Program Name               228640 non-null  object \n",
            " 10  Room Pool Code                  228640 non-null  object \n",
            " 11  RoomNights                      228640 non-null  int64  \n",
            " 12  ADR                             228640 non-null  float64\n",
            " 13  Revenue                         228640 non-null  float64\n",
            "dtypes: float64(2), int64(3), object(9)\n",
            "memory usage: 24.4+ MB\n",
            "<class 'pandas.core.frame.DataFrame'>\n",
            "RangeIndex: 202289 entries, 0 to 202288\n",
            "Data columns (total 14 columns):\n",
            " #   Column                          Non-Null Count   Dtype  \n",
            "---  ------                          --------------   -----  \n",
            " 0   Stay Year Calendar              202289 non-null  int64  \n",
            " 1   Stay YYYYMM                     202289 non-null  int64  \n",
            " 2   Stay DOW Text                   202289 non-null  object \n",
            " 3   Stay Date                       202289 non-null  object \n",
            " 4   MARSHA Code                     202289 non-null  object \n",
            " 5   Market Category                 202289 non-null  object \n",
            " 6   Market Segment Name for Report  202289 non-null  object \n",
            " 7   Market Prfx Name for Report     202289 non-null  object \n",
            " 8   Rate Program Code               202289 non-null  object \n",
            " 9   Rate Program Name               202289 non-null  object \n",
            " 10  Room Pool Code                  202289 non-null  object \n",
            " 11  RoomNights                      202289 non-null  int64  \n",
            " 12  ADR                             202289 non-null  float64\n",
            " 13  Revenue                         202289 non-null  float64\n",
            "dtypes: float64(2), int64(3), object(9)\n",
            "memory usage: 21.6+ MB\n"
          ]
        }
      ]
    }
  ]
}